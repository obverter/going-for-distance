{
 "cells": [
  {
   "cell_type": "code",
   "execution_count": 359,
   "metadata": {},
   "outputs": [],
   "source": [
    "import math\n",
    "from numpy import pi, deg2rad, rad2deg\n",
    "from modsim import *\n",
    "import pandas as pd\n",
    "# install Pint if necessary\n",
    "\n",
    "try:\n",
    "    from pint import UnitRegistry\n",
    "except ImportError:\n",
    "    !pip install pint\n",
    "    \n",
    "# import units\n",
    "from pint import UnitRegistry\n",
    "units = UnitRegistry()"
   ]
  },
  {
   "cell_type": "markdown",
   "metadata": {},
   "source": [
    "Drag Coefficient Calc Stuff"
   ]
  },
  {
   "cell_type": "code",
   "execution_count": 360,
   "metadata": {},
   "outputs": [],
   "source": [
    "download('https://github.com/AllenDowney/ModSim/raw/main/data/' +\n",
    "         'baseball_drag.csv')"
   ]
  },
  {
   "cell_type": "code",
   "execution_count": 361,
   "metadata": {},
   "outputs": [],
   "source": [
    "from pandas import read_csv\n",
    "\n",
    "baseball_drag = read_csv('baseball_drag.csv')"
   ]
  },
  {
   "cell_type": "code",
   "execution_count": 362,
   "metadata": {},
   "outputs": [],
   "source": [
    "mph_to_mps = (1 * units.mph).to(units.m/units.s).magnitude\n",
    "speed = baseball_drag['Velocity in mph'] * mph_to_mps"
   ]
  },
  {
   "cell_type": "code",
   "execution_count": 363,
   "metadata": {},
   "outputs": [],
   "source": [
    "C_d_series = make_series(speed, baseball_drag['Drag coefficient'])"
   ]
  },
  {
   "cell_type": "code",
   "execution_count": 364,
   "metadata": {},
   "outputs": [],
   "source": [
    "drag_interp = interpolate(C_d_series)"
   ]
  },
  {
   "cell_type": "markdown",
   "metadata": {},
   "source": [
    "Constants"
   ]
  },
  {
   "cell_type": "code",
   "execution_count": 365,
   "metadata": {},
   "outputs": [],
   "source": [
    "# baseball mass (kg)\n",
    "BASEBALL_MASS = 0.145\n",
    "\n",
    "# baseballRadius (cm)\n",
    "BASEBALL_RADIUS = 3.683\n",
    "\n",
    "# baseball cross-sectional area m^2\n",
    "CROSS_SECTIONAL_AREA = 0.00426\n",
    "\n",
    "# air density (kg/m^3)\n",
    "P = 1.225\n",
    "\n",
    "# g\n",
    "G = 9.80665\n",
    "\n",
    "CL = 0.22\n"
   ]
  },
  {
   "cell_type": "markdown",
   "metadata": {},
   "source": [
    "Algos"
   ]
  },
  {
   "cell_type": "code",
   "execution_count": 366,
   "metadata": {},
   "outputs": [],
   "source": [
    "# baseball cross-sectional area\n",
    "def CSA(r):\n",
    "    CROSS_SECTIONAL_AREA = 0.25 * math.pi * (2 * radius) ** 2 / 100 ** 2\n",
    "    # CROSS_SECTIONAL_AREA_M2 = CROSS_SECTIONAL_AREA / 100 ** 2\n",
    "    return CROSS_SECTIONAL_AREA_M2\n",
    "\n",
    "# Converting miles per hour to meters per second.\n",
    "def msec(mph):\n",
    "    msec = mph * (1609/3600)\n",
    "    return msec\n",
    "\n",
    "# Converting meters per second to miles per hour.\n",
    "def mphsec(msec):\n",
    "    mphsec = msec * 2.237\n",
    "    return mphsec\n",
    "\n",
    "# Defining a function that takes a mass and returns the gravitational force.\n",
    "def GRAV_FORCE(m):\n",
    "    GRAV_FORCE = m * G\n",
    "    GRAV_FORCE\n",
    "\n",
    "# Defining a function that takes a value in RPM and returns the value in rad/s.\n",
    "def rad_sec(rpm):\n",
    "    rad_sec = rpm * 2 * math.pi / 60\n",
    "    return rad_sec\n",
    "radsec = rad_sec\n",
    "\n",
    "# This function is taking the rotational speed of the baseball and the velocity of the baseball and returning the spin factor.\n",
    "def S(spin):\n",
    "    spin = radsec / v0\n",
    "    return spin\n",
    "\n",
    "# This function is taking the rotational speed of the baseball and the velocity of the baseball and returning the spin factor in meters/sec.\n",
    "def vr_msec(rpm):\n",
    "    rads = rad_sec(rpm)\n",
    "    v = BASEBALL_RADIUS * rads / 100\n",
    "    return v\n",
    "\n",
    "# Taking the radius of the baseball and the rotational speed of the baseball and returning the tangential speed of the baseball.\n",
    "def tangential_speed(radius, rpm):\n",
    "    v = radius * rotational_speed(rpm)\n",
    "    return v\n",
    "\n",
    "# Converting the tangential velocity from meters per second to miles per hour.\n",
    "def vr_mph(rpm):\n",
    "    rads = RAD_SEC(rpm)\n",
    "    v = BASEBALL_RADIUS * rads / 100\n",
    "    v = mphsec(v)\n",
    "    return v\n",
    "\n",
    "# This function is taking the rotational speed of the baseball and the velocity of the baseball and returning the spin factor.\n",
    "def spin_factor(rpm, velocity):\n",
    "    spin_factor = rotational_speed(rpm) / msec(velocity)\n",
    "    return f'The spin factor of {rpm}rpm and {velocity}mph is {round(spin_factor, 4)}'"
   ]
  },
  {
   "cell_type": "markdown",
   "metadata": {},
   "source": [
    "- - -"
   ]
  },
  {
   "cell_type": "markdown",
   "metadata": {},
   "source": [
    "We need the forces that are acting on the baseball:\n",
    "1. Downward\n",
    "2. Backward\n",
    "3. Per spin, wpward or downward and at right angles to the path of the ball\n",
    "   1. Upward if backspin\n",
    "   2. Downward if topspin"
   ]
  },
  {
   "cell_type": "code",
   "execution_count": 435,
   "metadata": {},
   "outputs": [],
   "source": [
    "throw = {\n",
    "    \"mph\": float(\"80.0\"),\n",
    "    \"theta\": float(\"45.0\"),\n",
    "    \"omega_rpm\": float(\"3200.0\"),\n",
    "    \"backspin\": \"0\",\n",
    "    \"time\": float(\"8\"),\n",
    "    \"y0\": float(\"1.75\")\n",
    "}"
   ]
  },
  {
   "cell_type": "code",
   "execution_count": 447,
   "metadata": {},
   "outputs": [],
   "source": [
    "# Converting the spin rate from revolutions per minute to radians per second.\n",
    "throw[\"omega_radsec\"] = throw[\"omega_rpm\"] * 2 * math.pi / 60\n",
    "\n",
    "# Converting the speed from miles per hour to meters per second.\n",
    "throw[\"vt_msec\"] = throw[\"mph\"] * 1609 / 3600\n",
    "\n",
    "# Calculating the x-component of the initial velocity.\n",
    "throw[\"vx\"] = throw[\"vt_msec\"] * math.cos(throw[\"theta\"])\n",
    "\n",
    "# Calculating the y-component of the initial velocity.\n",
    "throw[\"vy\"] = throw[\"vt_msec\"] * math.sin(throw[\"theta\"])\n",
    "\n",
    "# Converting the spin rate from radians per second to miles per hour\n",
    "throw[\"vr_mph\"] = BASEBALL_RADIUS * throw[\"omega_radsec\"] / 100 * 2.237\n",
    "\n",
    "# Converting the spin rate from radians per second to meters per second\n",
    "throw[\"vr_msec\"] = BASEBALL_RADIUS * throw[\"omega_radsec\"] / 100\n",
    "\n",
    "# This is the spin factor in meters per second.\n",
    "throw[\"spin_factor\"] = throw[\"vr_msec\"] / throw[\"vt_msec\"]\n",
    "\n",
    "# Using the interpolation function to find the drag coefficient for the given speed.\n",
    "throw[\"coeff_drag\"] = float(drag_interp(throw[\"vt_msec\"]))\n",
    "\n",
    "# Calculating the drag force.\n",
    "throw[\"drag_force\"] = (\n",
    "    -0.5 * throw[\"coeff_drag\"] * P * CROSS_SECTIONAL_AREA * throw[\"vt_msec\"] ** 2\n",
    ")\n",
    "\n",
    "# Calculating CL from spin force\n",
    "if throw[\"spin_factor\"] < 0.1:\n",
    "    throw[\"lift_coefficient\"] = 1.6 * throw[\"spin_factor\"]\n",
    "else:\n",
    "    throw[\"lift_coefficient\"] = 0.6 * throw[\"spin_factor\"] + 0.1\n",
    "\n",
    "\n",
    "# This is the Magnus force.\n",
    "throw[\"magnus\"] = (\n",
    "    0.5 * throw[\"lift_coefficient\"] * P * CROSS_SECTIONAL_AREA * throw[\"vt_msec\"] ** 2\n",
    ")\n",
    "\n",
    "# This is the x value at t time\n",
    "throw[\"xt\"] = (\n",
    "    throw[\"vx\"] + float(throw[\"vt_msec\"]) * math.cos(throw[\"theta\"]) * throw[\"time\"]\n",
    ")\n",
    "\n",
    "# This is the y value at t time\n",
    "throw[\"yt\"] = (\n",
    "    throw[\"vy\"]\n",
    "    + throw[\"vt_msec\"] * math.sin(throw[\"theta\"]) * throw[\"time\"]\n",
    "    - (0.5 * G * throw[\"time\"] ** 2)\n",
    ")\n",
    "\n",
    "throw[\"fx\"] = (\n",
    "    -math.pi\n",
    "    / 2\n",
    "    * P\n",
    "    * BASEBALL_RADIUS**2\n",
    "    * throw[\"vt_msec\"]\n",
    "    * (throw[\"lift_coefficient\"] * throw[\"vy\"] + throw[\"drag_force\"] * throw[\"vx\"])\n",
    ")\n",
    "\n",
    "if throw[\"backspin\"] == 1:\n",
    "    throw[\"fy\"] = (\n",
    "        -math.pi\n",
    "        / 2\n",
    "        * P\n",
    "        * BASEBALL_RADIUS**2\n",
    "        * throw[\"vt_msec\"]\n",
    "        * (throw[\"lift_coefficient\"] * throw[\"vx\"] - throw[\"drag_force\"] * throw[\"vy\"])\n",
    "    ) - BASEBALL_MASS * G\n",
    "else:\n",
    "    throw[\"fy\"] = (\n",
    "        -math.pi\n",
    "        / 2\n",
    "        * P\n",
    "        * BASEBALL_RADIUS**2\n",
    "        * throw[\"vt_msec\"]\n",
    "        * (-throw[\"lift_coefficient\"] * throw[\"vx\"] - throw[\"drag_force\"] * throw[\"vy\"])\n",
    "    ) - BASEBALL_MASS * G\n",
    "\n",
    "# Time of flight\n",
    "# throw[\"time_of_flight\"] = math.sqrt(-1 * 2 * throw[\"y0\"] / G)\n",
    "\n",
    "# Final Calc for X at T\n",
    "# d_vx/dt = -kv(C_d * v_x + C_l * v_y)\n",
    "# where k = P * pi * r^2/(2m)\n",
    "throw[\"k\"] = P * math.pi * (BASEBALL_RADIUS**2 / 2 * BASEBALL_MASS)\n",
    "throw[\"x_at_t\"] = (-1 * throw[\"k\"] * throw[\"vt_msec\"]) * (\n",
    "    throw[\"coeff_drag\"] * throw[\"vx\"] + throw[\"lift_coefficient\"] * throw[\"vy\"]\n",
    ")\n",
    "\n",
    "\n",
    "\n",
    "# Final Calc for Y at T\n",
    "# d_vy/dt = kv(C_l * v_x - C_d * V_y) - G\n",
    "# where k = d * pi * r^2/(2m)"
   ]
  },
  {
   "cell_type": "code",
   "execution_count": 454,
   "metadata": {},
   "outputs": [],
   "source": [
    "check = {\n",
    "    \"m\": float(\"57.0\"),  #g\n",
    "    \"g\": float(\"9.8\"),  #g\n",
    "    \"d\": float(\"1.21\"),  #g\n",
    "    \"dia\": float(\"65\"),  #mm\n",
    "    \"C_d\": float(\"0.5\"),  #\n",
    "    \"v_0\": float(\"15\"),  #m/s\n",
    "    \"y_0\": float(\"30\")  #m   \n",
    "}"
   ]
  },
  {
   "cell_type": "code",
   "execution_count": 456,
   "metadata": {},
   "outputs": [],
   "source": [
    "# dv/dt = -kC_dv^2-g\n",
    "check[\"k\"] = P * math.pi * ((check[\"dia\"]/2)**2 / 2 * check[\"m\"])\n",
    "check[\"straight_fall_time\"] = (-check[\"k\"] * check[\"C_d\"] * check[\"v_0\"] ** 2)"
   ]
  },
  {
   "cell_type": "code",
   "execution_count": 457,
   "metadata": {},
   "outputs": [
    {
     "data": {
      "text/plain": [
       "{'m': 57.0,\n",
       " 'g': 9.8,\n",
       " 'd': 1.21,\n",
       " 'dia': 65.0,\n",
       " 'C_d': 0.5,\n",
       " 'v_0': 15.0,\n",
       " 'y_0': 30.0,\n",
       " 'k': 115850.40152886669,\n",
       " 'straight_fall_time': -13033170.171997502}"
      ]
     },
     "execution_count": 457,
     "metadata": {},
     "output_type": "execute_result"
    }
   ],
   "source": [
    "check"
   ]
  },
  {
   "cell_type": "code",
   "execution_count": 448,
   "metadata": {},
   "outputs": [
    {
     "data": {
      "text/plain": [
       "{'mph': 80.0,\n",
       " 'theta': 45.0,\n",
       " 'omega_rpm': 3200.0,\n",
       " 'backspin': '0',\n",
       " 'time': 8.0,\n",
       " 'y0': 1.75,\n",
       " 'omega_radsec': 335.1032163829113,\n",
       " 'vt_msec': 35.75555555555555,\n",
       " 'vx': 18.78317955572727,\n",
       " 'vy': 30.4245282438977,\n",
       " 'vr_mph': 27.608721714638925,\n",
       " 'vr_msec': 12.341851459382621,\n",
       " 'spin_factor': 0.3451729743146165,\n",
       " 'coeff_drag': 0.35869630078081605,\n",
       " 'drag_force': -1.1965466924892565,\n",
       " 'lift_coefficient': 0.3071037845887699,\n",
       " 'magnus': 1.0244432878195955,\n",
       " 'xt': 169.0486160015454,\n",
       " 'yt': -39.99204580492068,\n",
       " 'fx': 12255.077669746022,\n",
       " 'fy': -28592.778104105255,\n",
       " 'x_at_t': -2176.1182788591072,\n",
       " 'k': 3.784664666735842}"
      ]
     },
     "execution_count": 448,
     "metadata": {},
     "output_type": "execute_result"
    }
   ],
   "source": [
    "throw"
   ]
  },
  {
   "cell_type": "code",
   "execution_count": 419,
   "metadata": {},
   "outputs": [
    {
     "data": {
      "text/plain": [
       "{'mph': 80.0,\n",
       " 'theta': 45.0,\n",
       " 'omega_rpm': 3200.0,\n",
       " 'backspin': '1',\n",
       " 'time': 8.0,\n",
       " 'omega_radsec': 335.1032163829113,\n",
       " 'vt_msec': 35.75555555555555,\n",
       " 'vx': 18.78317955572727,\n",
       " 'vy': 30.4245282438977,\n",
       " 'vr_mph': 27.608721714638925,\n",
       " 'vr_msec': 12.341851459382621,\n",
       " 'spin_factor': 0.3451729743146165,\n",
       " 'coeff_drag': 0.35869630078081605,\n",
       " 'drag_force': -1.1965466924892565,\n",
       " 'lift_coefficient': 0.3071037845887699,\n",
       " 'magnus': 1.0244432878195955,\n",
       " 'xt': 169.0486160015454,\n",
       " 'yt': -39.99204580492068,\n",
       " 'fx': 12255.077669746022,\n",
       " 'fy': -28592.778104105255}"
      ]
     },
     "execution_count": 419,
     "metadata": {},
     "output_type": "execute_result"
    }
   ],
   "source": [
    "throw"
   ]
  },
  {
   "cell_type": "code",
   "execution_count": 382,
   "metadata": {},
   "outputs": [
    {
     "data": {
      "text/plain": [
       "{'mph': 90.0,\n",
       " 'theta': 45.0,\n",
       " 'omega_rpm': 2200.0,\n",
       " 'backspin': '1',\n",
       " 'time': 5.0,\n",
       " 'omega_radsec': 230.3834612632515,\n",
       " 'vt_msec': 40.225,\n",
       " 'vx': 21.13107700019318,\n",
       " 'vy': 34.22759427438491,\n",
       " 'vr_mph': 18.98099617881426,\n",
       " 'vr_msec': 8.485022878325552,\n",
       " 'coeff_drag': 0.33219228689246594,\n",
       " 'drag_force': -1.4024821487301837,\n",
       " 'magnus': 0.928817690521875,\n",
       " 'xt': 126.7864620011591,\n",
       " 'yt': 82.78244064630945,\n",
       " 'fx': 23209.373227134052}"
      ]
     },
     "execution_count": 382,
     "metadata": {},
     "output_type": "execute_result"
    }
   ],
   "source": [
    "throw"
   ]
  },
  {
   "cell_type": "code",
   "execution_count": 410,
   "metadata": {},
   "outputs": [
    {
     "data": {
      "text/plain": [
       "{'mph': 90.0,\n",
       " 'theta': 45.0,\n",
       " 'omega_rpm': 1200.0,\n",
       " 'backspin': '1',\n",
       " 'time': 8.0,\n",
       " 'omega_radsec': 125.66370614359172,\n",
       " 'vt_msec': 40.225,\n",
       " 'vx': 21.13107700019318,\n",
       " 'vy': 34.22759427438491,\n",
       " 'vr_mph': 10.353270642989596,\n",
       " 'vr_msec': 4.628194297268482,\n",
       " 'spin_factor': 0.11505765810487215,\n",
       " 'coeff_drag': 0.33219228689246594,\n",
       " 'drag_force': -1.4024821487301837,\n",
       " 'lift_coefficient': 0.16903459486292327,\n",
       " 'magnus': 0.7136469182676418,\n",
       " 'xt': 190.17969300173863,\n",
       " 'yt': -5.76445153053578,\n",
       " 'fx': 25040.874869378713,\n",
       " 'fy': -54151.44875526274}"
      ]
     },
     "execution_count": 410,
     "metadata": {},
     "output_type": "execute_result"
    }
   ],
   "source": [
    "throw"
   ]
  },
  {
   "cell_type": "code",
   "execution_count": 413,
   "metadata": {},
   "outputs": [
    {
     "data": {
      "text/plain": [
       "{'mph': 90.0,\n",
       " 'theta': 45.0,\n",
       " 'omega_rpm': 2200.0,\n",
       " 'backspin': '1',\n",
       " 'time': 8.0,\n",
       " 'omega_radsec': 230.3834612632515,\n",
       " 'vt_msec': 40.225,\n",
       " 'vx': 21.13107700019318,\n",
       " 'vy': 34.22759427438491,\n",
       " 'vr_mph': 18.98099617881426,\n",
       " 'vr_msec': 8.485022878325552,\n",
       " 'spin_factor': 0.21093903985893228,\n",
       " 'coeff_drag': 0.33219228689246594,\n",
       " 'drag_force': -1.4024821487301837,\n",
       " 'lift_coefficient': 0.22656342391535936,\n",
       " 'magnus': 0.9565278007172392,\n",
       " 'xt': 190.17969300173863,\n",
       " 'yt': -5.76445153053578,\n",
       " 'fx': 22973.508886462238,\n",
       " 'fy': -55427.77771435881}"
      ]
     },
     "execution_count": 413,
     "metadata": {},
     "output_type": "execute_result"
    }
   ],
   "source": [
    "throw"
   ]
  },
  {
   "cell_type": "code",
   "execution_count": 416,
   "metadata": {},
   "outputs": [
    {
     "data": {
      "text/plain": [
       "{'mph': 80.0,\n",
       " 'theta': 45.0,\n",
       " 'omega_rpm': 3200.0,\n",
       " 'backspin': '1',\n",
       " 'time': 8.0,\n",
       " 'omega_radsec': 335.1032163829113,\n",
       " 'vt_msec': 35.75555555555555,\n",
       " 'vx': 18.78317955572727,\n",
       " 'vy': 30.4245282438977,\n",
       " 'vr_mph': 27.608721714638925,\n",
       " 'vr_msec': 12.341851459382621,\n",
       " 'spin_factor': 0.3451729743146165,\n",
       " 'coeff_drag': 0.35869630078081605,\n",
       " 'drag_force': -1.1965466924892565,\n",
       " 'lift_coefficient': 0.3071037845887699,\n",
       " 'magnus': 1.0244432878195955,\n",
       " 'xt': 169.0486160015454,\n",
       " 'yt': -39.99204580492068,\n",
       " 'fx': 12255.077669746022,\n",
       " 'fy': -39359.59204193811}"
      ]
     },
     "execution_count": 416,
     "metadata": {},
     "output_type": "execute_result"
    }
   ],
   "source": [
    "throw"
   ]
  },
  {
   "cell_type": "code",
   "execution_count": null,
   "metadata": {},
   "outputs": [],
   "source": [
    "# https://arimb.github.io/AMB_Design_Spreadsheet/Equations/AMB_Equations.pdf"
   ]
  },
  {
   "cell_type": "code",
   "execution_count": 343,
   "metadata": {},
   "outputs": [
    {
     "data": {
      "text/plain": [
       "-7058.243203172633"
      ]
     },
     "execution_count": 343,
     "metadata": {},
     "output_type": "execute_result"
    }
   ],
   "source": [
    "math.pi / 2 * P * BASEBALL_RADIUS ** 2 * float(throw['vt_msec']) * ((CL * float(throw['vx'])) - (float(throw['coeff_drag']) * float(throw['vy']))) - (BASEBALL_MASS * G)"
   ]
  },
  {
   "cell_type": "code",
   "execution_count": null,
   "metadata": {},
   "outputs": [],
   "source": [
    "params = Params(\n",
    "    x = 0,               # m\n",
    "    y = release_point, \n",
    "    mph = 90,            # m\n",
    "    angle = 45,          # degree\n",
    "    speed = 44.34,       # m / s\n",
    "\n",
    "    mass = 145e-3,       # kg \n",
    "    diameter = 73e-3,    # m \n",
    "    C_d = 0.33,          # dimensionless\n",
    "\n",
    "    rho = 1.225,         # kg/m**3\n",
    "    g = 9.806,           # m/s**2\n",
    "    t_end = 10,          # s\n",
    ")"
   ]
  },
  {
   "cell_type": "code",
   "execution_count": 1,
   "metadata": {},
   "outputs": [],
   "source": [
    "from numpy import pi, deg2rad\n",
    "\n",
    "def make_system(params):\n",
    "    \n",
    "    # convert angle to degrees\n",
    "    theta = deg2rad(params.angle)\n",
    "    \n",
    "    # compute x and y components of velocity\n",
    "    vx, vy = pol2cart(theta, params.speed)\n",
    "    \n",
    "    # make the initial state\n",
    "    init = State(x=params.x, y=params.y, vx=vx, vy=vy)\n",
    "    \n",
    "    # compute the frontal area\n",
    "    area = pi * (params.diameter/2)**2\n",
    "\n",
    "    return System(params,\n",
    "                  init = init,\n",
    "                  area = area)"
   ]
  },
  {
   "cell_type": "code",
   "execution_count": 2,
   "metadata": {},
   "outputs": [],
   "source": [
    "def slope_func(t, state, system):\n",
    "    x, y, vx, vy = state\n",
    "    mass, g = system.mass, system.g\n",
    "    \n",
    "    V = Vector(vx, vy)\n",
    "    a_drag = drag_force(V, system) / mass\n",
    "    a_grav = g * Vector(0, -1)\n",
    "    \n",
    "    A = a_grav + a_drag\n",
    "    \n",
    "    return V.x, V.y, A.x, A.y"
   ]
  },
  {
   "cell_type": "code",
   "execution_count": 3,
   "metadata": {},
   "outputs": [],
   "source": [
    "def event_func(t, state, system):\n",
    "    x, y, vx, vy = state\n",
    "    return y"
   ]
  },
  {
   "cell_type": "code",
   "execution_count": 4,
   "metadata": {},
   "outputs": [
    {
     "ename": "NameError",
     "evalue": "name 'run_solve_ivp' is not defined",
     "output_type": "error",
     "traceback": [
      "\u001b[0;31m---------------------------------------------------------------------------\u001b[0m",
      "\u001b[0;31mNameError\u001b[0m                                 Traceback (most recent call last)",
      "\u001b[1;32m/Users/bean/Dropbox/code/_projects/baseball/going-for-distance/scratch.ipynb Cell 31\u001b[0m in \u001b[0;36m<cell line: 1>\u001b[0;34m()\u001b[0m\n\u001b[0;32m----> <a href='vscode-notebook-cell:/Users/bean/Dropbox/code/_projects/baseball/going-for-distance/scratch.ipynb#ch0000030?line=0'>1</a>\u001b[0m results, details \u001b[39m=\u001b[39m run_solve_ivp(system, slope_func,\n\u001b[1;32m      <a href='vscode-notebook-cell:/Users/bean/Dropbox/code/_projects/baseball/going-for-distance/scratch.ipynb#ch0000030?line=1'>2</a>\u001b[0m                                  events\u001b[39m=\u001b[39mevent_func)\n\u001b[1;32m      <a href='vscode-notebook-cell:/Users/bean/Dropbox/code/_projects/baseball/going-for-distance/scratch.ipynb#ch0000030?line=2'>3</a>\u001b[0m details\u001b[39m.\u001b[39mmessage\n",
      "\u001b[0;31mNameError\u001b[0m: name 'run_solve_ivp' is not defined"
     ]
    }
   ],
   "source": [
    "results, details = run_solve_ivp(system, slope_func,\n",
    "                                 events=event_func)\n",
    "details.message"
   ]
  },
  {
   "cell_type": "code",
   "execution_count": null,
   "metadata": {},
   "outputs": [],
   "source": [
    "def plot_trajectory(results):\n",
    "    x = results.x\n",
    "    y = results.y\n",
    "    make_series(x, y).plot(label='trajectory')\n",
    "\n",
    "    decorate(xlabel='x position (m)',\n",
    "             ylabel='y position (m)')\n",
    "\n",
    "plot_trajectory(results)"
   ]
  },
  {
   "cell_type": "code",
   "execution_count": null,
   "metadata": {},
   "outputs": [],
   "source": [
    "def drag_force(V, system):\n",
    "    rho, C_d, area = system.rho, system.C_d, system.area\n",
    "    \n",
    "    mag = rho * vector_mag(V)**2 * C_d * area / 2\n",
    "    direction = -vector_hat(V)\n",
    "    f_drag = mag * direction\n",
    "    return f_drag"
   ]
  },
  {
   "cell_type": "code",
   "execution_count": null,
   "metadata": {},
   "outputs": [],
   "source": [
    "vx, vy = system.init.vx, system.init.vy\n",
    "V_test = Vector(vx, vy)\n",
    "f_drag = drag_force(V_test, system)\n",
    "show(f_drag)"
   ]
  },
  {
   "cell_type": "code",
   "execution_count": null,
   "metadata": {},
   "outputs": [],
   "source": [
    "def slope_func(t, state, system):\n",
    "    x, y, vx, vy = state\n",
    "    mass, g = system.mass, system.g\n",
    "    \n",
    "    V = Vector(vx, vy)\n",
    "    a_drag = drag_force(V, system) / mass\n",
    "    a_grav = g * Vector(0, -1)\n",
    "    \n",
    "    A = a_grav + a_drag\n",
    "    \n",
    "    return V.x, V.y, A.x, A.y"
   ]
  },
  {
   "cell_type": "code",
   "execution_count": null,
   "metadata": {},
   "outputs": [],
   "source": [
    "slope_func(0, system.init, system)"
   ]
  },
  {
   "cell_type": "code",
   "execution_count": null,
   "metadata": {},
   "outputs": [],
   "source": [
    "def event_func(t, state, system):\n",
    "    x, y, vx, vy = state\n",
    "    return y"
   ]
  },
  {
   "cell_type": "code",
   "execution_count": null,
   "metadata": {},
   "outputs": [],
   "source": [
    "event_func(0, system.init, system)"
   ]
  },
  {
   "cell_type": "markdown",
   "metadata": {},
   "source": [
    "- - -"
   ]
  },
  {
   "cell_type": "code",
   "execution_count": 141,
   "metadata": {},
   "outputs": [],
   "source": [
    "# Throw parameters\n",
    "# x0 = feet; y0 = release point of hand in meters; v0 = release speed in meters/sec\n",
    "mph = 90\n",
    "x0 = 0\n",
    "y0 = 1.75\n",
    "v0 = msec(mph)\n",
    "rpm = 2200\n",
    "radsec = RAD_SEC(rpm)\n",
    "angle = 45\n",
    "time = 1\n",
    "top = 0"
   ]
  },
  {
   "cell_type": "code",
   "execution_count": 142,
   "metadata": {},
   "outputs": [
    {
     "data": {
      "text/plain": [
       "-1.393687641180017"
      ]
     },
     "execution_count": 142,
     "metadata": {},
     "output_type": "execute_result"
    }
   ],
   "source": [
    "# drag_force = - 0.5 * Cd * density * area * velocity ** 2  \n",
    "# (in Newtons in direction opposite to current velocity)\n",
    "drag_force = -0.5 * Cd * P * CSA(BASEBALL_RADIUS) * v0 ** 2\n",
    "drag_force"
   ]
  },
  {
   "cell_type": "code",
   "execution_count": 131,
   "metadata": {},
   "outputs": [],
   "source": [
    "from os.path import basename, exists\n",
    "\n",
    "def download(url):\n",
    "    filename = basename(url)\n",
    "    if not exists(filename):\n",
    "        from urllib.request import urlretrieve\n",
    "        local, _ = urlretrieve(url, filename)\n",
    "        print('Downloaded ' + local)"
   ]
  },
  {
   "cell_type": "code",
   "execution_count": 132,
   "metadata": {},
   "outputs": [
    {
     "data": {
      "text/plain": [
       "array(0.31504741)"
      ]
     },
     "execution_count": 132,
     "metadata": {},
     "output_type": "execute_result"
    }
   ],
   "source": [
    "# drag coefficient\n",
    "download('https://github.com/AllenDowney/ModSim/raw/main/data/' +\n",
    "         'baseball_drag.csv')\n",
    "\n",
    "baseball_drag = pd.read_csv('baseball_drag.csv')\n",
    "\n",
    "mph_to_mps = (1 * units.mph).to(units.m/units.s).magnitude\n",
    "\n",
    "speed = baseball_drag['Velocity in mph'] * mph_to_mps\n",
    "\n",
    "C_d_series = make_series(speed, baseball_drag['Drag coefficient'])\n",
    "\n",
    "drag_interp = interpolate(C_d_series)"
   ]
  },
  {
   "cell_type": "code",
   "execution_count": 133,
   "metadata": {},
   "outputs": [],
   "source": [
    "# Defining a function that takes a value of msec and returns the value of Cd at that point.\n",
    "def Cd(msec):\n",
    "    Cd = drag_interp(msec)\n",
    "    return Cd"
   ]
  },
  {
   "cell_type": "code",
   "execution_count": 160,
   "metadata": {},
   "outputs": [],
   "source": [
    "def throw(mph, rpm, angle, top):\n",
    "    if top == 1:\n",
    "        top = top * -1\n",
    "    # Interpolating the drag coefficient for a baseball at v0 in m/s.\n",
    "    Cd = drag_interp(msec(mph))\n",
    "    # Calculating drag force\n",
    "    drag_force = -0.5 * Cd * P * CSA(BASEBALL_RADIUS) * msec(mph) ** 2\n",
    "    # Calculating the magnus force\n",
    "    magnus = 0.5 * CL * P * CSA(BASEBALL_RADIUS) * msec(mph) ** 2\n",
    "    # Calculating the ratio of the rotational speed of the ball to the translational speed of the ball.\n",
    "    spin_factor = rotational_speed(rpm) / msec(mph)\n",
    "    # Calculating the x component of the acceleration of the ball.\n",
    "    ax = -1 * drag_force * math.cos(angle) - magnus * math.sin(angle)\n",
    "    # Calculating the y component of the acceleration of the ball.\n",
    "    ay = magnus * math.cos(angle) - drag_force * math.sin(angle) - G\n",
    "    print(f'magnus: {magnus}')\n",
    "    print(f'drag force: {drag_force}')\n",
    "    print(f'Cd: {Cd}')\n",
    "    print(f'ax: {ax}')\n",
    "    print(f'ay: {ay}')\n",
    "    print(f'spin factor: {spin_factor}')\n",
    "    print(f'gravity: {G}')\n",
    "    \n",
    "    "
   ]
  },
  {
   "cell_type": "markdown",
   "metadata": {},
   "source": []
  },
  {
   "cell_type": "code",
   "execution_count": 161,
   "metadata": {},
   "outputs": [
    {
     "name": "stdout",
     "output_type": "stream",
     "text": [
      "magnus: 0.9291250941200111\n",
      "drag force: -1.402946317385928\n",
      "Cd: 0.33219228689246594\n",
      "ax: -0.05359726766612638\n",
      "ay: -8.124788191500567\n",
      "spin factor: 0.21093903985893228\n",
      "gravity: 9.80665\n"
     ]
    }
   ],
   "source": [
    "throw(90, 2200, 45, 0)"
   ]
  },
  {
   "cell_type": "code",
   "execution_count": null,
   "metadata": {},
   "outputs": [],
   "source": [
    "# http://www.physics.usyd.edu.au/~cross/TRAJECTORIES/42.%20Ball%20Trajectories.pdf"
   ]
  },
  {
   "cell_type": "code",
   "execution_count": null,
   "metadata": {},
   "outputs": [],
   "source": [
    "vx = -CSA(BASEBALL_RADIUS)*msec(mph)*((Cd * msec(mph)) + (CL * ))"
   ]
  },
  {
   "cell_type": "code",
   "execution_count": null,
   "metadata": {},
   "outputs": [],
   "source": []
  },
  {
   "cell_type": "code",
   "execution_count": null,
   "metadata": {},
   "outputs": [],
   "source": []
  }
 ],
 "metadata": {
  "kernelspec": {
   "display_name": "Python 3.10.3 64-bit ('3.10.3')",
   "language": "python",
   "name": "python3"
  },
  "language_info": {
   "codemirror_mode": {
    "name": "ipython",
    "version": 3
   },
   "file_extension": ".py",
   "mimetype": "text/x-python",
   "name": "python",
   "nbconvert_exporter": "python",
   "pygments_lexer": "ipython3",
   "version": "3.10.3"
  },
  "orig_nbformat": 4,
  "vscode": {
   "interpreter": {
    "hash": "10626171d4353dd8d0f12b0dae77464b904fee8f635bb045a55f368206a04bde"
   }
  }
 },
 "nbformat": 4,
 "nbformat_minor": 2
}
