{
 "cells": [
  {
   "cell_type": "code",
   "execution_count": 129,
   "metadata": {},
   "outputs": [],
   "source": [
    "import math\n",
    "from numpy import pi, deg2rad, rad2deg\n",
    "from modsim import *\n",
    "import pandas as pd\n",
    "# install Pint if necessary\n",
    "\n",
    "try:\n",
    "    from pint import UnitRegistry\n",
    "except ImportError:\n",
    "    !pip install pint\n",
    "    \n",
    "# import units\n",
    "from pint import UnitRegistry\n",
    "units = UnitRegistry()"
   ]
  },
  {
   "cell_type": "markdown",
   "metadata": {},
   "source": [
    "Constants"
   ]
  },
  {
   "cell_type": "code",
   "execution_count": 135,
   "metadata": {},
   "outputs": [],
   "source": [
    "# baseball mass (kg)\n",
    "BASEBALL_MASS = 0.145\n",
    "\n",
    "# baseballRadius (cm)\n",
    "BASEBALL_RADIUS = 3.683\n",
    "\n",
    "# air density (kg/m^3)\n",
    "P = 1.225\n",
    "\n",
    "# g\n",
    "G = 9.80665\n",
    "\n",
    "# drag coefficient\n",
    "Cd = 0.33\n",
    "\n",
    "CL = 0.22\n"
   ]
  },
  {
   "cell_type": "markdown",
   "metadata": {},
   "source": [
    "Algos"
   ]
  },
  {
   "cell_type": "code",
   "execution_count": 126,
   "metadata": {},
   "outputs": [],
   "source": [
    "# baseball cross-sectional area\n",
    "def CSA(r):\n",
    "    CROSS_SECTIONAL_AREA = 0.25 * math.pi * (2 * radius) ** 2\n",
    "    CROSS_SECTIONAL_AREA_M2 = CROSS_SECTIONAL_AREA / 100 ** 2\n",
    "    return CROSS_SECTIONAL_AREA_M2\n",
    "\n",
    "\n",
    "# Converting miles per hour to meters per second.\n",
    "def msec(mph):\n",
    "    msec = mph * (1609/3600)\n",
    "    return msec\n",
    "\n",
    "# Converting meters per second to miles per hour.\n",
    "def mphsec(msec):\n",
    "    mphsec = msec * 2.237\n",
    "    return mphsec\n",
    "\n",
    "# Defining a function that takes a mass and returns the gravitational force.\n",
    "def GRAV_FORCE(m):\n",
    "    GRAV_FORCE = m * G\n",
    "    GRAV_FORCE\n",
    "\n",
    "# Defining a function that takes a value in RPM and returns the value in rad/s.\n",
    "def RAD_SEC(rpm):\n",
    "    RAD_SEC = rpm * 2 * math.pi / 60\n",
    "    return RAD_SEC\n",
    "\n",
    "# This function is taking the rotational speed of the baseball and the velocity of the baseball and returning the spin factor.\n",
    "def S(spin):\n",
    "    spin = radsec / v0\n",
    "    return spin\n",
    "\n",
    "# This function is taking the rotational speed of the baseball and the velocity of the baseball and returning the spin factor in meters/sec.\n",
    "def vr_msec(rpm):\n",
    "    radsec = RAD_SEC(rpm)\n",
    "    v = BASEBALL_RADIUS * radsec / 100\n",
    "    return v\n",
    "\n",
    "# Taking the radius of the baseball and the rotational speed of the baseball and returning the tangential speed of the baseball.\n",
    "def tangential_speed(radius, rpm):\n",
    "    v = radius * rotational_speed(rpm)\n",
    "    return v\n",
    "\n",
    "# Converting the tangential velocity from meters per second to miles per hour.\n",
    "def vr_mph(rpm):\n",
    "    radsec = RAD_SEC(rpm)\n",
    "    v = BASEBALL_RADIUS * radsec / 100\n",
    "    v = mphsec(v)\n",
    "    return v\n",
    "\n",
    "# This function is taking the rotational speed of the baseball and the velocity of the baseball and returning the spin factor.\n",
    "def spin_factor(rpm, velocity):\n",
    "    spin_factor = rotational_speed(rpm) / msec(velocity)\n",
    "    return f'The spin factor of {rpm}rpm and {velocity}mph is {round(spin_factor, 4)}'"
   ]
  },
  {
   "cell_type": "code",
   "execution_count": 141,
   "metadata": {},
   "outputs": [],
   "source": [
    "# Throw parameters\n",
    "# x0 = feet; y0 = release point of hand in meters; v0 = release speed in meters/sec\n",
    "mph = 90\n",
    "x0 = 0\n",
    "y0 = 1.75\n",
    "v0 = msec(mph)\n",
    "rpm = 2200\n",
    "radsec = RAD_SEC(rpm)\n",
    "angle = 45\n",
    "time = 1\n",
    "top = 0"
   ]
  },
  {
   "cell_type": "code",
   "execution_count": 142,
   "metadata": {},
   "outputs": [
    {
     "data": {
      "text/plain": [
       "-1.393687641180017"
      ]
     },
     "execution_count": 142,
     "metadata": {},
     "output_type": "execute_result"
    }
   ],
   "source": [
    "# drag_force = - 0.5 * Cd * density * area * velocity ** 2  \n",
    "# (in Newtons in direction opposite to current velocity)\n",
    "drag_force = -0.5 * Cd * P * CSA(BASEBALL_RADIUS) * v0 ** 2\n",
    "drag_force"
   ]
  },
  {
   "cell_type": "code",
   "execution_count": 131,
   "metadata": {},
   "outputs": [],
   "source": [
    "from os.path import basename, exists\n",
    "\n",
    "def download(url):\n",
    "    filename = basename(url)\n",
    "    if not exists(filename):\n",
    "        from urllib.request import urlretrieve\n",
    "        local, _ = urlretrieve(url, filename)\n",
    "        print('Downloaded ' + local)"
   ]
  },
  {
   "cell_type": "code",
   "execution_count": 132,
   "metadata": {},
   "outputs": [
    {
     "data": {
      "text/plain": [
       "array(0.31504741)"
      ]
     },
     "execution_count": 132,
     "metadata": {},
     "output_type": "execute_result"
    }
   ],
   "source": [
    "# drag coefficient\n",
    "download('https://github.com/AllenDowney/ModSim/raw/main/data/' +\n",
    "         'baseball_drag.csv')\n",
    "\n",
    "baseball_drag = pd.read_csv('baseball_drag.csv')\n",
    "\n",
    "mph_to_mps = (1 * units.mph).to(units.m/units.s).magnitude\n",
    "\n",
    "speed = baseball_drag['Velocity in mph'] * mph_to_mps\n",
    "\n",
    "C_d_series = make_series(speed, baseball_drag['Drag coefficient'])\n",
    "\n",
    "drag_interp = interpolate(C_d_series)"
   ]
  },
  {
   "cell_type": "code",
   "execution_count": 133,
   "metadata": {},
   "outputs": [],
   "source": [
    "# Defining a function that takes a value of msec and returns the value of Cd at that point.\n",
    "def Cd(msec):\n",
    "    Cd = drag_interp(msec)\n",
    "    return Cd"
   ]
  },
  {
   "cell_type": "code",
   "execution_count": 160,
   "metadata": {},
   "outputs": [],
   "source": [
    "def throw(mph, rpm, angle, top):\n",
    "    if top == 1:\n",
    "        top = top * -1\n",
    "    # Interpolating the drag coefficient for a baseball at v0 in m/s.\n",
    "    Cd = drag_interp(msec(mph))\n",
    "    # Calculating drag force\n",
    "    drag_force = -0.5 * Cd * P * CSA(BASEBALL_RADIUS) * msec(mph) ** 2\n",
    "    # Calculating the magnus force\n",
    "    magnus = 0.5 * CL * P * CSA(BASEBALL_RADIUS) * msec(mph) ** 2\n",
    "    # Calculating the ratio of the rotational speed of the ball to the translational speed of the ball.\n",
    "    spin_factor = rotational_speed(rpm) / msec(mph)\n",
    "    # Calculating the x component of the acceleration of the ball.\n",
    "    ax = -1 * drag_force * math.cos(angle) - magnus * math.sin(angle)\n",
    "    # Calculating the y component of the acceleration of the ball.\n",
    "    ay = magnus * math.cos(angle) - drag_force * math.sin(angle) - G\n",
    "    print(f'magnus: {magnus}')\n",
    "    print(f'drag force: {drag_force}')\n",
    "    print(f'Cd: {Cd}')\n",
    "    print(f'ax: {ax}')\n",
    "    print(f'ay: {ay}')\n",
    "    print(f'spin factor: {spin_factor}')\n",
    "    print(f'gravity: {G}')\n",
    "    \n",
    "    "
   ]
  },
  {
   "cell_type": "markdown",
   "metadata": {},
   "source": []
  },
  {
   "cell_type": "code",
   "execution_count": 161,
   "metadata": {},
   "outputs": [
    {
     "name": "stdout",
     "output_type": "stream",
     "text": [
      "magnus: 0.9291250941200111\n",
      "drag force: -1.402946317385928\n",
      "Cd: 0.33219228689246594\n",
      "ax: -0.05359726766612638\n",
      "ay: -8.124788191500567\n",
      "spin factor: 0.21093903985893228\n",
      "gravity: 9.80665\n"
     ]
    }
   ],
   "source": [
    "throw(90, 2200, 45, 0)"
   ]
  },
  {
   "cell_type": "code",
   "execution_count": null,
   "metadata": {},
   "outputs": [],
   "source": [
    "# http://www.physics.usyd.edu.au/~cross/TRAJECTORIES/42.%20Ball%20Trajectories.pdf"
   ]
  },
  {
   "cell_type": "code",
   "execution_count": null,
   "metadata": {},
   "outputs": [],
   "source": [
    "vx = -CSA(BASEBALL_RADIUS)*msec(mph)*((Cd * msec(mph)) + (CL * ))"
   ]
  },
  {
   "cell_type": "code",
   "execution_count": null,
   "metadata": {},
   "outputs": [],
   "source": []
  },
  {
   "cell_type": "code",
   "execution_count": null,
   "metadata": {},
   "outputs": [],
   "source": []
  }
 ],
 "metadata": {
  "kernelspec": {
   "display_name": "Python 3.10.3 64-bit ('3.10.3')",
   "language": "python",
   "name": "python3"
  },
  "language_info": {
   "codemirror_mode": {
    "name": "ipython",
    "version": 3
   },
   "file_extension": ".py",
   "mimetype": "text/x-python",
   "name": "python",
   "nbconvert_exporter": "python",
   "pygments_lexer": "ipython3",
   "version": "3.10.3"
  },
  "orig_nbformat": 4,
  "vscode": {
   "interpreter": {
    "hash": "10626171d4353dd8d0f12b0dae77464b904fee8f635bb045a55f368206a04bde"
   }
  }
 },
 "nbformat": 4,
 "nbformat_minor": 2
}
