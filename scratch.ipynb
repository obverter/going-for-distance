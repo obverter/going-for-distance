{
 "cells": [
  {
   "cell_type": "code",
   "execution_count": 21,
   "metadata": {},
   "outputs": [],
   "source": [
    "import math\n",
    "from numpy import pi, deg2rad, rad2deg\n",
    "from modsim import *"
   ]
  },
  {
   "cell_type": "markdown",
   "metadata": {},
   "source": [
    "Constants"
   ]
  },
  {
   "cell_type": "code",
   "execution_count": 104,
   "metadata": {},
   "outputs": [],
   "source": [
    "# baseball mass (kg)\n",
    "BASEBALL_MASS = 0.145\n",
    "\n",
    "# baseballRadius (cm)\n",
    "BASEBALL_RADIUS = 3.683\n",
    "\n",
    "# air density (kg/m^3)\n",
    "P = 1.225\n",
    "\n",
    "# g\n",
    "G = 9.80665\n",
    "\n",
    "# atmospheric density\n",
    "CD = 0.4\n"
   ]
  },
  {
   "cell_type": "markdown",
   "metadata": {},
   "source": [
    "Algos"
   ]
  },
  {
   "cell_type": "code",
   "execution_count": null,
   "metadata": {},
   "outputs": [],
   "source": [
    "# baseball cross-sectional area\n",
    "def CSA(r):\n",
    "    CROSS_SECTIONAL_AREA = 0.25 * math.pi * (2 * radius) ** 2\n",
    "    CROSS_SECTIONAL_AREA_M2 = cross_sectional_area / 100 ** 2\n",
    "    return CROSS_SECTIONAL_AREA_M2\n",
    "\n",
    "\n",
    "# Converting miles per hour to meters per second.\n",
    "def msec(mph):\n",
    "    msec = mph * (1609/3600)\n",
    "    return msec\n",
    "\n",
    "# Converting meters per second to miles per hour.\n",
    "def mphsec(msec):\n",
    "    mphsec = msec * 2.237\n",
    "    return mphsec\n",
    "\n",
    "# Defining a function that takes a mass and returns the gravitational force.\n",
    "def GRAV_FORCE(m):\n",
    "    GRAV_FORCE = m * G\n",
    "    GRAV_FORCE\n",
    "\n",
    "# Defining a function that takes a value in RPM and returns the value in rad/s.\n",
    "def RAD_SEC(rpm):\n",
    "    RAD_SEC = rpm * 2 * math.pi / 60\n",
    "    return RAD_SEC\n",
    "\n",
    "# This function is taking the rotational speed of the baseball and the velocity of the baseball and returning the spin factor.\n",
    "def S(spin):\n",
    "    spin = radsec / v0\n",
    "    return spin\n",
    "\n",
    "# This function is taking the rotational speed of the baseball and the velocity of the baseball and returning the spin factor in meters/sec.\n",
    "def vr_msec(rpm):\n",
    "    radsec = RAD_SEC(rpm)\n",
    "    v = BASEBALL_RADIUS * radsec / 100\n",
    "    return v\n",
    "\n",
    "# This function is taking the rotational speed of the baseball and the velocity of the baseball and returning the spin factor.\n",
    "def spin_factor(rpm, velocity):\n",
    "    spin_factor = rotational_speed(rpm) / msec(velocity)\n",
    "    return spin_factor\n",
    "\n",
    "# Taking the radius of the baseball and the rotational speed of the baseball and returning the tangential speed of the baseball.\n",
    "def tangential_speed(radius, rpm):\n",
    "    v = radius * rotational_speed(rpm)\n",
    "    return v\n",
    "\n",
    "# Converting the tangential velocity from meters per second to miles per hour.\n",
    "def vr_mph(rpm):\n",
    "    radsec = RAD_SEC(rpm)\n",
    "    v = BASEBALL_RADIUS * radsec / 100\n",
    "    v = mphsec(v)\n",
    "    return v"
   ]
  },
  {
   "cell_type": "code",
   "execution_count": 99,
   "metadata": {},
   "outputs": [
    {
     "data": {
      "text/plain": [
       "0.21093903985893228"
      ]
     },
     "execution_count": 99,
     "metadata": {},
     "output_type": "execute_result"
    }
   ],
   "source": [
    "spin_factor(2200, 90)"
   ]
  },
  {
   "cell_type": "code",
   "execution_count": 88,
   "metadata": {},
   "outputs": [
    {
     "data": {
      "text/plain": [
       "8.485022878325552"
      ]
     },
     "execution_count": 88,
     "metadata": {},
     "output_type": "execute_result"
    }
   ],
   "source": [
    "rotspeed_msec(2200)"
   ]
  },
  {
   "cell_type": "code",
   "execution_count": 105,
   "metadata": {},
   "outputs": [
    {
     "data": {
      "text/plain": [
       "18.98099617881426"
      ]
     },
     "execution_count": 105,
     "metadata": {},
     "output_type": "execute_result"
    }
   ],
   "source": [
    "rotspeed_mph(2200)"
   ]
  },
  {
   "cell_type": "code",
   "execution_count": null,
   "metadata": {},
   "outputs": [],
   "source": [
    "spin_factor "
   ]
  },
  {
   "cell_type": "code",
   "execution_count": 75,
   "metadata": {},
   "outputs": [],
   "source": [
    "# Throw parameters\n",
    "# x0 = feet; y0 = release point of hand in meters; v0 = release speed in meters/sec\n",
    "mph = 90\n",
    "x0 = 0\n",
    "y0 = 1.5\n",
    "v0 = msec(mph)\n",
    "rpm = 2200\n",
    "radsec = RAD_SEC(rpm)\n",
    "angle = 45\n",
    "time = 1"
   ]
  },
  {
   "cell_type": "code",
   "execution_count": 76,
   "metadata": {},
   "outputs": [
    {
     "data": {
      "text/plain": [
       "5.727370074909919"
      ]
     },
     "execution_count": 76,
     "metadata": {},
     "output_type": "execute_result"
    }
   ],
   "source": [
    "S(2200)"
   ]
  },
  {
   "cell_type": "code",
   "execution_count": 61,
   "metadata": {},
   "outputs": [],
   "source": []
  },
  {
   "cell_type": "code",
   "execution_count": 82,
   "metadata": {},
   "outputs": [
    {
     "data": {
      "text/plain": [
       "5.727370074909919"
      ]
     },
     "execution_count": 82,
     "metadata": {},
     "output_type": "execute_result"
    }
   ],
   "source": [
    "RAD_SEC(2200) / msec(90)"
   ]
  },
  {
   "cell_type": "code",
   "execution_count": 59,
   "metadata": {},
   "outputs": [
    {
     "data": {
      "text/plain": [
       "-1.6893183529454747"
      ]
     },
     "execution_count": 59,
     "metadata": {},
     "output_type": "execute_result"
    }
   ],
   "source": [
    "# drag_force = - 0.5 * Cd * density * area * velocity ** 2  \n",
    "# (in Newtons in direction opposite to current velocity)\n",
    "drag_force = -0.5 * CD * P * CROSS_SECTIONAL_AREA_M2 * v0 ** 2\n",
    "drag_force"
   ]
  },
  {
   "cell_type": "code",
   "execution_count": 60,
   "metadata": {},
   "outputs": [],
   "source": [
    "# spin factor\n",
    "spin_factor = rpm"
   ]
  },
  {
   "cell_type": "code",
   "execution_count": null,
   "metadata": {},
   "outputs": [],
   "source": []
  }
 ],
 "metadata": {
  "kernelspec": {
   "display_name": "Python 3.10.3 64-bit ('3.10.3')",
   "language": "python",
   "name": "python3"
  },
  "language_info": {
   "codemirror_mode": {
    "name": "ipython",
    "version": 3
   },
   "file_extension": ".py",
   "mimetype": "text/x-python",
   "name": "python",
   "nbconvert_exporter": "python",
   "pygments_lexer": "ipython3",
   "version": "3.10.3"
  },
  "orig_nbformat": 4,
  "vscode": {
   "interpreter": {
    "hash": "10626171d4353dd8d0f12b0dae77464b904fee8f635bb045a55f368206a04bde"
   }
  }
 },
 "nbformat": 4,
 "nbformat_minor": 2
}
