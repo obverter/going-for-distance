{
 "cells": [
  {
   "cell_type": "markdown",
   "metadata": {},
   "source": [
    "## Python exercise for projectile motion\n",
    "\n",
    "In this exercise, we will use a simple script to plot the trajectory of a projectile with inclusion of air resistance. We will also calculate the range of the projectile. \n",
    "\n",
    "The air resistance drag force $F_d$ in $N$ is approximated by the following relation. \n",
    "\n",
    "  $$ F_d = C_d v^2 $$\n",
    "\n",
    "Here, $v$ is the magnitude of velocity in $m/s$ and $C_d$ is the coefficient of drag.\n",
    "\n",
    "The following is a step-by-step guide to writing up the script. Some parts of the script have been left out for you to fill in.\n"
   ]
  },
  {
   "cell_type": "markdown",
   "metadata": {},
   "source": [
    "### Define the parameters in the problem\n",
    "\n",
    "First we import the modules we need: numpy to provide some mathematics functions, and matplotlib for plotting. \n",
    "\n",
    "To start describing the problem, we need to define the parameters in the problem.\n",
    "\n",
    "- the mass of the projectile\n",
    "- acceleration due to gravity\n",
    "- initial velocity (magnitude and direction)\n",
    "- drag coefficient\n",
    "\n",
    "We also set the time step to track the trajectory. \n"
   ]
  },
  {
   "cell_type": "code",
   "execution_count": 2,
   "metadata": {
    "collapsed": false
   },
   "outputs": [],
   "source": [
    "from tqdm import tqdm\n",
    "from modsim import *\n",
    "from numpy import pi, deg2rad, rad2deg\n",
    "import math\n",
    "import matplotlib.pyplot as plt\n",
    "%matplotlib inline\n",
    "import numpy as np\n",
    "import pandas as pd\n",
    "\n",
    "try:\n",
    "    from pint import UnitRegistry\n",
    "except ImportError:\n",
    "    !pip install pint\n",
    "from pint import UnitRegistry\n",
    "from os.path import basename, exists\n",
    "\n",
    "\n",
    "units = UnitRegistry()\n",
    "\n",
    "def download(url):\n",
    "    filename = basename(url)\n",
    "    if not exists(filename):\n",
    "        from urllib.request import urlretrieve\n",
    "        local, _ = urlretrieve(url, filename)\n",
    "        print('Downloaded ' + local)\n"
   ]
  },
  {
   "cell_type": "code",
   "execution_count": 3,
   "metadata": {},
   "outputs": [],
   "source": [
    "\n",
    "download('https://github.com/AllenDowney/ModSim/raw/main/data/' +\n",
    "         'baseball_drag.csv')\n",
    "baseball_drag = pd.read_csv('baseball_drag.csv')\n",
    "mph_to_mps = (1 * units.mph).to(units.m/units.s).magnitude\n",
    "speed = baseball_drag['Velocity in mph'] * mph_to_mps\n",
    "C_d_series = make_series(speed, baseball_drag['Drag coefficient'])\n",
    "drag_interp = interpolate(C_d_series)\n"
   ]
  },
  {
   "cell_type": "code",
   "execution_count": 4,
   "metadata": {},
   "outputs": [],
   "source": [
    "# Model constants\n",
    "g = 9.80665     # Acceleration due to gravity (m/s^2)\n",
    "P = 1.225       # air density\n",
    "M = 0.145       # Mass of baseball in kg\n",
    "R = 3.683       # radius of baseball in cm\n",
    "A = 0.00426     # baseball cross sectional area in m^2"
   ]
  },
  {
   "cell_type": "code",
   "execution_count": 5,
   "metadata": {},
   "outputs": [],
   "source": [
    "# model functions\n",
    "\n",
    "# Converting miles per hour to meters per second.\n",
    "def msec(mph):\n",
    "    msec = mph * (1609/3600)\n",
    "    return msec\n",
    "\n",
    "# Defining a function that takes a mass and returns the gravitational force.\n",
    "def GRAV_FORCE(m):\n",
    "    GRAV_FORCE = m * G\n",
    "    GRAV_FORCE\n",
    "    \n",
    "# Defining a function that takes a value in RPM and returns the value in rad/s.\n",
    "def rad_sec(rpm):\n",
    "    rad_sec = rpm * 2 * np.pi / 60\n",
    "    return rad_sec\n",
    "radsec = rad_sec\n",
    "\n",
    "# This function is taking the rotational speed of the baseball and the velocity of the baseball and returning the spin factor.\n",
    "def S(spin):\n",
    "    spin = radsec / v0\n",
    "    return spin\n",
    "\n",
    "# This function is taking the rotational speed of the baseball and the velocity of the baseball and returning the spin factor in meters/sec.\n",
    "def vr_msec(rpm):\n",
    "    rads = rad_sec(rpm)\n",
    "    v = R * rads / 100\n",
    "    return v\n",
    "\n",
    "# Taking the radius of the baseball and the rotational speed of the baseball and returning the tangential speed of the baseball.\n",
    "def tangential_speed(radius, rpm):\n",
    "    v = radius * rotational_speed(rpm)\n",
    "    return v\n",
    "\n",
    "# Converting the tangential velocity from meters per second to miles per hour.\n",
    "def vr_mph(rpm):\n",
    "    rads = RAD_SEC(rpm)\n",
    "    v = R * rads / 100\n",
    "    v = mphsec(v)\n",
    "    return v\n",
    "\n",
    "# This function is taking the rotational speed of the baseball and the velocity of the baseball and returning the spin factor.\n",
    "def spin_factor(rpm, velocity):\n",
    "    spin_factor = rotational_speed(rpm) / msec(velocity)\n",
    "    return f'The spin factor of {rpm}rpm and {velocity}mph is {round(spin_factor, 4)}'"
   ]
  },
  {
   "cell_type": "code",
   "execution_count": 10,
   "metadata": {},
   "outputs": [],
   "source": [
    "throw = {\n",
    "    \"mph\": float(\"95.0\"),\n",
    "    \"theta\": float(\"45.0\"),\n",
    "    \"omega_rpm\": float(\"2400.0\"),\n",
    "    \"backspin\": \"1\",\n",
    "    \"time\": float(\"1\"),\n",
    "    \"y0\": float(\"1.75\")\n",
    "}"
   ]
  },
  {
   "cell_type": "code",
   "execution_count": 11,
   "metadata": {},
   "outputs": [],
   "source": [
    "# Converting the spin rate from revolutions per minute to radians per second.\n",
    "throw[\"omega_radsec\"] = throw[\"omega_rpm\"] * 2 * math.pi / 60\n",
    "\n",
    "# Converting the speed from miles per hour to meters per second.\n",
    "throw[\"vt_msec\"] = throw[\"mph\"] * 1609 / 3600\n",
    "\n",
    "# Calculating the x-component of the initial velocity.\n",
    "throw[\"vx\"] = throw[\"vt_msec\"] * math.cos(throw[\"theta\"])\n",
    "\n",
    "# Calculating the y-component of the initial velocity.\n",
    "throw[\"vy\"] = throw[\"vt_msec\"] * math.sin(throw[\"theta\"])\n",
    "\n",
    "# Converting the spin rate from radians per second to miles per hour\n",
    "throw[\"vr_mph\"] = R * throw[\"omega_radsec\"] / 100 * 2.237\n",
    "\n",
    "# Converting the spin rate from radians per second to meters per second\n",
    "throw[\"vr_msec\"] = R * throw[\"omega_radsec\"] / 100\n",
    "\n",
    "# This is the spin factor in meters per second.\n",
    "throw[\"spin_factor\"] = throw[\"vr_msec\"] / throw[\"vt_msec\"]\n",
    "\n",
    "# Using the interpolation function to find the drag coefficient for the given speed.\n",
    "throw[\"coeff_drag\"] = float(drag_interp(throw[\"vt_msec\"])) / 100\n",
    "\n",
    "# Calculating the drag force.\n",
    "throw[\"drag_force\"] = (\n",
    "    -0.5 * throw[\"coeff_drag\"] * P * A * throw[\"vt_msec\"] ** 2\n",
    ")\n",
    "\n",
    "# Calculating CL from spin force\n",
    "if throw[\"spin_factor\"] < 0.1:\n",
    "    throw[\"lift_coefficient\"] = 1.6 * throw[\"spin_factor\"]\n",
    "else:\n",
    "    throw[\"lift_coefficient\"] = 0.6 * throw[\"spin_factor\"] + 0.1\n",
    "\n",
    "\n",
    "# This is the Magnus force.\n",
    "throw[\"magnus\"] = (\n",
    "    0.5 * throw[\"lift_coefficient\"] * P * A * throw[\"vt_msec\"] ** 2\n",
    ")\n",
    "\n",
    "# This is the x value at t time\n",
    "throw[\"xt\"] = (\n",
    "    throw[\"vx\"] + float(throw[\"vt_msec\"]) * math.cos(throw[\"theta\"]) * throw[\"time\"]\n",
    ")\n",
    "\n",
    "# This is the y value at t time\n",
    "throw[\"yt\"] = (\n",
    "    throw[\"vy\"]\n",
    "    + throw[\"vt_msec\"] * math.sin(throw[\"theta\"]) * throw[\"time\"]\n",
    "    - (0.5 * g * throw[\"time\"] ** 2)\n",
    ")\n",
    "\n",
    "throw[\"fx\"] = (\n",
    "    -math.pi\n",
    "    / 2\n",
    "    * P\n",
    "    * R**2\n",
    "    * throw[\"vt_msec\"]\n",
    "    * (throw[\"lift_coefficient\"] * throw[\"vy\"] + throw[\"drag_force\"] * throw[\"vx\"])\n",
    ")\n",
    "\n",
    "if throw[\"backspin\"] == 1:\n",
    "    throw[\"fy\"] = (\n",
    "        -math.pi\n",
    "        / 2\n",
    "        * P\n",
    "        * R**2\n",
    "        * throw[\"vt_msec\"]\n",
    "        * (throw[\"lift_coefficient\"] * throw[\"vx\"] - throw[\"drag_force\"] * throw[\"vy\"])\n",
    "    ) - M * g\n",
    "else:\n",
    "    throw[\"fy\"] = (\n",
    "        -math.pi\n",
    "        / 2\n",
    "        * P\n",
    "        * R**2\n",
    "        * throw[\"vt_msec\"]\n",
    "        * (-throw[\"lift_coefficient\"] * throw[\"vx\"] - throw[\"drag_force\"] * throw[\"vy\"])\n",
    "    ) - M * g\n",
    "\n",
    "# Time of flight\n",
    "# throw[\"time_of_flight\"] = math.sqrt(-1 * 2 * throw[\"y0\"] / g)\n",
    "\n",
    "# Final Calc for X at T\n",
    "# d_vx/dt = -kv(C_d * v_x + C_l * v_y)\n",
    "# where k = P * pi * r^2/(2m)\n",
    "throw[\"k\"] = P * math.pi * (R**2 / 2 * M)\n",
    "throw[\"x_at_t\"] = (-1 * throw[\"k\"] * throw[\"vt_msec\"]) * (\n",
    "    throw[\"coeff_drag\"] * throw[\"vx\"] + throw[\"lift_coefficient\"] * throw[\"vy\"]\n",
    ")\n",
    "\n",
    "\n",
    "\n",
    "# Final Calc for Y at T\n",
    "# d_vy/dt = kv(C_l * v_x - C_d * V_y) - g\n",
    "# where k = d * pi * r^2/(2m)"
   ]
  },
  {
   "cell_type": "code",
   "execution_count": 12,
   "metadata": {},
   "outputs": [
    {
     "name": "stderr",
     "output_type": "stream",
     "text": [
      "0it [00:00, ?it/s]"
     ]
    },
    {
     "name": "stdout",
     "output_type": "stream",
     "text": [
      "42.459722222222226 45.0\n"
     ]
    }
   ],
   "source": [
    "\n",
    "# model parameters\n",
    "Cd = float(throw['coeff_drag'])       # Drag coefficient\n",
    "dt = 0.25         # time step in s\n",
    "ang = 45.0       # Angle of initial velocity in degrees\n",
    "V = float(throw['vt_msec'])           # Initial velocity in m/s\n",
    "Cl = tqdm(float(throw['magnus']))\n",
    "\n",
    "\n",
    "# You can check the variables by printing them out\n",
    "print(V, ang)\n"
   ]
  },
  {
   "cell_type": "code",
   "execution_count": 13,
   "metadata": {
    "collapsed": false
   },
   "outputs": [
    {
     "name": "stderr",
     "output_type": "stream",
     "text": [
      "0it [00:00, ?it/s]"
     ]
    },
    {
     "name": "stdout",
     "output_type": "stream",
     "text": [
      "42.459722222222226 45.0\n",
      "Range of projectile is 110.8 m\n"
     ]
    },
    {
     "name": "stderr",
     "output_type": "stream",
     "text": [
      "\n"
     ]
    },
    {
     "data": {
      "image/png": "[encoded data removed]",
      "text/plain": [
       "<Figure size 432x288 with 1 Axes>"
      ]
     },
     "metadata": {
      "needs_background": "light"
     },
     "output_type": "display_data"
    }
   ],
   "source": [
    "import numpy as np\n",
    "import matplotlib.pyplot as plt\n",
    "%matplotlib inline\n",
    "\n",
    "# Model parameters\n",
    "M = 1.0          # Mass of projectile in kg\n",
    "g = 9.8          # Acceleration due to gravity (m/s^2)\n",
    "V = 80           # Initial velocity in m/s\n",
    "V = float(throw['vt_msec'])           # Initial velocity in m/s\n",
    "ang = 45.0       # Angle of initial velocity in degrees\n",
    "Cd = float(throw['coeff_drag'])       # Drag coefficient\n",
    "Cl = float(throw['magnus'])\n",
    "\n",
    "\n",
    "\n",
    "# You can check the variables by printing them out\n",
    "print( V, ang)\n",
    "\n",
    "# Set up the lists to store variables\n",
    "# Initialize the velocity and position at t=0\n",
    "t = [0]                         # list to keep track of time\n",
    "vx = [V*np.cos(ang/180*np.pi)]  # list for velocity x and y components\n",
    "vy = [V*np.sin(ang/180*np.pi)]\n",
    "x = [0]                         # list for x and y position\n",
    "y = [0]\n",
    "\n",
    "# Drag force\n",
    "drag=Cd*V**2                      # drag force \n",
    "\n",
    "# Acceleration components\n",
    "# ax = [-(np.pi / 2) * P * R**2 * V * ((Cl * vy[0]) + (Cd * vx[0])) / 1000]\n",
    "ax = [-(drag*np.cos(ang/180*np.pi))/M ]          \n",
    "ay = [-g-(drag*np.sin(ang/180*np.pi)/M) ]\n",
    "\n",
    "## Leave this out for students to try\n",
    "# We can choose to have better control of the time-step here\n",
    "dt = 0.2\n",
    "\n",
    "# Use Euler method to update variables\n",
    "counter = 0\n",
    "while (y[counter] >= 0):                   # Check that the last value of y is >= 0\n",
    "    t.append(t[counter]+dt)                # increment by dt and add to the list of time \n",
    "    \n",
    "    \n",
    "    \n",
    "    # Update velocity\n",
    "    vx.append(vx[counter]+dt*ax[counter])  # Update the velocity\n",
    "    vy.append(vy[counter]+dt*ay[counter])\n",
    "\n",
    "    # Update position\n",
    "    x.append(x[counter]+dt*vx[counter])    \n",
    "    y.append(y[counter]+dt*vy[counter])    \n",
    "\n",
    "    # With the new velocity calculate the drag force and update acceleration\n",
    "    vel = np.sqrt(vx[counter+1]**2 + vy[counter+1]**2)   # magnitude of velocity\n",
    "    drag = Cd*vel**2                                   # drag force \n",
    "    ax.append(-(np.pi / 2) * P * R**2 * V * ((Cl * vy[0]) + (Cd * vx[0])) / 10_000)     \n",
    "    ay.append(-g-(drag*np.sin(ang/180*np.pi)/M))\n",
    "    # tqdm(ay.append(((np.pi / 2) * P * R**2 * V * ((Cl * vx[0]) - (Cd * vy[0])) - (M * g)) / 10_000))\n",
    "    \n",
    "    # Increment the counter by 1\n",
    "    counter = counter +1\n",
    "\n",
    "# Let's plot the trajectory\n",
    "plt.plot(x,y,'ro')\n",
    "plt.ylabel(\"y (m)\")\n",
    "plt.xlabel(\"x (m)\")\n",
    "   \n",
    "# The last value of x should give the range of the projectile approximately.\n",
    "\n",
    "print(\"Range of projectile is {:3.1f} m\".format(x[counter]))\n"
   ]
  },
  {
   "cell_type": "markdown",
   "metadata": {},
   "source": [
    "### Set up the variables at time zero\n",
    "\n",
    "Next, we generate velocity of the projectile as a function of time. To do that, we create the following lists.\n",
    "\n",
    "- list to store the values of time $t$\n",
    "- list to store x-component of velocity $v_x$\n",
    "- list to store y-component of velocity $v_y$\n",
    "- list to store x-component of acceleration $a_x$\n",
    "- list to store y-component of acceleration $a_y$\n",
    "\n",
    "We start by putting in the initial velocity components $v_x = V \\cos\\theta$ and $v_y = V \\sin\\theta$  at $t=0$. \n",
    "\n",
    "To get the acceleration, we need to find the resultant force, which consists of the air drag $F_d$ and weight $W$.\n",
    "\n",
    "$$ W = M g$$ \n",
    "\n",
    "and \n",
    "\n",
    "$$ F_d = C_d v^2 $$\n",
    "\n",
    "The x and y components of the resultant force are given by\n",
    "\n",
    "$$ F_x = - F_d \\cos\\theta \\qquad \\text{and} \\qquad F_y = -Mg - F_d \\sin\\theta $$\n",
    "\n",
    "where $\\theta$ is the angle that the velocity forms with the positive x-axis. The force components follow the convention that they are positive when pointing to the right and upwards.\n",
    "\n",
    "By Newton's second law, the acceleration of the projectile is thus given by\n",
    "\n",
    "$$ a_x = - (F_d \\cos\\theta)/M \\qquad \\text{and} \\qquad a_y = -g - (F_d \\sin\\theta)/M $$\n",
    "\n",
    "Let's implement these steps to get the velocity, drag force, and acceleration at $t=0$.\n"
   ]
  },
  {
   "cell_type": "code",
   "execution_count": 62,
   "metadata": {},
   "outputs": [
    {
     "ename": "SyntaxError",
     "evalue": "invalid character '−' (U+2212) (2905060580.py, line 1)",
     "output_type": "error",
     "traceback": [
      "\u001b[0;36m  Input \u001b[0;32mIn [62]\u001b[0;36m\u001b[0m\n\u001b[0;31m    −\u001b[0m\n\u001b[0m    ^\u001b[0m\n\u001b[0;31mSyntaxError\u001b[0m\u001b[0;31m:\u001b[0m invalid character '−' (U+2212)\n"
     ]
    }
   ],
   "source": [
    "−\n",
    "π\n",
    "2\n",
    "ρr2\n",
    "v(CLvy + CDvx)\n",
    "\n",
    "-(np.pi / 2) * P * R**2 * vx * (\n",
    "    (Cl * vy) + (Cd + vx)\n",
    ")"
   ]
  },
  {
   "cell_type": "code",
   "execution_count": null,
   "metadata": {},
   "outputs": [
    {
     "data": {
      "text/plain": [
       "list"
      ]
     },
     "execution_count": 33,
     "metadata": {},
     "output_type": "execute_result"
    }
   ],
   "source": [
    "type(np.pi)\n",
    "type(P)\n",
    "type(R**2)\n",
    "type(vx)"
   ]
  },
  {
   "cell_type": "code",
   "execution_count": null,
   "metadata": {},
   "outputs": [
    {
     "data": {
      "text/plain": [
       "28.443370273228876"
      ]
     },
     "execution_count": 38,
     "metadata": {},
     "output_type": "execute_result"
    }
   ],
   "source": [
    "vx[0]"
   ]
  },
  {
   "cell_type": "code",
   "execution_count": 64,
   "metadata": {
    "collapsed": false
   },
   "outputs": [
    {
     "name": "stdout",
     "output_type": "stream",
     "text": [
      "-28.664195374474296\n",
      "-36.01855890129461\n",
      "28.443370273228876\n",
      "28.443370273228872\n"
     ]
    }
   ],
   "source": [
    "# Set up the lists to store variables\n",
    "# Start by putting the initial velocities at t=0\n",
    "t = [0]  # list to keep track of time\n",
    "vx = [V * np.cos(ang / 180 * np.pi)]  # list for velocity x and y components\n",
    "vy = [V * np.sin(ang / 180 * np.pi)]\n",
    "\n",
    "# Drag force\n",
    "drag = Cd * V**2  # drag force\n",
    "\n",
    "# Create the lists for acceleration components\n",
    "ax = [-(np.pi / 2) * P * R**2 * V * ((Cl * vy[0]) + (Cd * vx[0])) / 1000]\n",
    "# ay = [((np.pi / 2) * P * R**2 * V * ((Cl * vx[0]) - (Cd * vy[0])) - (M * g)) / 1000]\n",
    "# ax = [-(drag*np.cos(ang/180*np.pi))/M]\n",
    "ay = [-g-(drag*np.sin(ang/180*np.pi)/M)]\n",
    "\n",
    "# ax -26.211908901294613\n",
    "# ay -36.01855890129461\n",
    "\n",
    "# Print out some values to check\n",
    "print(ax[0])\n",
    "print(ay[0])\n",
    "print(vx[0])\n",
    "print(vy[0])"
   ]
  },
  {
   "cell_type": "markdown",
   "metadata": {},
   "source": [
    "### Update the velocity for every time-step\n",
    "\n",
    "To get the velocity at the next time step, we make use of the following approximation.\n",
    "\n",
    "$$ a(t_{n}) = \\frac{dv(t_{n})}{dt} \\approx \\frac{v(t_{n+1}) - v(t_n)}{\\Delta t} $$\n",
    "\n",
    "or \n",
    "\n",
    "$$ v(t_{n+1}) \\approx v(t_n) +  a(t_n) \\Delta t $$\n",
    "\n",
    "This is just a very primitive way of doing integration of acceleration to get velocity. In the literature, this is known as Euler's method.\n",
    "\n",
    "Let us calculate 10 sets of velocities for 10 time-steps. We will use a while-loop and keep a counter to count to 10."
   ]
  },
  {
   "cell_type": "code",
   "execution_count": 65,
   "metadata": {
    "collapsed": false
   },
   "outputs": [
    {
     "name": "stdout",
     "output_type": "stream",
     "text": [
      "t= [0, 0.25, 0.5, 0.75, 1.0, 1.25, 1.5, 1.75, 2.0, 2.25, 2.5, 2.75, 3.0, 3.25, 3.5, 3.75, 4.0, 4.25, 4.5, 4.75, 5.0]\n",
      "vx= [28.443370273228876, 21.277321429610303, 17.91350299305111, 15.862272595409717, 14.506389016042636, 13.539829686882504, 12.78283280946712, 12.114079088279066, 11.440109112669298, 10.678596390344236, 9.746724570081936, 8.550319414679123, 6.970354913308175, 4.842447015485285, 1.921403787623714, -2.186105368810614, -8.161139955424172, -17.291580783814872, -32.29456001251879, -59.79477514163559, -119.57682907536216]\n"
     ]
    },
    {
     "data": {
      "text/plain": [
       "Text(0.5, 0, 'time (s)')"
      ]
     },
     "execution_count": 65,
     "metadata": {},
     "output_type": "execute_result"
    },
    {
     "data": {
      "image/png": "[encoded data removed]",
      "text/plain": [
       "<Figure size 432x288 with 1 Axes>"
      ]
     },
     "metadata": {
      "needs_background": "light"
     },
     "output_type": "display_data"
    }
   ],
   "source": [
    "# Use Euler method to update variables\n",
    "counter = 0\n",
    "while (counter < 20):\n",
    "    t.append(t[counter]+dt)                # increment by dt and add to the list of time \n",
    "    vx.append(vx[counter]+dt*ax[counter])  # Update the velocity\n",
    "    vy.append(vy[counter]+dt*ay[counter])  \n",
    "\n",
    "    # With the new velocity calculate the drag force\n",
    "    vel = np.sqrt(vx[counter+1]**2 + vy[counter+1]**2)   # magnitude of velocity\n",
    "    drag = Cd*vel**2                                   # drag force \n",
    "    ax.append(-(drag*np.cos(ang/180*np.pi))/M)     \n",
    "    ay.append(-g-(drag*np.sin(ang/180*np.pi)/M))\n",
    "    \n",
    "    # Increment the counter by 1\n",
    "    counter = counter +1\n",
    "\n",
    "# Print the values to check\n",
    "print(\"t=\", t)\n",
    "print(\"vx=\", vx)\n",
    "\n",
    "# Let's plot the velocity against time\n",
    "plt.plot(t,vx)\n",
    "plt.ylabel(\"x-velocity (m/s)\")\n",
    "plt.xlabel(\"time (s)\")\n",
    "\n",
    "\n"
   ]
  },
  {
   "cell_type": "markdown",
   "metadata": {},
   "source": [
    "### Update the positions\n",
    "\n",
    "After we have obtained the velocities, we can get the $x$ and $y$ positions of the projectile using a similar concept.\n",
    "\n",
    "$$ v_x(t_{n}) = \\frac{dx(t_{n})}{dt} \\approx \\frac{x(t_{n+1}) - x(t_n)}{\\Delta t} \n",
    "   \\qquad \\text{and} \\qquad \n",
    "   v_y(t_{n}) = \\frac{dy(t_{n})}{dt} \\approx \\frac{y(t_{n+1}) - y(t_n)}{\\Delta t}\n",
    "$$\n",
    "\n",
    "or \n",
    "\n",
    "$$ x(t_{n+1}) \\approx x(t_n) +  v_x(t_n) \\Delta t \n",
    "   \\qquad \\text{and} \\qquad \n",
    "   y(t_{n+1}) \\approx y(t_n) +  v_y(t_n) \\Delta t \n",
    "$$\n",
    "\n",
    "Starting with $x=0$ and $y=0$ at $t=0$, we can use Euler's method to get the positions for the 10 time-steps using the velocities found previously."
   ]
  },
  {
   "cell_type": "code",
   "execution_count": 70,
   "metadata": {
    "collapsed": false
   },
   "outputs": [
    {
     "name": "stdout",
     "output_type": "stream",
     "text": [
      "Range of projectile is 39.6 m\n"
     ]
    },
    {
     "data": {
      "image/png": "[encoded data removed]",
      "text/plain": [
       "<Figure size 432x288 with 1 Axes>"
      ]
     },
     "metadata": {
      "needs_background": "light"
     },
     "output_type": "display_data"
    }
   ],
   "source": [
    "# Initialise the lists for x and y\n",
    "x = [0]\n",
    "y = [0]\n",
    "\n",
    "# Use Euler method to update variables\n",
    "counter = 0\n",
    "while (counter < 10):\n",
    "    # Update the positions x and y\n",
    "    x.append(x[counter]+dt*vx[counter])    \n",
    "    y.append(y[counter]+dt*vy[counter])    \n",
    "    # Increment the counter by 1\n",
    "    counter = counter +1\n",
    "\n",
    "\n",
    "# Let's plot the trajectory\n",
    "plt.plot(x,y,'ro')\n",
    "plt.ylabel(\"y (m)\")\n",
    "plt.xlabel(\"x (m)\")\n",
    "print(\"Range of projectile is {:3.1f} m\".format(x[counter]))"
   ]
  },
  {
   "cell_type": "markdown",
   "metadata": {},
   "source": [
    "### Let's put everything together\n",
    "\n",
    "How about calculating the velocity and position all together in the same while-loop? \n",
    "\n",
    "Also, let's stop the while-loop after the projectile drops back to the ground again. One simple way to detect this is to check whether the value of $y$ position falls below zero. So, we keep running the while-loop while $y \\ge 0$.\n"
   ]
  },
  {
   "cell_type": "code",
   "execution_count": null,
   "metadata": {
    "collapsed": true
   },
   "outputs": [],
   "source": []
  },
  {
   "cell_type": "code",
   "execution_count": null,
   "metadata": {
    "collapsed": true
   },
   "outputs": [],
   "source": []
  },
  {
   "cell_type": "code",
   "execution_count": null,
   "metadata": {
    "collapsed": true
   },
   "outputs": [],
   "source": []
  },
  {
   "cell_type": "markdown",
   "metadata": {},
   "source": [
    "### How far can the projectile go?\n",
    "\n",
    "Try changing the initial velocity of the projectile and the drag coefficient to see how the trajectory changes.\n",
    "\n",
    "Keeping the initial velocity magnitude fixed, find the initial velocity angle that will give the maximum range for a specific drag coefficient!\n"
   ]
  },
  {
   "cell_type": "code",
   "execution_count": 20,
   "metadata": {
    "collapsed": false
   },
   "outputs": [
    {
     "name": "stdout",
     "output_type": "stream",
     "text": [
      "1\n",
      "2\n",
      "3\n",
      "4\n",
      "5\n",
      "6\n",
      "7\n",
      "8\n",
      "9\n",
      "10\n",
      "11\n"
     ]
    }
   ],
   "source": [
    "\n",
    "    "
   ]
  },
  {
   "cell_type": "markdown",
   "metadata": {},
   "source": [
    "### Trivial\n",
    "\n",
    "If you set the coefficient of drag to zero, can you get back the same trajectory you learned in Physics? Try checking the range of the projectile against the closed-form solution."
   ]
  }
 ],
 "metadata": {
  "kernelspec": {
   "display_name": "Python 3.10.3 64-bit ('3.10.3')",
   "language": "python",
   "name": "python3"
  },
  "language_info": {
   "codemirror_mode": {
    "name": "ipython",
    "version": 3
   },
   "file_extension": ".py",
   "mimetype": "text/x-python",
   "name": "python",
   "nbconvert_exporter": "python",
   "pygments_lexer": "ipython3",
   "version": "3.10.3"
  },
  "vscode": {
   "interpreter": {
    "hash": "10626171d4353dd8d0f12b0dae77464b904fee8f635bb045a55f368206a04bde"
   }
  }
 },
 "nbformat": 4,
 "nbformat_minor": 0
}
