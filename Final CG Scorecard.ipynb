{
 "cells": [
  {
   "cell_type": "markdown",
   "metadata": {},
   "source": [
    "1. Figure out raw counts for Ryan (IP, GP, BPA, K, BB)\n",
    "2. Establish approximate pitches per inning\n",
    "3. Extrapolate approximate total pitches thrown\n",
    "4. Interpolate reasonable counts for:\n",
    "   1. Strikes/Balls\n",
    "   2. Fastball/Offspeed\n",
    "5. Establish, apply velo distribution against age\n",
    "6. Init DF of velo of every pitch ever thrown parsed by strike/ball\n",
    "7. Assume 45 degree angle, run all balls through trajectory sim.\n",
    "8. Sum X"
   ]
  },
  {
   "cell_type": "markdown",
   "metadata": {},
   "source": []
  }
 ],
 "metadata": {
  "kernelspec": {
   "display_name": "Python 3.10.3 64-bit ('3.10.3')",
   "language": "python",
   "name": "python3"
  },
  "language_info": {
   "name": "python",
   "version": "3.10.3"
  },
  "orig_nbformat": 4,
  "vscode": {
   "interpreter": {
    "hash": "10626171d4353dd8d0f12b0dae77464b904fee8f635bb045a55f368206a04bde"
   }
  }
 },
 "nbformat": 4,
 "nbformat_minor": 2
}
