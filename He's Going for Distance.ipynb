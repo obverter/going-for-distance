{
 "cells": [
  {
   "cell_type": "markdown",
   "metadata": {},
   "source": [
    "# Let's pretend that Max Scherzer wakes up tomorrow in a flat, featureless pocket universe. \n",
    "\n",
    "Let's agree that this place:\n",
    "\n",
    "- Has a windless, Earth-like atmosphere set to STP and its air is uniform in density and temperature. (15C, 101.325kPa = 1225 kg/m<sup>3</sup>);\n",
    "- is subject to Earth-like gravity (9.807 m/s<sup>2</sup>);\n",
    "- where thrown objects do not roll upon impact with the ground;\n",
    "- and isn't Cleveland.\n",
    "\n",
    "Let's also state the obvious: Max wants to go home.\n"
   ]
  },
  {
   "cell_type": "markdown",
   "metadata": {},
   "source": [
    "## The Lay of the Land\n",
    "To Max's left is a Pandas DataFrame made manifest, which describes — in agonizing detail — every pitch he has ever thrown in the Major Leagues.\n",
    "\n",
    "To Max's right is a surveyor's wheel, a granola bar, and a gold tablet, upon which, in Comic Sans, is writ a set of instructions:\n",
    "\n",
    ">Hi Max:\n",
    ">\n",
    ">Per my previous email: \n",
    ">\n",
    ">Welcome to <s>Cleveland</s> Nowhere. In order to leave, you must:\n",
    ">1. **Reference** the DataFrame\n",
    ">2. **Re-throw** the 1<sup>st</sup> pitch you threw in the Bigs\n",
    ">3. At a **45° angle**\n",
    ">4. Survey-wheel yourself on over **where the ball lands** (BTW: **it won't roll**, it'll just stick to the ground where you flang it)\n",
    ">5. **Record the distance** you've walked\n",
    ">6. Reference the DataFrame\n",
    ">7. Re-throw the 2<sup>nd</sup> pitch you threw in the Bigs\n",
    ">8. At a 45° angle\n",
    ">9. Survey-wheel yourself on over to where the ball lands...\n",
    ">10. ...\n",
    ">11. Re-throw the 43,815<sup>th</sup> pitch you threw in the Bigs\n",
    ">12. At a 45° angle.\n",
    ">13. Survey-wheel yourself on over to where the ball lands\n",
    ">14. Announce, out loud, **how far you've walked in total**.\n",
    ">15. I already know the cumulative distance, but I need you to check my work.\n",
    ">16. Thanks!\n",
    "\n",
    "### Other Tacit Agreements\n",
    "\n",
    "- Max, being the generational pitching talent that he is, is able to **throw a ball precisely as fast as he wants, and at an exact 45° angle**.\n",
    "\n",
    "- Max, being the generational pitching talent that he is, **doesn't need to sleep or eat or drink or pee** here, and his arm never gets tired, and any other nullifying pedantry is also negated in full in the context of this ridiculous thought experiment.\n",
    "- We're ignoring the stitches on the baseball.\n",
    "- Any spin on the ball doesn't change during the baseball's journey. I don't have the energy to work that out.\n",
    "- The drag force and the Magnus force can both be represented by simple functions of our ball's velocity<sup>2</sup>.\n"
   ]
  },
  {
   "cell_type": "markdown",
   "metadata": {},
   "source": [
    "# WHAT EXACTLY ARE WE DOING HERE?"
   ]
  },
  {
   "cell_type": "markdown",
   "metadata": {},
   "source": [
    "This thought experiment is a simple summing of an iterative projectile motion solve for distance, more or less. Thankfully, the field of basic mechanics is pretty well codified.\n",
    "\n",
    "Double-thankfully, people smarter than me have already translated a ton of basic mechanics / work in this stupid space to code — mostly Python. So all I have to do is steal.\n",
    "\n",
    "And by steal, I mean I'll be referencing other folks and trying to color inside their lines unless otherwise noted.\n"
   ]
  },
  {
   "cell_type": "markdown",
   "metadata": {},
   "source": [
    "### Sources I've <s>Stolen</s> Learned From, to Whom This Nonsense Owes A Substantial Debt That Shall Never Be Repaid\n",
    "\n",
    "1. [NASA's Entire Fucking Webpage About Modeling Baseball Dynamics](https://www1.grc.nasa.gov/beginners-guide-to-aeronautics/aerodynamics-of-baseball/)\n",
    "2. [Matthew West](https://dynref.engr.illinois.edu/afp.html)\n",
    "3. [Jerron Lim](https://cocalc.com/share/public_paths/223c4e9ca1b913a9fa9d1d0f1028d90b7dc0b2d2)\n",
    "4. Hall, I. N., & Nathan, A. M. (2009). [Determining the Drag Coefficient from PITCHf/x Data](http://baseball.physics.illinois.edu/LiftDrag-1.pdf)\n",
    "5. Superstar MEGA Champion [Allen Downey](https://colab.research.google.com/github/AllenDowney/ModSimPy/blob/master/chapters/chap22.ipynb)\n",
    "6. [The Effect of Air on Baseball Pitches](http://spiff.rit.edu/richmond/baseball/traj/traj.html#info) by Michael \"Big Brains\" Richard, 2009.\n",
    "7. [Motion in Two and Three Dimensions](https://www2.tntech.edu/leap/murdock/books/v1chap3.pdf)\n",
    "\n",
    "---\n"
   ]
  },
  {
   "cell_type": "markdown",
   "metadata": {},
   "source": [
    "## Describing the Problem"
   ]
  },
  {
   "cell_type": "markdown",
   "metadata": {},
   "source": [
    "### Part A: The Stuff\n",
    "We need to know:\n",
    "1. The baseball's mass\n",
    "2. The baseball's diameter\n",
    "3. Acceleration due to gravity\n",
    "4. Initial velocities (direction and magnitude)\n",
    "5. Drag coefficient"
   ]
  },
  {
   "cell_type": "markdown",
   "metadata": {},
   "source": [
    "#### Hard stuff first: Drag coefficient"
   ]
  },
  {
   "cell_type": "markdown",
   "metadata": {},
   "source": [
    "There are two reasons why most high school physics classrooms only consider gravity when attacking basic mechanics:\n",
    "1. Science teachers love writing space-themed fanfic, and it's super fun to **pretend all of your problems in life exist in a vacuum**.\n",
    "2. All of the non-gravitational forces are ***complicated***. \n",
    "\n",
    "But we're not in high school at the moment. \n",
    "\n",
    "So we're gonna try to Mr. Wizard some **air resistance** for Max and his Task, because he's made about $320 million playing baseball and he can catch a tough break for once in his incredible life."
   ]
  },
  {
   "cell_type": "markdown",
   "metadata": {},
   "source": [
    "## Drag Forces, Coefficients, and You"
   ]
  },
  {
   "cell_type": "markdown",
   "metadata": {},
   "source": [
    "**Drag force** is pretty simple in the realm of basic mechanics. Here's the equation we're going to end up using:\n",
    "\n",
    "$$ \\vec{F}_{\\rm D} = -F_{\\rm D} \\hat{v}, $$\n",
    "\n",
    "But let's work through how it's derived."
   ]
  },
  {
   "cell_type": "markdown",
   "metadata": {},
   "source": [
    "The first part of our drag force equation, $ \\vec{F}_{\\rm D} $, is described by a **dimensionless drag coefficient** $ C_{\\rm D} $, which is itself described by this ugliness:\n",
    "\n",
    "$$ C_{\\rm D} = \\frac{F_{\\rm D}}{\\frac{1}{2} \\rho A v^2} $$\n",
    "\n",
    "It's not actually that ugly, though.\n",
    "\n",
    "- $\\rho$ = our air's **density**. (Technically: the density of the environmental fluid. And our <s>Cleveland</s> pocket universe is full of STP air.)\n",
    "- $A$ = our baseball's **cross-sectional area**, which we can figure out with this badass equation: $\\frac{1}{4}\\pi D^2$\n",
    "- $v$ = how hard Max throws the ball. E.g., its **initial velocity**."
   ]
  },
  {
   "cell_type": "markdown",
   "metadata": {},
   "source": [
    "### Meet our new best friend: the Reynolds number. \n",
    "\n",
    "Here's what she looks like.\n",
    "\n",
    "$$ {\\rm Re} = \\frac{\\rho v L}{\\mu} $$\n",
    "\n",
    "She, like our **drag coefficient**, is far from ugly: \n",
    "- $L$ = **Characteristic length of flow** — which, in this <s>Cleveland</s> thought experiment, is the diameter of the baseball $D$.\n",
    "- $\\mu$ = Our air's **dynamic viscosity**.\n",
    "\n",
    "*The Reynolds number* can be thought of as **the link between our baseball's intertial forces and our air's viscous forces**."
   ]
  },
  {
   "cell_type": "markdown",
   "metadata": {},
   "source": [
    "It's important to note that when we're running our numbers, **we only care about the fluid forces that interact directly with our baseball**, as is described with this cute lil guy: $$ C_{\\rm D} = C_{\\rm D}({\\rm Re}) $$\n",
    "Basically, we're not trying to split the atom. We're trying to run Max through the ringer. \n",
    "\n",
    "Fluid dynamics can get super complicated faster than I can fail the AP Chemistry and Physics exams in the spring of 2002, but we're able to figure out a reasonable solve for our baseball's flight without spending big money on cloud compute — which, in the end, would just to overcomplicate the hell out of our lives for the sake of a negligible increase in accuracy in this here analytical domain of zero import and marginal amusement. \n",
    "\n",
    "And besides: our <s>Cleveland</s> MaxWorld™ is an infinite, windless doldrum. So we can ignore any \"real\" fluid dynamics on principle.\n",
    "\n",
    "But getting back to our cute 'lil $ C_{\\rm D} = C_{\\rm D}({\\rm Re}) $ ... \n",
    "\n",
    "### NASA to the Rescue\n",
    "\n",
    "NASA gathered a ton of experimental data about projectiles in flight to try to quantify and chart the relationship between the Reynolds number and drag coefficients. \n",
    "\n",
    "The important thing here is the flat part of the chart, which is positioned more or less above $10^4$.\n",
    "\n",
    "This is telling us that in this region of Newtonian spaghetti, drag force is pretty much proportional to the square of our baseball's speed. It's not exactly, completely, 100.0% proportional, of course. But let's live a little bit and say that it is.\n",
    "\n",
    "![I Can't Believe NASA Did This](images/nasa-baseball-drag.jpeg)\n",
    "\n",
    "Credit: [NASA](https://www1.grc.nasa.gov/beginners-guide-to-aeronautics/drag-of-a-sphere/)\n",
    "\n"
   ]
  },
  {
   "cell_type": "markdown",
   "metadata": {},
   "source": [
    "So if we substitute $ C_{\\rm D} = \\frac{1}{2} $ into our cute lil guy above, we get:\n",
    "\n",
    "$$ F_{\\rm D} = \\frac{1}{4} \\rho A v^2 = c v^2 $$\n",
    "\n",
    "wherein we've pinned down the *quadratic drag parameter '$c$'* as:\n",
    "\n",
    "$$ c = \\frac{1}{4} \\rho A = \\frac{\\pi}{16} \\rho D^2 $$\n",
    "\n",
    "which is a constant for our baseball. This is what we call *quadratic drag*, because the magnitude of the drag force is proportional to the square of our baseball's speed. \n",
    "\n",
    "### DRUM ROLL \n",
    "\n",
    "Using our shiny new *quadratic drag*, we can write our drag force vector as:\n",
    "\n",
    "$$ \\vec{F}_{\\rm D} = - c v^2 \\hat{v} $$\n",
    "\n",
    "With this — and assuming we're still only considering gravity and quadratic drag — we can describe the forces on our baseball as:\n",
    "\n",
    "$$ \\sum \\vec{F} = m \\vec{g} - c v^2 \\hat{v} $$\n",
    "\n",
    "wherein $m$ = our baseball's mass, and $\\vec{g}$ = local acceleration due to gravity.\n",
    "\n",
    "---"
   ]
  },
  {
   "cell_type": "markdown",
   "metadata": {},
   "source": [
    "## PUTTING IT ALL TOGETHER IN ONE EASY THROW\n",
    "It's time for Max to launch his first baseball."
   ]
  },
  {
   "cell_type": "markdown",
   "metadata": {},
   "source": [
    "## * * * SPECIAL NOTE * * *"
   ]
  },
  {
   "cell_type": "markdown",
   "metadata": {},
   "source": [
    "Note: in the interest of time, I'll be running our throws through a mish-mash of other peoples' work in this space — most hugely from Chapter 22 of Allen Downey's [\"Modeling and Simulation in Python](https://nostarch.com/modeling-and-simulation-python), which he's generously hung on a very low branch located at the link I've hidden inside this emoji tree:\n",
    "\n",
    "[🌳](https://colab.research.google.com/github/AllenDowney/ModSimPy/blob/master/chapters/chap22.ipynb)\n",
    "\n",
    "Allen has done a bang-up job, and he has shared his work with me/us/everyone on the planet under the Attribution-NonCommercial-ShareAlike 4.0 International (CC BY-NC-SA 4.0) license. [Link to License](https://creativecommons.org/licenses/by-nc-sa/4.0/)\n",
    "\n",
    "Allen does not in any way endorse my nonsense, but I have to believe that's just because he hasn't been introduced to it yet. \n",
    "\n",
    "Give me a call, Allen. \n",
    "\n",
    "I have snacks."
   ]
  },
  {
   "cell_type": "code",
   "execution_count": 36,
   "metadata": {},
   "outputs": [],
   "source": [
    "from tqdm import tqdm\n",
    "import pandas as pd\n",
    "pd.options.mode.chained_assignment = None  # default='warn'\n",
    "# install Pint if necessary\n",
    "\n",
    "try:\n",
    "    from pint import UnitRegistry\n",
    "except ImportError:\n",
    "    %pip install pint\n",
    "    \n",
    "# import units\n",
    "from pint import UnitRegistry\n",
    "units = UnitRegistry()"
   ]
  },
  {
   "cell_type": "code",
   "execution_count": 37,
   "metadata": {},
   "outputs": [],
   "source": [
    "# download modsim.py if necessary\n",
    "\n",
    "from os.path import basename, exists\n",
    "\n",
    "def download(url):\n",
    "    filename = basename(url)\n",
    "    if not exists(filename):\n",
    "        from urllib.request import urlretrieve\n",
    "        local, _ = urlretrieve(url, filename)\n",
    "        print(f'Downloaded {local}')\n",
    "    \n",
    "download('https://github.com/AllenDowney/ModSimPy/raw/master/' +\n",
    "         'modsim.py')\n",
    "\n",
    "from modsim import *\n",
    "\n",
    "# grab a handy-dandy drag force interpolationator\n",
    "download('https://github.com/AllenDowney/ModSim/raw/main/data/' +\n",
    "         'baseball_drag.csv')\n",
    "baseball_drag = pd.read_csv('baseball_drag.csv')\n",
    "mph_to_mps = (1 * units.mph).to(units.m/units.s).magnitude\n",
    "speed = baseball_drag['Velocity in mph'] * mph_to_mps\n",
    "C_d_series = make_series(speed, baseball_drag['Drag coefficient'])\n",
    "drag_interp = interpolate(C_d_series)"
   ]
  },
  {
   "cell_type": "code",
   "execution_count": 38,
   "metadata": {},
   "outputs": [],
   "source": [
    "# Model constants\n",
    "g = 9.80665     # Acceleration due to gravity (m/s^2)\n",
    "P = 1.225       # air density\n",
    "M = 0.145       # Mass of baseball in kg\n",
    "R = 3.683       # radius of baseball in cm\n",
    "A = 0.00426     # baseball cross sectional area in m^2"
   ]
  },
  {
   "cell_type": "code",
   "execution_count": 39,
   "metadata": {},
   "outputs": [],
   "source": [
    "# Let's quickly figure out the height from the ground that Max typically releases the baseball when he's pitching. This data is freely available from Major League Baseball. I've pulled Max's 2022 data from here, because I'm teleporting him in 2022 and I only care about his throwing mechanics from this year:\n",
    "\n",
    "# https://baseballsavant.mlb.com/statcast_search?hfPT=&hfAB=&hfGT=R%7C&hfPR=&hfZ=&stadium=&hfBBL=&hfNewZones=&hfPull=&hfC=&hfSea=2022%7C&hfSit=&player_type=pitcher&hfOuts=&opponent=&pitcher_throws=&batter_stands=&hfSA=&game_date_gt=&game_date_lt=&hfMo=&team=&home_road=&hfRO=&position=&hfInfield=&hfOutfield=&hfInn=&hfBBT=&hfFlag=&pitchers_lookup%5B%5D=453286&metric_1=&group_by=name&min_pitches=0&min_results=0&min_pas=0&sort_col=pitches&player_event_sort=api_p_release_speed&sort_order=desc#results\n",
    "\n",
    "release = pd.read_csv('data/scherzer_2022_release_point.csv')\n",
    "release = release['release_pos_z'].str.replace(\"-\",\"\")\n",
    "median_release = float(release.describe().top)"
   ]
  },
  {
   "cell_type": "code",
   "execution_count": 40,
   "metadata": {},
   "outputs": [
    {
     "name": "stdout",
     "output_type": "stream",
     "text": [
      "Max Scherzer's median release point is 1.7343 meters from the ground.\n",
      " 1.7343 is our y0.\n"
     ]
    }
   ],
   "source": [
    "#Converting Max's median release point from feet to meters.\n",
    "\n",
    "FEET_TO_M = 0.3048\n",
    "release_point = median_release * FEET_TO_M\n",
    "print(f\"Max Scherzer's median release point is {round(release_point, 4)} meters from the ground.\\n 1.7343 is our y0.\")"
   ]
  },
  {
   "cell_type": "code",
   "execution_count": 41,
   "metadata": {},
   "outputs": [],
   "source": [
    "# Describe the throw\n",
    "\n",
    "throw = {\n",
    "    \"mph\": float(\"95.7\"),\n",
    "    \"theta\": float(\"45.0\"),\n",
    "    \"omega_rpm\": float(\"2400.0\"),\n",
    "    \"time\": \"1\",\n",
    "    \"backspin\": \"1\",\n",
    "    \"y0\": float(\"1.7343\")\n",
    "}"
   ]
  },
  {
   "cell_type": "code",
   "execution_count": 42,
   "metadata": {},
   "outputs": [],
   "source": [
    "# Converting the spin rate from revolutions per minute to radians per second.\n",
    "throw[\"omega_radsec\"] = throw[\"omega_rpm\"] * 2 * np.pi / 60\n",
    "\n",
    "# Converting the speed from miles per hour to meters per second.\n",
    "throw[\"vt_msec\"] = throw[\"mph\"] * 1609 / 3600\n",
    "\n",
    "# Calculating the x-component of the initial velocity.\n",
    "throw[\"vx\"] = throw[\"vt_msec\"] * np.cos(throw[\"theta\"])\n",
    "\n",
    "# Calculating the y-component of the initial velocity.\n",
    "throw[\"vy\"] = throw[\"vt_msec\"] * np.sin(throw[\"theta\"])\n",
    "\n",
    "# Converting the spin rate from radians per second to miles per hour\n",
    "throw[\"vr_mph\"] = R * throw[\"omega_radsec\"] / 100 * 2.237\n",
    "\n",
    "# Converting the spin rate from radians per second to meters per second\n",
    "throw[\"vr_msec\"] = R * throw[\"omega_radsec\"] / 100\n",
    "\n",
    "# This is the spin factor in meters per second.\n",
    "throw[\"spin_factor\"] = throw[\"vr_msec\"] / throw[\"vt_msec\"]\n",
    "\n",
    "# Using the interpolation function to find the drag coefficient for the given speed.\n",
    "throw[\"coeff_drag\"] = float(drag_interp(throw[\"vt_msec\"])) / 100\n",
    "\n",
    "# Calculating the drag force.\n",
    "throw[\"drag_force\"] = (\n",
    "    -0.5 * throw[\"coeff_drag\"] * P * A * throw[\"vt_msec\"] ** 2\n",
    ")\n",
    "\n",
    "# Calculating CL from spin force\n",
    "if throw[\"spin_factor\"] < 0.1:\n",
    "    throw[\"coeff_lift\"] = 1.6 * throw[\"spin_factor\"]\n",
    "else:\n",
    "    throw[\"coeff_lift\"] = 0.6 * throw[\"spin_factor\"] + 0.1\n",
    "\n",
    "\n",
    "# This is the Magnus force.\n",
    "throw[\"magnus\"] = (\n",
    "    0.5 * throw[\"coeff_lift\"] * P * A * throw[\"vt_msec\"] ** 2\n",
    ")\n",
    "\n",
    "\n",
    "throw[\"fx\"] = (\n",
    "    -np.pi\n",
    "    / 2\n",
    "    * P\n",
    "    * R**2\n",
    "    * throw[\"vt_msec\"]\n",
    "    * (throw[\"coeff_lift\"] * throw[\"vy\"] + throw[\"drag_force\"] * throw[\"vx\"])\n",
    ")\n",
    "\n",
    "if throw[\"backspin\"] == 1:\n",
    "    throw[\"fy\"] = (\n",
    "        -np.pi\n",
    "        / 2\n",
    "        * P\n",
    "        * R**2\n",
    "        * throw[\"vt_msec\"]\n",
    "        * (throw[\"coeff_lift\"] * throw[\"vx\"] - throw[\"drag_force\"] * throw[\"vy\"])\n",
    "    ) - M * g\n",
    "else:\n",
    "    throw[\"fy\"] = (\n",
    "        -np.pi\n",
    "        / 2\n",
    "        * P\n",
    "        * R**2\n",
    "        * throw[\"vt_msec\"]\n",
    "        * (-throw[\"coeff_lift\"] * throw[\"vx\"] - throw[\"drag_force\"] * throw[\"vy\"])\n",
    "    ) - M * g\n",
    "\n",
    "# Time of flight\n",
    "# throw[\"time_of_flight\"] = np.sqrt(-1 * 2 * throw[\"y0\"] / g)\n",
    "\n",
    "# Final Calc for X at T\n",
    "# d_vx/dt = -kv(C_d * v_x + C_l * v_y)\n",
    "# where k = P * pi * r^2/(2m)\n",
    "throw[\"k\"] = P * np.pi * (R**2 / 2 * M)\n",
    "\n",
    "\n",
    "\n",
    "# Final Calc for Y at T\n",
    "# d_vy/dt = kv(C_l * v_x - C_d * V_y) - g\n",
    "# where k = d * pi * r^2/(2m)"
   ]
  },
  {
   "cell_type": "code",
   "execution_count": 43,
   "metadata": {},
   "outputs": [
    {
     "data": {
      "text/plain": [
       "{'mph': 95.7,\n",
       " 'theta': 45.0,\n",
       " 'omega_rpm': 2400.0,\n",
       " 'time': '1',\n",
       " 'backspin': '1',\n",
       " 'y0': 1.7343,\n",
       " 'omega_radsec': 251.32741228718345,\n",
       " 'vt_msec': 42.77258333333334,\n",
       " 'vx': 22.46937854353875,\n",
       " 'vy': 36.39534191176263,\n",
       " 'vr_mph': 20.706541285979192,\n",
       " 'vr_msec': 9.256388594536965,\n",
       " 'spin_factor': 0.21640938828502598,\n",
       " 'coeff_drag': 0.0031819701501515103,\n",
       " 'drag_force': -0.015189474726260511,\n",
       " 'coeff_lift': 0.2298456329710156,\n",
       " 'magnus': 1.0971927039568097,\n",
       " 'fx': -8958.111681619219,\n",
       " 'fy': 5147.097894422013,\n",
       " 'k': 3.784664666735842}"
      ]
     },
     "execution_count": 43,
     "metadata": {},
     "output_type": "execute_result"
    }
   ],
   "source": [
    "# Let's see what a throw looks like at this point\n",
    "throw"
   ]
  },
  {
   "cell_type": "markdown",
   "metadata": {},
   "source": [
    "## Baseball\n",
    "\n",
    "To model the flight of a baseball, we have to make some decisions. If we were smart, we'd try to ignore Magnus forces entirely and simulate our ball traveling in two dimensions instead of three.\n",
    "\n",
    "So we'll try to incorporate Magnus forces in a little while."
   ]
  },
  {
   "cell_type": "markdown",
   "metadata": {},
   "source": [
    "## Simulating Baseball Flight\n",
    "\n",
    "Let's simulate the flight of a baseball that thrown\n",
    "at an angle of 45° and initial speed of however fast Max has to throw this pitch. His first pitch was thrown at 95.7 mph (42.7817 m/sec). We'll use his feet as the origin, a horizontal x-axis (parallel to the ground), and a vertical y-axis (perpendicular to the ground). Max throws from a low three-quarter release, and he's 6'3\", The initial height is 1.7 m. C_d = 0.33 and C_l = 0.22 are good, lazy approximations for drag/lift coefficients, so we'll use those here.\n",
    "\n",
    "Here's a `Params` object with the parameters we'll need."
   ]
  },
  {
   "cell_type": "code",
   "execution_count": 60,
   "metadata": {},
   "outputs": [],
   "source": [
    "params = Params(\n",
    "    x = 0,          # m\n",
    "    y = 1.7343,          # m\n",
    "    angle = 45,     # degree\n",
    "    speed = 42.7187,     # m / s\n",
    "\n",
    "    mass = 145e-3,    # kg \n",
    "    diameter = 73e-3, # m \n",
    "    C_d = .33,\n",
    "    C_l = .22, \n",
    "\n",
    "    rho = 1.225,        # kg/m**3\n",
    "    g = 9.80665,        # m/s**2\n",
    "    t_end = 10,         # s\n",
    ")"
   ]
  },
  {
   "cell_type": "markdown",
   "metadata": {},
   "source": [
    "I got the mass and diameter of the baseball from Wikipedia (see https://en.wikipedia.org/wiki/Baseball_(ball)). As usual, g is acceleration due to gravity. t_end is 10 seconds, which is long enough for the ball to land on the ground.\n",
    "\n",
    "The following function uses these quantities to make a System object."
   ]
  },
  {
   "cell_type": "code",
   "execution_count": 61,
   "metadata": {},
   "outputs": [],
   "source": [
    "from numpy import pi, deg2rad, rad2deg\n",
    "\n",
    "def make_system(params):\n",
    "    \n",
    "    # convert angle to degrees\n",
    "    theta = deg2rad(params.angle)\n",
    "    \n",
    "    # compute x and y components of velocity\n",
    "    vx, vy = pol2cart(theta, params.speed)\n",
    "    \n",
    "    # make the initial state\n",
    "    init = State(x=params.x, y=params.y, vx=vx, vy=vy)\n",
    "    \n",
    "    # compute the frontal area\n",
    "    area = pi * (params.diameter/2)**2\n",
    "\n",
    "    return System(params,\n",
    "                  init = init,\n",
    "                  area = area)"
   ]
  },
  {
   "cell_type": "markdown",
   "metadata": {},
   "source": [
    "make_system uses deg2rad to convert angle to radians and pol2cart to compute the  𝑥  and  𝑦  components of the initial velocity.\n",
    "\n",
    "init is a State object with four state variables:\n",
    "\n",
    "- x and y are the components of position.\n",
    "\n",
    "- vx and vy are the components of velocity.\n",
    "\n",
    "When we call System, we pass Params as the first argument, which means that the variables in Params are copied to the new System object.\n",
    "\n",
    "Here's how we make the System object."
   ]
  },
  {
   "cell_type": "code",
   "execution_count": 62,
   "metadata": {},
   "outputs": [],
   "source": [
    "system = make_system(params)"
   ]
  },
  {
   "cell_type": "markdown",
   "metadata": {},
   "source": [
    "And here's the initial State:"
   ]
  },
  {
   "cell_type": "code",
   "execution_count": 63,
   "metadata": {},
   "outputs": [
    {
     "data": {
      "text/html": [
       "<div>\n",
       "<style scoped>\n",
       "    .dataframe tbody tr th:only-of-type {\n",
       "        vertical-align: middle;\n",
       "    }\n",
       "\n",
       "    .dataframe tbody tr th {\n",
       "        vertical-align: top;\n",
       "    }\n",
       "\n",
       "    .dataframe thead th {\n",
       "        text-align: right;\n",
       "    }\n",
       "</style>\n",
       "<table border=\"1\" class=\"dataframe\">\n",
       "  <thead>\n",
       "    <tr style=\"text-align: right;\">\n",
       "      <th></th>\n",
       "      <th>state</th>\n",
       "    </tr>\n",
       "  </thead>\n",
       "  <tbody>\n",
       "    <tr>\n",
       "      <th>x</th>\n",
       "      <td>0.000000</td>\n",
       "    </tr>\n",
       "    <tr>\n",
       "      <th>y</th>\n",
       "      <td>1.734300</td>\n",
       "    </tr>\n",
       "    <tr>\n",
       "      <th>vx</th>\n",
       "      <td>30.206682</td>\n",
       "    </tr>\n",
       "    <tr>\n",
       "      <th>vy</th>\n",
       "      <td>30.206682</td>\n",
       "    </tr>\n",
       "  </tbody>\n",
       "</table>\n",
       "</div>"
      ],
      "text/plain": [
       "        state\n",
       "x    0.000000\n",
       "y    1.734300\n",
       "vx  30.206682\n",
       "vy  30.206682"
      ]
     },
     "execution_count": 63,
     "metadata": {},
     "output_type": "execute_result"
    }
   ],
   "source": [
    "show(system.init)"
   ]
  },
  {
   "cell_type": "markdown",
   "metadata": {},
   "source": [
    "## Drag Force\n",
    "\n",
    "Next we need a function to compute drag force:"
   ]
  },
  {
   "cell_type": "code",
   "execution_count": 64,
   "metadata": {},
   "outputs": [],
   "source": [
    "def drag_force(V, system):\n",
    "    rho, C_d, area = system.rho, system.C_d, system.area\n",
    "\n",
    "    mag = rho * vector_mag(V)**2 * C_d * area / 2\n",
    "    direction = -vector_hat(V)\n",
    "    return mag * direction"
   ]
  },
  {
   "cell_type": "markdown",
   "metadata": {},
   "source": [
    "This function takes V as a Vector and returns f_drag as a Vector.\n",
    "\n",
    "It uses vector_mag to compute the magnitude of V, and the drag equation to compute the magnitude of the drag force, mag.\n",
    "\n",
    "Then it uses vector_hat to compute direction, which is a unit vector in the opposite direction of V.\n",
    "\n",
    "Finally, it computes the drag force vector by multiplying mag and direction.\n",
    "\n",
    "We can test it like this:"
   ]
  },
  {
   "cell_type": "code",
   "execution_count": 65,
   "metadata": {},
   "outputs": [
    {
     "data": {
      "text/html": [
       "<div>\n",
       "<style scoped>\n",
       "    .dataframe tbody tr th:only-of-type {\n",
       "        vertical-align: middle;\n",
       "    }\n",
       "\n",
       "    .dataframe tbody tr th {\n",
       "        vertical-align: top;\n",
       "    }\n",
       "\n",
       "    .dataframe thead th {\n",
       "        text-align: right;\n",
       "    }\n",
       "</style>\n",
       "<table border=\"1\" class=\"dataframe\">\n",
       "  <thead>\n",
       "    <tr style=\"text-align: right;\">\n",
       "      <th></th>\n",
       "      <th>component</th>\n",
       "    </tr>\n",
       "  </thead>\n",
       "  <tbody>\n",
       "    <tr>\n",
       "      <th>x</th>\n",
       "      <td>-1.091633</td>\n",
       "    </tr>\n",
       "    <tr>\n",
       "      <th>y</th>\n",
       "      <td>-1.091633</td>\n",
       "    </tr>\n",
       "  </tbody>\n",
       "</table>\n",
       "</div>"
      ],
      "text/plain": [
       "   component\n",
       "x  -1.091633\n",
       "y  -1.091633"
      ]
     },
     "execution_count": 65,
     "metadata": {},
     "output_type": "execute_result"
    }
   ],
   "source": [
    "vx, vy = system.init.vx, system.init.vy\n",
    "V_test = Vector(vx, vy)\n",
    "f_drag = drag_force(V_test, system)\n",
    "# f_drag = throw['drag_force']\n",
    "show(f_drag)"
   ]
  },
  {
   "cell_type": "markdown",
   "metadata": {},
   "source": [
    "The result is a Vector that represents the drag force on the baseball, in Newtons, under the initial conditions.\n",
    "\n",
    "Now we can add drag to the slope function."
   ]
  },
  {
   "cell_type": "code",
   "execution_count": 66,
   "metadata": {},
   "outputs": [],
   "source": [
    "def slope_func(t, state, system):\n",
    "    x, y, vx, vy = state\n",
    "    mass, g = system.mass, system.g\n",
    "    \n",
    "    V = Vector(vx, vy)\n",
    "    a_drag = throw['drag_force'] / mass\n",
    "    a_grav = g * Vector(0, -1)\n",
    "    \n",
    "    A = a_grav + a_drag\n",
    "    \n",
    "    return V.x, V.y, A.x, A.y"
   ]
  },
  {
   "cell_type": "markdown",
   "metadata": {},
   "source": [
    "As usual, the parameters of the slope function are a time stamp, a State object, and a System object. We don't use t in this example, but we can't leave it out because when run_solve_ivp calls the slope function, it always provides the same arguments, whether they are needed or not.\n",
    "\n",
    "slope_func unpacks the State object into variables x, y, vx, and vy. Then it packs vx and vy into a Vector, which it uses to compute drag force, f_drag, and acceleration due to drag, a_drag.\n",
    "\n",
    "To represent acceleration due to gravity, it makes a Vector with magnitude g in the negative  𝑦  direction.\n",
    "\n",
    "The total acceleration of the baseball, A, is the sum of accelerations due to gravity and drag."
   ]
  },
  {
   "cell_type": "markdown",
   "metadata": {},
   "source": [
    "The return value is a sequence that contains:\n",
    "\n",
    "- The components of velocity, V.x and V.y.\n",
    "\n",
    "- The components of acceleration, A.x and A.y.\n",
    "\n",
    "These components represent the slope of the state variables, because V is the derivative of position and A is the derivative of velocity.\n",
    "\n",
    "As always, we can test the slope function by running it with the initial conditions:"
   ]
  },
  {
   "cell_type": "markdown",
   "metadata": {},
   "source": [
    "Using vectors to represent forces and accelerations makes the code concise, readable, and less error-prone. In particular, when we add a_grav and a_drag, the directions are likely to be correct, because they are encoded in the Vector objects."
   ]
  },
  {
   "cell_type": "code",
   "execution_count": 67,
   "metadata": {},
   "outputs": [
    {
     "data": {
      "text/plain": [
       "(30.206682453473768,\n",
       " 30.206682453473764,\n",
       " -0.10475499811214146,\n",
       " -9.911404998112141)"
      ]
     },
     "execution_count": 67,
     "metadata": {},
     "output_type": "execute_result"
    }
   ],
   "source": [
    "slope_func(0, system.init, system)"
   ]
  },
  {
   "cell_type": "markdown",
   "metadata": {},
   "source": [
    "## Adding an Event Function\n",
    "\n",
    "We're almost ready to run the simulation. The last thing we need is an event function that stops when the ball hits the ground."
   ]
  },
  {
   "cell_type": "code",
   "execution_count": 68,
   "metadata": {},
   "outputs": [],
   "source": [
    "def event_func(t, state, system):\n",
    "    x, y, vx, vy = state\n",
    "    return y"
   ]
  },
  {
   "cell_type": "markdown",
   "metadata": {},
   "source": [
    "The event function takes the same parameters as the slope function, and returns the  𝑦  coordinate of position. When the  𝑦  coordinate passes through 0, the simulation stops.\n",
    "\n",
    "As we did with slope_func, we can test event_func with the initial conditions."
   ]
  },
  {
   "cell_type": "code",
   "execution_count": 69,
   "metadata": {},
   "outputs": [
    {
     "data": {
      "text/plain": [
       "1.7343"
      ]
     },
     "execution_count": 69,
     "metadata": {},
     "output_type": "execute_result"
    }
   ],
   "source": [
    "event_func(0, system.init, system)"
   ]
  },
  {
   "cell_type": "markdown",
   "metadata": {},
   "source": [
    "Here's how we run the simulation with this event function:"
   ]
  },
  {
   "cell_type": "code",
   "execution_count": 70,
   "metadata": {},
   "outputs": [
    {
     "data": {
      "text/plain": [
       "'A termination event occurred.'"
      ]
     },
     "execution_count": 70,
     "metadata": {},
     "output_type": "execute_result"
    }
   ],
   "source": [
    "results, details = run_solve_ivp(system, slope_func,\n",
    "                                 events=event_func)\n",
    "details.message"
   ]
  },
  {
   "cell_type": "markdown",
   "metadata": {},
   "source": [
    "The message indicates that a \"termination event\" occurred; that is, the simulated ball reached the ground.\n",
    "\n",
    "results is a TimeFrame with one row for each time step and one column for each of the state variables. Here are the last few rows."
   ]
  },
  {
   "cell_type": "code",
   "execution_count": 71,
   "metadata": {},
   "outputs": [
    {
     "data": {
      "text/html": [
       "<div>\n",
       "<style scoped>\n",
       "    .dataframe tbody tr th:only-of-type {\n",
       "        vertical-align: middle;\n",
       "    }\n",
       "\n",
       "    .dataframe tbody tr th {\n",
       "        vertical-align: top;\n",
       "    }\n",
       "\n",
       "    .dataframe thead th {\n",
       "        text-align: right;\n",
       "    }\n",
       "</style>\n",
       "<table border=\"1\" class=\"dataframe\">\n",
       "  <thead>\n",
       "    <tr style=\"text-align: right;\">\n",
       "      <th></th>\n",
       "      <th>x</th>\n",
       "      <th>y</th>\n",
       "      <th>vx</th>\n",
       "      <th>vy</th>\n",
       "    </tr>\n",
       "  </thead>\n",
       "  <tbody>\n",
       "    <tr>\n",
       "      <th>5.906133</th>\n",
       "      <td>176.577627</td>\n",
       "      <td>7.272156e+00</td>\n",
       "      <td>29.587986</td>\n",
       "      <td>-28.331392</td>\n",
       "    </tr>\n",
       "    <tr>\n",
       "      <th>5.967655</th>\n",
       "      <td>178.397747</td>\n",
       "      <td>5.510389e+00</td>\n",
       "      <td>29.581541</td>\n",
       "      <td>-28.941164</td>\n",
       "    </tr>\n",
       "    <tr>\n",
       "      <th>6.029177</th>\n",
       "      <td>180.217471</td>\n",
       "      <td>3.711107e+00</td>\n",
       "      <td>29.575096</td>\n",
       "      <td>-29.550936</td>\n",
       "    </tr>\n",
       "    <tr>\n",
       "      <th>6.090700</th>\n",
       "      <td>182.036798</td>\n",
       "      <td>1.874311e+00</td>\n",
       "      <td>29.568651</td>\n",
       "      <td>-30.160707</td>\n",
       "    </tr>\n",
       "    <tr>\n",
       "      <th>6.152222</th>\n",
       "      <td>183.855729</td>\n",
       "      <td>-1.421085e-14</td>\n",
       "      <td>29.562206</td>\n",
       "      <td>-30.770479</td>\n",
       "    </tr>\n",
       "  </tbody>\n",
       "</table>\n",
       "</div>"
      ],
      "text/plain": [
       "                   x             y         vx         vy\n",
       "5.906133  176.577627  7.272156e+00  29.587986 -28.331392\n",
       "5.967655  178.397747  5.510389e+00  29.581541 -28.941164\n",
       "6.029177  180.217471  3.711107e+00  29.575096 -29.550936\n",
       "6.090700  182.036798  1.874311e+00  29.568651 -30.160707\n",
       "6.152222  183.855729 -1.421085e-14  29.562206 -30.770479"
      ]
     },
     "execution_count": 71,
     "metadata": {},
     "output_type": "execute_result"
    }
   ],
   "source": [
    "results.tail()"
   ]
  },
  {
   "cell_type": "markdown",
   "metadata": {},
   "source": [
    "We can get the flight time like this:"
   ]
  },
  {
   "cell_type": "code",
   "execution_count": 72,
   "metadata": {},
   "outputs": [
    {
     "data": {
      "text/plain": [
       "6.152221732740469"
      ]
     },
     "execution_count": 72,
     "metadata": {},
     "output_type": "execute_result"
    }
   ],
   "source": [
    "flight_time = results.index[-1]\n",
    "flight_time"
   ]
  },
  {
   "cell_type": "markdown",
   "metadata": {},
   "source": [
    "And the final state like this:"
   ]
  },
  {
   "cell_type": "code",
   "execution_count": 73,
   "metadata": {},
   "outputs": [
    {
     "data": {
      "text/html": [
       "<div>\n",
       "<style scoped>\n",
       "    .dataframe tbody tr th:only-of-type {\n",
       "        vertical-align: middle;\n",
       "    }\n",
       "\n",
       "    .dataframe tbody tr th {\n",
       "        vertical-align: top;\n",
       "    }\n",
       "\n",
       "    .dataframe thead th {\n",
       "        text-align: right;\n",
       "    }\n",
       "</style>\n",
       "<table border=\"1\" class=\"dataframe\">\n",
       "  <thead>\n",
       "    <tr style=\"text-align: right;\">\n",
       "      <th></th>\n",
       "      <th>6.152222</th>\n",
       "    </tr>\n",
       "  </thead>\n",
       "  <tbody>\n",
       "    <tr>\n",
       "      <th>x</th>\n",
       "      <td>1.838557e+02</td>\n",
       "    </tr>\n",
       "    <tr>\n",
       "      <th>y</th>\n",
       "      <td>-1.421085e-14</td>\n",
       "    </tr>\n",
       "    <tr>\n",
       "      <th>vx</th>\n",
       "      <td>2.956221e+01</td>\n",
       "    </tr>\n",
       "    <tr>\n",
       "      <th>vy</th>\n",
       "      <td>-3.077048e+01</td>\n",
       "    </tr>\n",
       "  </tbody>\n",
       "</table>\n",
       "</div>"
      ],
      "text/plain": [
       "        6.152222\n",
       "x   1.838557e+02\n",
       "y  -1.421085e-14\n",
       "vx  2.956221e+01\n",
       "vy -3.077048e+01"
      ]
     },
     "execution_count": 73,
     "metadata": {},
     "output_type": "execute_result"
    }
   ],
   "source": [
    "final_state = results.iloc[-1]\n",
    "show(final_state)"
   ]
  },
  {
   "cell_type": "markdown",
   "metadata": {},
   "source": [
    "The final value of y is close to 0, as it should be. The final value of x tells us how far the ball flew, in meters."
   ]
  },
  {
   "cell_type": "code",
   "execution_count": 74,
   "metadata": {},
   "outputs": [
    {
     "data": {
      "text/plain": [
       "183.8557287113673"
      ]
     },
     "execution_count": 74,
     "metadata": {},
     "output_type": "execute_result"
    }
   ],
   "source": [
    "x_dist = final_state.x\n",
    "x_dist"
   ]
  },
  {
   "cell_type": "markdown",
   "metadata": {},
   "source": [
    "We can also get the final velocity, like this:"
   ]
  },
  {
   "cell_type": "code",
   "execution_count": 75,
   "metadata": {},
   "outputs": [
    {
     "data": {
      "text/html": [
       "<div>\n",
       "<style scoped>\n",
       "    .dataframe tbody tr th:only-of-type {\n",
       "        vertical-align: middle;\n",
       "    }\n",
       "\n",
       "    .dataframe tbody tr th {\n",
       "        vertical-align: top;\n",
       "    }\n",
       "\n",
       "    .dataframe thead th {\n",
       "        text-align: right;\n",
       "    }\n",
       "</style>\n",
       "<table border=\"1\" class=\"dataframe\">\n",
       "  <thead>\n",
       "    <tr style=\"text-align: right;\">\n",
       "      <th></th>\n",
       "      <th>component</th>\n",
       "    </tr>\n",
       "  </thead>\n",
       "  <tbody>\n",
       "    <tr>\n",
       "      <th>x</th>\n",
       "      <td>29.562206</td>\n",
       "    </tr>\n",
       "    <tr>\n",
       "      <th>y</th>\n",
       "      <td>-30.770479</td>\n",
       "    </tr>\n",
       "  </tbody>\n",
       "</table>\n",
       "</div>"
      ],
      "text/plain": [
       "   component\n",
       "x  29.562206\n",
       "y -30.770479"
      ]
     },
     "execution_count": 75,
     "metadata": {},
     "output_type": "execute_result"
    }
   ],
   "source": [
    "final_V = Vector(final_state.vx, final_state.vy)\n",
    "show(final_V)"
   ]
  },
  {
   "cell_type": "markdown",
   "metadata": {},
   "source": [
    "## Visualizing Trajectories\n",
    "\n",
    "To visualize the results, we can plot the $x$ and $y$ components of position like this:"
   ]
  },
  {
   "cell_type": "code",
   "execution_count": 76,
   "metadata": {},
   "outputs": [
    {
     "data": {
      "image/png": "[encoded data removed]",
      "text/plain": [
       "<Figure size 432x288 with 1 Axes>"
      ]
     },
     "metadata": {
      "needs_background": "light"
     },
     "output_type": "display_data"
    }
   ],
   "source": [
    "results.x.plot(color='C4')\n",
    "results.y.plot(color='C2', style='--')\n",
    "\n",
    "decorate(xlabel='Time (s)',\n",
    "         ylabel='Position (m)')"
   ]
  },
  {
   "cell_type": "markdown",
   "metadata": {},
   "source": [
    "As expected, the  𝑥  component increases as the ball moves away from home plate. The  𝑦  position climbs initially and then descends, falling to 0 m after 6.0 s.\n",
    "\n",
    "Another way to view the results is to plot the  𝑥  component on the  𝑥 -axis and the  𝑦  component on the  𝑦 -axis, so the plotted line follows the trajectory of the ball through the plane:"
   ]
  },
  {
   "cell_type": "code",
   "execution_count": 77,
   "metadata": {},
   "outputs": [
    {
     "data": {
      "image/png": "[encoded data removed]",
      "text/plain": [
       "<Figure size 432x288 with 1 Axes>"
      ]
     },
     "metadata": {
      "needs_background": "light"
     },
     "output_type": "display_data"
    }
   ],
   "source": [
    "def plot_trajectory(results):\n",
    "    x = results.x\n",
    "    y = results.y\n",
    "    make_series(x, y).plot(label='trajectory')\n",
    "\n",
    "    decorate(xlabel='x position (m)',\n",
    "             ylabel='y position (m)')\n",
    "\n",
    "plot_trajectory(results)"
   ]
  },
  {
   "cell_type": "markdown",
   "metadata": {},
   "source": [
    "This way of visualizing the results is called a trajectory plot (see http://modsimpy.com/trajec). A trajectory plot can be easier to interpret than a time series plot, because it shows what the motion of the projectile would look like (at least from one point of view). Both plots can be useful, but don't get them mixed up! If you are looking at a time series plot and interpreting it as a trajectory, you will be very confused.\n",
    "\n",
    "Notice that the trajectory is not symmetric. With a launch angle of 45°, the landing angle is closer to vertical."
   ]
  },
  {
   "cell_type": "code",
   "execution_count": 78,
   "metadata": {},
   "outputs": [
    {
     "data": {
      "text/plain": [
       "-46.14729934446343"
      ]
     },
     "execution_count": 78,
     "metadata": {},
     "output_type": "execute_result"
    }
   ],
   "source": [
    "rad2deg(vector_angle(final_V))"
   ]
  },
  {
   "cell_type": "markdown",
   "metadata": {},
   "source": [
    "# ENOUGH ALREADY, SHOW ME SOME THROWS"
   ]
  },
  {
   "cell_type": "code",
   "execution_count": 79,
   "metadata": {},
   "outputs": [],
   "source": [
    "# Import all of Max Scherzer's pitches\n",
    "\n",
    "# Data avenue 1:\n",
    "# https://baseballsavant.mlb.com/savant-player/max-scherzer-453286?stats=statcast-r-pitching-mlb#pitch_tracking\n",
    "\n",
    "# Data avenue 2:\n",
    "# https://baseballsavant.mlb.com/statcast_search?hfPT=&hfAB=&hfGT=R%7C&hfPR=&hfZ=&stadium=&hfBBL=&hfNewZones=&hfPull=&hfC=&hfSea=2022%7C2021%7C2020%7C2019%7C2018%7C2017%7C2016%7C2015%7C2014%7C2013%7C2012%7C2011%7C2010%7C2009%7C2008%7C&hfSit=&player_type=pitcher&hfOuts=&opponent=&pitcher_throws=&batter_stands=&hfSA=&game_date_gt=&game_date_lt=&hfMo=&team=&home_road=&hfRO=&position=&hfInfield=&hfOutfield=&hfInn=&hfBBT=&hfFlag=&pitchers_lookup%5B%5D=453286&metric_1=&group_by=name&min_pitches=0&min_results=0&min_pas=0&sort_col=pitches&player_event_sort=api_p_release_speed&sort_order=desc#results\n",
    "\n",
    "# Note about second link: For whatever reason, Savant isn't including 2008-9 in this data export. But the data does exist. So a separate search for 2008-9 and then a merge or a cut/paste into 2010-22 yields the final csv, which I've included in the repo.\n",
    "\n",
    "df = pd.read_csv('data/scherzer_pitches.csv', low_memory=False)\n",
    "df = df.convert_dtypes()"
   ]
  },
  {
   "cell_type": "code",
   "execution_count": 80,
   "metadata": {},
   "outputs": [],
   "source": [
    "throws = df[['game_date', 'pitch_name', 'release_extension', 'release_speed', 'release_spin_rate', 'spin_axis', 'release_pos_z', 'vx0', 'vy0', 'vz0', 'ax', 'ay', 'az']].copy()\n",
    "\n",
    "throws = throws.convert_dtypes()"
   ]
  },
  {
   "cell_type": "code",
   "execution_count": 168,
   "metadata": {},
   "outputs": [],
   "source": [
    "# Converting the spin rate from revolutions per minute to radians per second.\n",
    "throws[\"theta\"] = float(45)\n",
    "\n",
    "# Converting the spin rate from revolutions per minute to radians per second.\n",
    "throws[\"omega_radsec\"] = throws[\"release_spin_rate\"] * 2 * np.pi / 60\n",
    "\n",
    "# Converting the speed from miles per hour to meters per second.\n",
    "throws[\"vt_msec\"] = throws[\"release_speed\"] * 1609 / 3600\n",
    "\n",
    "# Calculating the x-component of the initial velocity.\n",
    "throws[\"vx\"] = throws[\"vt_msec\"] * np.cos(throws[\"theta\"])\n",
    "\n",
    "# Calculating the y-component of the initial velocity.\n",
    "throws[\"vy\"] = throws[\"vt_msec\"] * np.sin(throws[\"theta\"])\n",
    "\n",
    "# Converting the spin rate from radians per second to miles per hour\n",
    "throws[\"vr_mph\"] = R * throws[\"omega_radsec\"] / 100 * 2.237\n",
    "\n",
    "# Converting the spin rate from radians per second to meters per second\n",
    "throws[\"vr_msec\"] = R * throws[\"omega_radsec\"] / 100\n",
    "\n",
    "# This is the spin factor in meters per second.\n",
    "throws[\"spin_factor\"] = throws[\"vr_msec\"] / throws[\"vt_msec\"]\n",
    "\n",
    "throws[\"k\"] = P * np.pi * (R**2 / 2 * M)\n"
   ]
  },
  {
   "cell_type": "code",
   "execution_count": 82,
   "metadata": {},
   "outputs": [],
   "source": [
    "throws['spin_factor'] = throws['spin_factor'].fillna(0)"
   ]
  },
  {
   "cell_type": "code",
   "execution_count": 83,
   "metadata": {},
   "outputs": [
    {
     "name": "stderr",
     "output_type": "stream",
     "text": [
      "100%|██████████| 44002/44002 [00:16<00:00, 2726.70it/s]\n"
     ]
    }
   ],
   "source": [
    "\n",
    "# Calculating CL from spin force\n",
    "count = 0\n",
    "try:\n",
    "    for throw in tqdm(range(len(throws))):\n",
    "        if throws.iloc[count][\"spin_factor\"] <= 0.1:\n",
    "            throws.iloc[count][\"coeff_lift\"] = 1.6 * throws.iloc[count][\"spin_factor\"]\n",
    "        else:\n",
    "            throws.iloc[count][\"coeff_lift\"] = 0.6 * throws.iloc[count][\"spin_factor\"] + 0.1\n",
    "        count += 1\n",
    "except Exception:\n",
    "    print(f\"{count} couldn't process\")\n",
    "    count += 1\n"
   ]
  },
  {
   "cell_type": "code",
   "execution_count": 85,
   "metadata": {},
   "outputs": [],
   "source": [
    "msecs = throws[\"vt_msec\"].fillna(0).tolist()"
   ]
  },
  {
   "cell_type": "code",
   "execution_count": 86,
   "metadata": {},
   "outputs": [
    {
     "name": "stdout",
     "output_type": "stream",
     "text": [
      "0 had a problem\n"
     ]
    }
   ],
   "source": [
    "drag_interps = []\n",
    "count = 0\n",
    "try:\n",
    "    for msec in range(len(msecs)):\n",
    "        a = interp(msecs[count]) / 100\n",
    "        drag_interps.append(a)\n",
    "        count += 1\n",
    "except:\n",
    "    print(f\"{count} had a problem\")\n",
    "    count += 1"
   ]
  },
  {
   "cell_type": "code",
   "execution_count": 87,
   "metadata": {},
   "outputs": [
    {
     "data": {
      "text/plain": [
       "37.72211111111111"
      ]
     },
     "execution_count": 87,
     "metadata": {},
     "output_type": "execute_result"
    }
   ],
   "source": [
    "throws[\"vt_msec\"][0]"
   ]
  },
  {
   "cell_type": "code",
   "execution_count": 88,
   "metadata": {},
   "outputs": [],
   "source": [
    "def interp(msec):\n",
    "    di = float(drag_interp(msec))\n",
    "    return di"
   ]
  },
  {
   "cell_type": "code",
   "execution_count": 89,
   "metadata": {},
   "outputs": [],
   "source": [
    "throws = throws.convert_dtypes()"
   ]
  },
  {
   "cell_type": "code",
   "execution_count": 90,
   "metadata": {},
   "outputs": [],
   "source": [
    "vts = []\n",
    "count = 0\n",
    "for throw in range(len(throws)):\n",
    "    msec = throws[\"vt_msec\"][throw]\n",
    "    vts.append(msec)\n",
    "    count += 1"
   ]
  },
  {
   "cell_type": "code",
   "execution_count": 91,
   "metadata": {},
   "outputs": [],
   "source": [
    "vtsconvert = pd.DataFrame(vts)\n",
    "vtsconvert = vtsconvert.fillna(0)\n",
    "vtsconvert = vtsconvert.astype(float)\n",
    "vtslist = vtsconvert[0].tolist()"
   ]
  },
  {
   "cell_type": "code",
   "execution_count": 147,
   "metadata": {},
   "outputs": [
    {
     "name": "stderr",
     "output_type": "stream",
     "text": [
      "100%|██████████| 44002/44002 [00:00<00:00, 64093.15it/s]\n"
     ]
    }
   ],
   "source": [
    "drags = []\n",
    "count = 0\n",
    "for msec in tqdm(range(len(vtslist))):\n",
    "    msecs = interp(vtslist[count]) / 100\n",
    "    drags.append(msecs)\n",
    "    count += 1\n",
    "\n",
    "#Assigning the values of the `drags` variable to the `throws[\"coeff_drag\"]` column.\n",
    "throws[\"coeff_drag\"] = drags"
   ]
  },
  {
   "cell_type": "code",
   "execution_count": 148,
   "metadata": {},
   "outputs": [
    {
     "data": {
      "text/html": [
       "<div>\n",
       "<style scoped>\n",
       "    .dataframe tbody tr th:only-of-type {\n",
       "        vertical-align: middle;\n",
       "    }\n",
       "\n",
       "    .dataframe tbody tr th {\n",
       "        vertical-align: top;\n",
       "    }\n",
       "\n",
       "    .dataframe thead th {\n",
       "        text-align: right;\n",
       "    }\n",
       "</style>\n",
       "<table border=\"1\" class=\"dataframe\">\n",
       "  <thead>\n",
       "    <tr style=\"text-align: right;\">\n",
       "      <th></th>\n",
       "      <th>game_date</th>\n",
       "      <th>pitch_name</th>\n",
       "      <th>release_extension</th>\n",
       "      <th>release_speed</th>\n",
       "      <th>release_spin_rate</th>\n",
       "      <th>spin_axis</th>\n",
       "      <th>release_pos_z</th>\n",
       "      <th>vx0</th>\n",
       "      <th>vy0</th>\n",
       "      <th>vz0</th>\n",
       "      <th>...</th>\n",
       "      <th>omega_radsec</th>\n",
       "      <th>vt_msec</th>\n",
       "      <th>vx</th>\n",
       "      <th>vy</th>\n",
       "      <th>vr_mph</th>\n",
       "      <th>vr_msec</th>\n",
       "      <th>spin_factor</th>\n",
       "      <th>coeff_drag</th>\n",
       "      <th>backspin</th>\n",
       "      <th>coeff_lift</th>\n",
       "    </tr>\n",
       "  </thead>\n",
       "  <tbody>\n",
       "    <tr>\n",
       "      <th>14410</th>\n",
       "      <td>5/26/17</td>\n",
       "      <td>Changeup</td>\n",
       "      <td>6.4</td>\n",
       "      <td>85.8</td>\n",
       "      <td>1548</td>\n",
       "      <td>245</td>\n",
       "      <td>5.38</td>\n",
       "      <td>9.336185</td>\n",
       "      <td>-124.373999</td>\n",
       "      <td>-7.597518</td>\n",
       "      <td>...</td>\n",
       "      <td>162.106181</td>\n",
       "      <td>38.347833</td>\n",
       "      <td>20.14496</td>\n",
       "      <td>32.630307</td>\n",
       "      <td>13.355719</td>\n",
       "      <td>5.970371</td>\n",
       "      <td>0.15569</td>\n",
       "      <td>0.003432</td>\n",
       "      <td>1</td>\n",
       "      <td>0.193414</td>\n",
       "    </tr>\n",
       "  </tbody>\n",
       "</table>\n",
       "<p>1 rows × 24 columns</p>\n",
       "</div>"
      ],
      "text/plain": [
       "      game_date pitch_name  release_extension  release_speed  \\\n",
       "14410   5/26/17   Changeup                6.4           85.8   \n",
       "\n",
       "       release_spin_rate  spin_axis  release_pos_z       vx0         vy0  \\\n",
       "14410               1548        245           5.38  9.336185 -124.373999   \n",
       "\n",
       "            vz0  ...  omega_radsec    vt_msec        vx         vy     vr_mph  \\\n",
       "14410 -7.597518  ...    162.106181  38.347833  20.14496  32.630307  13.355719   \n",
       "\n",
       "        vr_msec  spin_factor  coeff_drag  backspin  coeff_lift  \n",
       "14410  5.970371      0.15569    0.003432         1    0.193414  \n",
       "\n",
       "[1 rows x 24 columns]"
      ]
     },
     "execution_count": 148,
     "metadata": {},
     "output_type": "execute_result"
    }
   ],
   "source": [
    "throws.sample()"
   ]
  },
  {
   "cell_type": "markdown",
   "metadata": {},
   "source": [
    "# WORK FROM HERE\n",
    "- finish adding backspin bool\n",
    "- add coeff drag column\n",
    "- add drag force column\n",
    "- add lift force column?? Decide soon.\n",
    "- drags = drag coeff list, comment those loops"
   ]
  },
  {
   "cell_type": "code",
   "execution_count": 94,
   "metadata": {},
   "outputs": [],
   "source": [
    "def pitch(row):\n",
    "      try:\n",
    "            if row['pitch_name'] == 'Curveball' or row['pitch_name'] == 'Slider':\n",
    "                  return '0'\n",
    "            else:\n",
    "                  return '1'\n",
    "      except:\n",
    "            pass\n"
   ]
  },
  {
   "cell_type": "code",
   "execution_count": 95,
   "metadata": {},
   "outputs": [],
   "source": [
    "throws['backspin'] = throws.apply(pitch, axis=1)"
   ]
  },
  {
   "cell_type": "code",
   "execution_count": 114,
   "metadata": {},
   "outputs": [
    {
     "data": {
      "text/plain": [
       "Index(['game_date', 'pitch_name', 'release_extension', 'release_speed',\n",
       "       'release_spin_rate', 'spin_axis', 'release_pos_z', 'vx0', 'vy0', 'vz0',\n",
       "       'ax', 'ay', 'az', 'theta', 'omega_radsec', 'vt_msec', 'vx', 'vy',\n",
       "       'vr_mph', 'vr_msec', 'spin_factor', 'coeff_drag', 'backspin'],\n",
       "      dtype='object')"
      ]
     },
     "execution_count": 114,
     "metadata": {},
     "output_type": "execute_result"
    }
   ],
   "source": [
    "throws.columns"
   ]
  },
  {
   "cell_type": "code",
   "execution_count": 116,
   "metadata": {},
   "outputs": [
    {
     "data": {
      "text/plain": [
       "False    44002\n",
       "Name: spin_factor, dtype: int64"
      ]
     },
     "execution_count": 116,
     "metadata": {},
     "output_type": "execute_result"
    }
   ],
   "source": [
    "throws[\"spin_factor\"].isna().value_counts()"
   ]
  },
  {
   "cell_type": "code",
   "execution_count": 120,
   "metadata": {},
   "outputs": [],
   "source": [
    "throws[\"coeff_lift\"] = 0.22"
   ]
  },
  {
   "cell_type": "code",
   "execution_count": 140,
   "metadata": {},
   "outputs": [
    {
     "name": "stderr",
     "output_type": "stream",
     "text": [
      "100%|██████████| 44002/44002 [00:03<00:00, 12980.38it/s]\n"
     ]
    }
   ],
   "source": [
    "cls = []\n",
    "for throw in tqdm(range(len(throws))):\n",
    "    sfactor = throws.loc[throw][\"spin_factor\"]\n",
    "    if sfactor <= 0.1:\n",
    "        cl = 1.6 * sfactor\n",
    "    else:\n",
    "        cl = 0.6 * sfactor + 0.1\n",
    "    cls.append(cl)"
   ]
  },
  {
   "cell_type": "code",
   "execution_count": 142,
   "metadata": {},
   "outputs": [],
   "source": [
    "throws[\"coeff_lift\"] = cls"
   ]
  },
  {
   "cell_type": "code",
   "execution_count": 178,
   "metadata": {},
   "outputs": [
    {
     "name": "stderr",
     "output_type": "stream",
     "text": [
      "100%|██████████| 44002/44002 [00:07<00:00, 6147.67it/s]\n"
     ]
    }
   ],
   "source": [
    "drags = []\n",
    "for throw in tqdm(range(len(throws))):\n",
    "    cd = throws.loc[throw][\"coeff_drag\"]\n",
    "    vtm = throws.loc[throw][\"vt_msec\"]\n",
    "    dforce = -0.5 * cd * P * A * vtm ** 2 * 100\n",
    "    drags.append(dforce)"
   ]
  },
  {
   "cell_type": "code",
   "execution_count": 179,
   "metadata": {},
   "outputs": [],
   "source": [
    "throws[\"drag_force\"] = drags"
   ]
  },
  {
   "cell_type": "code",
   "execution_count": 180,
   "metadata": {},
   "outputs": [
    {
     "name": "stderr",
     "output_type": "stream",
     "text": [
      "100%|██████████| 44002/44002 [00:07<00:00, 6221.52it/s]\n"
     ]
    }
   ],
   "source": [
    "magni = []\n",
    "for throw in tqdm(range(len(throws))):\n",
    "    cl = throws.loc[throw][\"coeff_lift\"]\n",
    "    vtm = throws.loc[throw][\"vt_msec\"]\n",
    "    magnus = 0.5 * cl * P * A * vtm ** 2\n",
    "    magni.append(magnus)"
   ]
  },
  {
   "cell_type": "code",
   "execution_count": 181,
   "metadata": {},
   "outputs": [],
   "source": [
    "throws[\"magnus\"] = magni"
   ]
  },
  {
   "cell_type": "code",
   "execution_count": 182,
   "metadata": {},
   "outputs": [
    {
     "name": "stderr",
     "output_type": "stream",
     "text": [
      "100%|██████████| 44002/44002 [00:17<00:00, 2496.86it/s]\n"
     ]
    }
   ],
   "source": [
    "fxes = []\n",
    "for throw in tqdm(range(len(throws))):\n",
    "    cl = throws.loc[throw][\"coeff_lift\"]\n",
    "    vtm = throws.loc[throw][\"vt_msec\"]\n",
    "    df = throws.loc[throw][\"drag_force\"]\n",
    "    vy = throws.loc[throw][\"vy\"]\n",
    "    vy = throws.loc[throw][\"vx\"]\n",
    "    fx = -np.pi / 2 * P * R**2 * vtm * (cl + vy) + (df * vx)\n",
    "    fxes.append(fx)"
   ]
  },
  {
   "cell_type": "code",
   "execution_count": 183,
   "metadata": {},
   "outputs": [],
   "source": [
    "throws[\"fx\"] = fxes"
   ]
  },
  {
   "cell_type": "code",
   "execution_count": 184,
   "metadata": {},
   "outputs": [
    {
     "name": "stderr",
     "output_type": "stream",
     "text": [
      "100%|██████████| 44002/44002 [00:21<00:00, 2086.57it/s]\n"
     ]
    }
   ],
   "source": [
    "fyes = []\n",
    "for throw in tqdm(range(len(throws))):\n",
    "    backspin = throws.loc[throw][\"backspin\"]\n",
    "    cl = throws.loc[throw][\"coeff_lift\"]\n",
    "    vtm = throws.loc[throw][\"vt_msec\"]\n",
    "    df = throws.loc[throw][\"drag_force\"]\n",
    "    vy = throws.loc[throw][\"vy\"]\n",
    "    vy = throws.loc[throw][\"vx\"]\n",
    "    if backspin == 1:\n",
    "        fy = -np.pi / 2 * P * R**2 * vtm * (cl * vx) - (df * vy) - M * g\n",
    "    else:\n",
    "        fy = -np.pi / 2 * P * R**2 * vtm * (-cl * vx) - (df * vy) - M * g\n",
    "    fyes.append(fy)"
   ]
  },
  {
   "cell_type": "code",
   "execution_count": 185,
   "metadata": {},
   "outputs": [],
   "source": [
    "throws[\"fy\"] = fyes"
   ]
  },
  {
   "cell_type": "code",
   "execution_count": 186,
   "metadata": {},
   "outputs": [],
   "source": [
    "from numpy import pi, deg2rad\n",
    "\n",
    "def make_system(params):\n",
    "    \n",
    "    # convert angle to degrees\n",
    "    theta = deg2rad(params.angle)\n",
    "    \n",
    "    # compute x and y components of velocity, id'd by our counter\n",
    "    vx = throws.iloc[count][\"vx\"]\n",
    "    vy = throws.iloc[count][\"vy\"]\n",
    "    \n",
    "    # make the initial state\n",
    "    init = State(x=params.x, y=params.y, vx=vx, vy=vy)\n",
    "    \n",
    "    # compute the frontal area\n",
    "    area = pi * (params.diameter/2)**2\n",
    "\n",
    "    return System(params,\n",
    "                  init = init,\n",
    "                  area = area)"
   ]
  },
  {
   "cell_type": "code",
   "execution_count": 187,
   "metadata": {},
   "outputs": [],
   "source": [
    "def slope_func(t, state, system):\n",
    "    x, y, vx, vy = state\n",
    "    mass, g = system.mass, system.g\n",
    "    \n",
    "    V = Vector(vx, vy)\n",
    "    a_drag = throws.iloc[count][\"drag_force\"]\n",
    "    # a_drag = drag_force(V, system) / mass\n",
    "    a_grav = g * Vector(0, -1)\n",
    "    a_lift = throws.iloc[count][\"magnus\"]\n",
    "    \n",
    "    A = a_grav + a_drag + a_lift\n",
    "    \n",
    "    return V.x, V.y, A.x, A.y"
   ]
  },
  {
   "cell_type": "code",
   "execution_count": 188,
   "metadata": {},
   "outputs": [],
   "source": [
    "def event_func(t, state, system):\n",
    "    x, y, vx, vy = state\n",
    "    return y"
   ]
  },
  {
   "cell_type": "code",
   "execution_count": 189,
   "metadata": {},
   "outputs": [],
   "source": [
    "results, details = run_solve_ivp(system, slope_func,\n",
    "                                 events=event_func)"
   ]
  },
  {
   "cell_type": "code",
   "execution_count": 205,
   "metadata": {},
   "outputs": [
    {
     "name": "stderr",
     "output_type": "stream",
     "text": [
      "100%|██████████| 100/100 [00:02<00:00, 49.98it/s]\n"
     ]
    }
   ],
   "source": [
    "flight_times = []\n",
    "x_dists = []\n",
    "y_dists = []\n",
    "vx_finals = []\n",
    "vy_finals = []\n",
    "final_vs = []\n",
    "for throw in tqdm(range(100)):\n",
    "    backspin = throws.loc[throw][\"backspin\"]\n",
    "    Cl = throws.loc[throw][\"coeff_lift\"]\n",
    "    Cd = throws.loc[throw][\"coeff_drag\"]\n",
    "    vtm = throws.loc[throw][\"vt_msec\"]\n",
    "    df = throws.loc[throw][\"drag_force\"]\n",
    "    vy = throws.loc[throw][\"vy\"]\n",
    "    vy = throws.loc[throw][\"vx\"]\n",
    "    params = Params(\n",
    "        x = 0,          # m\n",
    "        y = 1.7343,          # m\n",
    "        angle = 45,     # degree\n",
    "        # speed = 44.34,     # m / s\n",
    "        speed = vtm,     # m / s\n",
    "\n",
    "        mass = 145e-3,    # kg \n",
    "        diameter = 73e-3, # m \n",
    "        C_d = Cd,       # dimensionless\n",
    "        C_l = Cl,\n",
    "        \n",
    "\n",
    "        rho = 1.225,      # kg/m**3\n",
    "        g = 9.806,        # m/s**2\n",
    "        t_end = 10,     # s\n",
    "    )\n",
    "    \n",
    "    system = make_system(params)\n",
    "    \n",
    "    results, details = run_solve_ivp(system, slope_func,\n",
    "                                events=event_func)\n",
    "    \n",
    "    flight_time = results.index[-1]\n",
    "    flight_times.append(flight_time)\n",
    "    \n",
    "    final_state = results.iloc[-1]\n",
    "    x_dist = final_state.x\n",
    "    y_dist = final_state.y\n",
    "    vx_final = final_state.vx\n",
    "    vy_final = final_state.vy\n",
    "\n",
    "    x_dists.append(x_dist)\n",
    "    y_dists.append(y_dist)\n",
    "    vx_finals.append(vx_final)\n",
    "    vy_finals.append(vy_final)\n",
    "    \n",
    "    final_V = Vector(final_state.vx, final_state.vy)\n",
    "    final_vs.append(final_V)"
   ]
  },
  {
   "cell_type": "code",
   "execution_count": 206,
   "metadata": {},
   "outputs": [
    {
     "ename": "ValueError",
     "evalue": "Length of values (100) does not match length of index (44002)",
     "output_type": "error",
     "traceback": [
      "\u001b[0;31m---------------------------------------------------------------------------\u001b[0m",
      "\u001b[0;31mValueError\u001b[0m                                Traceback (most recent call last)",
      "\u001b[1;32m/Users/bean/Dropbox/code/_projects/baseball/going-for-distance/He's Going for Distance.ipynb Cell 104\u001b[0m in \u001b[0;36m<cell line: 1>\u001b[0;34m()\u001b[0m\n\u001b[0;32m----> <a href='vscode-notebook-cell:/Users/bean/Dropbox/code/_projects/baseball/going-for-distance/He%27s%20Going%20for%20Distance.ipynb#ch0000124?line=0'>1</a>\u001b[0m throws[\u001b[39m'\u001b[39m\u001b[39mx_dist\u001b[39m\u001b[39m'\u001b[39m] \u001b[39m=\u001b[39m x_dists\n\u001b[1;32m      <a href='vscode-notebook-cell:/Users/bean/Dropbox/code/_projects/baseball/going-for-distance/He%27s%20Going%20for%20Distance.ipynb#ch0000124?line=1'>2</a>\u001b[0m throws[\u001b[39m'\u001b[39m\u001b[39my_dist\u001b[39m\u001b[39m'\u001b[39m] \u001b[39m=\u001b[39m y_dists\n\u001b[1;32m      <a href='vscode-notebook-cell:/Users/bean/Dropbox/code/_projects/baseball/going-for-distance/He%27s%20Going%20for%20Distance.ipynb#ch0000124?line=2'>3</a>\u001b[0m throws[\u001b[39m'\u001b[39m\u001b[39mvx_final\u001b[39m\u001b[39m'\u001b[39m] \u001b[39m=\u001b[39m vx_finals\n",
      "File \u001b[0;32m~/.pyenv/versions/3.10.3/lib/python3.10/site-packages/pandas/core/frame.py:3655\u001b[0m, in \u001b[0;36mDataFrame.__setitem__\u001b[0;34m(self, key, value)\u001b[0m\n\u001b[1;32m   3652\u001b[0m     \u001b[39mself\u001b[39m\u001b[39m.\u001b[39m_setitem_array([key], value)\n\u001b[1;32m   3653\u001b[0m \u001b[39melse\u001b[39;00m:\n\u001b[1;32m   3654\u001b[0m     \u001b[39m# set column\u001b[39;00m\n\u001b[0;32m-> 3655\u001b[0m     \u001b[39mself\u001b[39;49m\u001b[39m.\u001b[39;49m_set_item(key, value)\n",
      "File \u001b[0;32m~/.pyenv/versions/3.10.3/lib/python3.10/site-packages/pandas/core/frame.py:3832\u001b[0m, in \u001b[0;36mDataFrame._set_item\u001b[0;34m(self, key, value)\u001b[0m\n\u001b[1;32m   3822\u001b[0m \u001b[39mdef\u001b[39;00m \u001b[39m_set_item\u001b[39m(\u001b[39mself\u001b[39m, key, value) \u001b[39m-\u001b[39m\u001b[39m>\u001b[39m \u001b[39mNone\u001b[39;00m:\n\u001b[1;32m   3823\u001b[0m     \u001b[39m\"\"\"\u001b[39;00m\n\u001b[1;32m   3824\u001b[0m \u001b[39m    Add series to DataFrame in specified column.\u001b[39;00m\n\u001b[1;32m   3825\u001b[0m \n\u001b[0;32m   (...)\u001b[0m\n\u001b[1;32m   3830\u001b[0m \u001b[39m    ensure homogeneity.\u001b[39;00m\n\u001b[1;32m   3831\u001b[0m \u001b[39m    \"\"\"\u001b[39;00m\n\u001b[0;32m-> 3832\u001b[0m     value \u001b[39m=\u001b[39m \u001b[39mself\u001b[39;49m\u001b[39m.\u001b[39;49m_sanitize_column(value)\n\u001b[1;32m   3834\u001b[0m     \u001b[39mif\u001b[39;00m (\n\u001b[1;32m   3835\u001b[0m         key \u001b[39min\u001b[39;00m \u001b[39mself\u001b[39m\u001b[39m.\u001b[39mcolumns\n\u001b[1;32m   3836\u001b[0m         \u001b[39mand\u001b[39;00m value\u001b[39m.\u001b[39mndim \u001b[39m==\u001b[39m \u001b[39m1\u001b[39m\n\u001b[1;32m   3837\u001b[0m         \u001b[39mand\u001b[39;00m \u001b[39mnot\u001b[39;00m is_extension_array_dtype(value)\n\u001b[1;32m   3838\u001b[0m     ):\n\u001b[1;32m   3839\u001b[0m         \u001b[39m# broadcast across multiple columns if necessary\u001b[39;00m\n\u001b[1;32m   3840\u001b[0m         \u001b[39mif\u001b[39;00m \u001b[39mnot\u001b[39;00m \u001b[39mself\u001b[39m\u001b[39m.\u001b[39mcolumns\u001b[39m.\u001b[39mis_unique \u001b[39mor\u001b[39;00m \u001b[39misinstance\u001b[39m(\u001b[39mself\u001b[39m\u001b[39m.\u001b[39mcolumns, MultiIndex):\n",
      "File \u001b[0;32m~/.pyenv/versions/3.10.3/lib/python3.10/site-packages/pandas/core/frame.py:4535\u001b[0m, in \u001b[0;36mDataFrame._sanitize_column\u001b[0;34m(self, value)\u001b[0m\n\u001b[1;32m   4532\u001b[0m     \u001b[39mreturn\u001b[39;00m _reindex_for_setitem(value, \u001b[39mself\u001b[39m\u001b[39m.\u001b[39mindex)\n\u001b[1;32m   4534\u001b[0m \u001b[39mif\u001b[39;00m is_list_like(value):\n\u001b[0;32m-> 4535\u001b[0m     com\u001b[39m.\u001b[39;49mrequire_length_match(value, \u001b[39mself\u001b[39;49m\u001b[39m.\u001b[39;49mindex)\n\u001b[1;32m   4536\u001b[0m \u001b[39mreturn\u001b[39;00m sanitize_array(value, \u001b[39mself\u001b[39m\u001b[39m.\u001b[39mindex, copy\u001b[39m=\u001b[39m\u001b[39mTrue\u001b[39;00m, allow_2d\u001b[39m=\u001b[39m\u001b[39mTrue\u001b[39;00m)\n",
      "File \u001b[0;32m~/.pyenv/versions/3.10.3/lib/python3.10/site-packages/pandas/core/common.py:557\u001b[0m, in \u001b[0;36mrequire_length_match\u001b[0;34m(data, index)\u001b[0m\n\u001b[1;32m    553\u001b[0m \u001b[39m\"\"\"\u001b[39;00m\n\u001b[1;32m    554\u001b[0m \u001b[39mCheck the length of data matches the length of the index.\u001b[39;00m\n\u001b[1;32m    555\u001b[0m \u001b[39m\"\"\"\u001b[39;00m\n\u001b[1;32m    556\u001b[0m \u001b[39mif\u001b[39;00m \u001b[39mlen\u001b[39m(data) \u001b[39m!=\u001b[39m \u001b[39mlen\u001b[39m(index):\n\u001b[0;32m--> 557\u001b[0m     \u001b[39mraise\u001b[39;00m \u001b[39mValueError\u001b[39;00m(\n\u001b[1;32m    558\u001b[0m         \u001b[39m\"\u001b[39m\u001b[39mLength of values \u001b[39m\u001b[39m\"\u001b[39m\n\u001b[1;32m    559\u001b[0m         \u001b[39mf\u001b[39m\u001b[39m\"\u001b[39m\u001b[39m(\u001b[39m\u001b[39m{\u001b[39;00m\u001b[39mlen\u001b[39m(data)\u001b[39m}\u001b[39;00m\u001b[39m) \u001b[39m\u001b[39m\"\u001b[39m\n\u001b[1;32m    560\u001b[0m         \u001b[39m\"\u001b[39m\u001b[39mdoes not match length of index \u001b[39m\u001b[39m\"\u001b[39m\n\u001b[1;32m    561\u001b[0m         \u001b[39mf\u001b[39m\u001b[39m\"\u001b[39m\u001b[39m(\u001b[39m\u001b[39m{\u001b[39;00m\u001b[39mlen\u001b[39m(index)\u001b[39m}\u001b[39;00m\u001b[39m)\u001b[39m\u001b[39m\"\u001b[39m\n\u001b[1;32m    562\u001b[0m     )\n",
      "\u001b[0;31mValueError\u001b[0m: Length of values (100) does not match length of index (44002)"
     ]
    }
   ],
   "source": [
    "throws['x_dist'] = x_dists\n",
    "throws['y_dist'] = y_dists\n",
    "throws['vx_final'] = vx_finals\n",
    "throws['vy_final'] = vy_finals\n",
    "throws['flight_time'] = flight_times\n",
    "throws['final_V'] = final_vs"
   ]
  },
  {
   "cell_type": "code",
   "execution_count": 204,
   "metadata": {},
   "outputs": [
    {
     "data": {
      "text/html": [
       "<div>\n",
       "<style scoped>\n",
       "    .dataframe tbody tr th:only-of-type {\n",
       "        vertical-align: middle;\n",
       "    }\n",
       "\n",
       "    .dataframe tbody tr th {\n",
       "        vertical-align: top;\n",
       "    }\n",
       "\n",
       "    .dataframe thead th {\n",
       "        text-align: right;\n",
       "    }\n",
       "</style>\n",
       "<table border=\"1\" class=\"dataframe\">\n",
       "  <thead>\n",
       "    <tr style=\"text-align: right;\">\n",
       "      <th></th>\n",
       "      <th>game_date</th>\n",
       "      <th>pitch_name</th>\n",
       "      <th>release_extension</th>\n",
       "      <th>release_speed</th>\n",
       "      <th>release_spin_rate</th>\n",
       "      <th>spin_axis</th>\n",
       "      <th>release_pos_z</th>\n",
       "      <th>vx0</th>\n",
       "      <th>vy0</th>\n",
       "      <th>vz0</th>\n",
       "      <th>...</th>\n",
       "      <th>coeff_lift</th>\n",
       "      <th>drag_force</th>\n",
       "      <th>magnus</th>\n",
       "      <th>fx</th>\n",
       "      <th>fy</th>\n",
       "      <th>k</th>\n",
       "      <th>x_dist</th>\n",
       "      <th>y_dist</th>\n",
       "      <th>vx_final</th>\n",
       "      <th>vy_final</th>\n",
       "    </tr>\n",
       "  </thead>\n",
       "  <tbody>\n",
       "    <tr>\n",
       "      <th>0</th>\n",
       "      <td>7/16/22</td>\n",
       "      <td>Slider</td>\n",
       "      <td>6.2</td>\n",
       "      <td>84.4</td>\n",
       "      <td>2356</td>\n",
       "      <td>139</td>\n",
       "      <td>5.28</td>\n",
       "      <td>8.348185</td>\n",
       "      <td>-122.797725</td>\n",
       "      <td>-2.474601</td>\n",
       "      <td>...</td>\n",
       "      <td>0.244531</td>\n",
       "      <td>-1.287984</td>\n",
       "      <td>0.907907</td>\n",
       "      <td>-19790.553183</td>\n",
       "      <td>7296.744135</td>\n",
       "      <td>3.784665</td>\n",
       "      <td>142.16369</td>\n",
       "      <td>2.842171e-14</td>\n",
       "      <td>18.885629</td>\n",
       "      <td>-35.941918</td>\n",
       "    </tr>\n",
       "    <tr>\n",
       "      <th>1</th>\n",
       "      <td>7/16/22</td>\n",
       "      <td>Slider</td>\n",
       "      <td>6.2</td>\n",
       "      <td>84.2</td>\n",
       "      <td>2324</td>\n",
       "      <td>117</td>\n",
       "      <td>5.38</td>\n",
       "      <td>5.598506</td>\n",
       "      <td>-122.490258</td>\n",
       "      <td>-1.081059</td>\n",
       "      <td>...</td>\n",
       "      <td>0.242907</td>\n",
       "      <td>-1.283828</td>\n",
       "      <td>0.897607</td>\n",
       "      <td>-19695.902421</td>\n",
       "      <td>7231.169795</td>\n",
       "      <td>3.784665</td>\n",
       "      <td>142.16369</td>\n",
       "      <td>2.842171e-14</td>\n",
       "      <td>18.885629</td>\n",
       "      <td>-35.941918</td>\n",
       "    </tr>\n",
       "    <tr>\n",
       "      <th>2</th>\n",
       "      <td>7/16/22</td>\n",
       "      <td>4-Seam Fastball</td>\n",
       "      <td>6.3</td>\n",
       "      <td>93.2</td>\n",
       "      <td>2475</td>\n",
       "      <td>225</td>\n",
       "      <td>5.44</td>\n",
       "      <td>14.748374</td>\n",
       "      <td>-134.933904</td>\n",
       "      <td>-5.576836</td>\n",
       "      <td>...</td>\n",
       "      <td>0.237495</td>\n",
       "      <td>-1.468218</td>\n",
       "      <td>1.07525</td>\n",
       "      <td>-24094.17968</td>\n",
       "      <td>7830.562608</td>\n",
       "      <td>3.784665</td>\n",
       "      <td>142.16369</td>\n",
       "      <td>2.842171e-14</td>\n",
       "      <td>18.885629</td>\n",
       "      <td>-35.941918</td>\n",
       "    </tr>\n",
       "    <tr>\n",
       "      <th>3</th>\n",
       "      <td>7/16/22</td>\n",
       "      <td>Curveball</td>\n",
       "      <td>6.4</td>\n",
       "      <td>71.1</td>\n",
       "      <td>2743</td>\n",
       "      <td>62</td>\n",
       "      <td>5.53</td>\n",
       "      <td>1.366678</td>\n",
       "      <td>-103.510146</td>\n",
       "      <td>2.524086</td>\n",
       "      <td>...</td>\n",
       "      <td>0.299749</td>\n",
       "      <td>-1.041157</td>\n",
       "      <td>0.789804</td>\n",
       "      <td>-14126.293583</td>\n",
       "      <td>7526.012975</td>\n",
       "      <td>3.784665</td>\n",
       "      <td>142.16369</td>\n",
       "      <td>2.842171e-14</td>\n",
       "      <td>18.885629</td>\n",
       "      <td>-35.941918</td>\n",
       "    </tr>\n",
       "    <tr>\n",
       "      <th>4</th>\n",
       "      <td>7/16/22</td>\n",
       "      <td>4-Seam Fastball</td>\n",
       "      <td>6.3</td>\n",
       "      <td>92.5</td>\n",
       "      <td>2368</td>\n",
       "      <td>221</td>\n",
       "      <td>5.44</td>\n",
       "      <td>7.593156</td>\n",
       "      <td>-134.464632</td>\n",
       "      <td>-4.170791</td>\n",
       "      <td>...</td>\n",
       "      <td>0.232546</td>\n",
       "      <td>-1.453857</td>\n",
       "      <td>1.037089</td>\n",
       "      <td>-23730.42377</td>\n",
       "      <td>7610.120967</td>\n",
       "      <td>3.784665</td>\n",
       "      <td>142.16369</td>\n",
       "      <td>2.842171e-14</td>\n",
       "      <td>18.885629</td>\n",
       "      <td>-35.941918</td>\n",
       "    </tr>\n",
       "  </tbody>\n",
       "</table>\n",
       "<p>5 rows × 33 columns</p>\n",
       "</div>"
      ],
      "text/plain": [
       "  game_date       pitch_name  release_extension  release_speed  \\\n",
       "0   7/16/22           Slider                6.2           84.4   \n",
       "1   7/16/22           Slider                6.2           84.2   \n",
       "2   7/16/22  4-Seam Fastball                6.3           93.2   \n",
       "3   7/16/22        Curveball                6.4           71.1   \n",
       "4   7/16/22  4-Seam Fastball                6.3           92.5   \n",
       "\n",
       "   release_spin_rate  spin_axis  release_pos_z        vx0         vy0  \\\n",
       "0               2356        139           5.28   8.348185 -122.797725   \n",
       "1               2324        117           5.38   5.598506 -122.490258   \n",
       "2               2475        225           5.44  14.748374 -134.933904   \n",
       "3               2743         62           5.53   1.366678 -103.510146   \n",
       "4               2368        221           5.44   7.593156 -134.464632   \n",
       "\n",
       "        vz0  ...  coeff_lift  drag_force    magnus            fx           fy  \\\n",
       "0 -2.474601  ...    0.244531   -1.287984  0.907907 -19790.553183  7296.744135   \n",
       "1 -1.081059  ...    0.242907   -1.283828  0.897607 -19695.902421  7231.169795   \n",
       "2 -5.576836  ...    0.237495   -1.468218   1.07525  -24094.17968  7830.562608   \n",
       "3  2.524086  ...    0.299749   -1.041157  0.789804 -14126.293583  7526.012975   \n",
       "4 -4.170791  ...    0.232546   -1.453857  1.037089  -23730.42377  7610.120967   \n",
       "\n",
       "          k     x_dist        y_dist   vx_final   vy_final  \n",
       "0  3.784665  142.16369  2.842171e-14  18.885629 -35.941918  \n",
       "1  3.784665  142.16369  2.842171e-14  18.885629 -35.941918  \n",
       "2  3.784665  142.16369  2.842171e-14  18.885629 -35.941918  \n",
       "3  3.784665  142.16369  2.842171e-14  18.885629 -35.941918  \n",
       "4  3.784665  142.16369  2.842171e-14  18.885629 -35.941918  \n",
       "\n",
       "[5 rows x 33 columns]"
      ]
     },
     "execution_count": 204,
     "metadata": {},
     "output_type": "execute_result"
    }
   ],
   "source": [
    "throws.head()"
   ]
  },
  {
   "cell_type": "code",
   "execution_count": 202,
   "metadata": {},
   "outputs": [
    {
     "data": {
      "text/html": [
       "<div>\n",
       "<style scoped>\n",
       "    .dataframe tbody tr th:only-of-type {\n",
       "        vertical-align: middle;\n",
       "    }\n",
       "\n",
       "    .dataframe tbody tr th {\n",
       "        vertical-align: top;\n",
       "    }\n",
       "\n",
       "    .dataframe thead th {\n",
       "        text-align: right;\n",
       "    }\n",
       "</style>\n",
       "<table border=\"1\" class=\"dataframe\">\n",
       "  <thead>\n",
       "    <tr style=\"text-align: right;\">\n",
       "      <th></th>\n",
       "      <th>x</th>\n",
       "      <th>y</th>\n",
       "      <th>vx</th>\n",
       "      <th>vy</th>\n",
       "    </tr>\n",
       "  </thead>\n",
       "  <tbody>\n",
       "    <tr>\n",
       "      <th>0.000000</th>\n",
       "      <td>0.000000</td>\n",
       "      <td>1.734300e+00</td>\n",
       "      <td>21.882404</td>\n",
       "      <td>35.444575</td>\n",
       "    </tr>\n",
       "    <tr>\n",
       "      <th>0.069743</th>\n",
       "      <td>1.525094</td>\n",
       "      <td>4.181408e+00</td>\n",
       "      <td>21.852436</td>\n",
       "      <td>34.730710</td>\n",
       "    </tr>\n",
       "    <tr>\n",
       "      <th>0.139485</th>\n",
       "      <td>3.048097</td>\n",
       "      <td>6.578729e+00</td>\n",
       "      <td>21.822469</td>\n",
       "      <td>34.016846</td>\n",
       "    </tr>\n",
       "    <tr>\n",
       "      <th>0.209228</th>\n",
       "      <td>4.569010</td>\n",
       "      <td>8.926263e+00</td>\n",
       "      <td>21.792501</td>\n",
       "      <td>33.302981</td>\n",
       "    </tr>\n",
       "    <tr>\n",
       "      <th>0.278971</th>\n",
       "      <td>6.087834</td>\n",
       "      <td>1.122401e+01</td>\n",
       "      <td>21.762533</td>\n",
       "      <td>32.589116</td>\n",
       "    </tr>\n",
       "    <tr>\n",
       "      <th>...</th>\n",
       "      <td>...</td>\n",
       "      <td>...</td>\n",
       "      <td>...</td>\n",
       "      <td>...</td>\n",
       "    </tr>\n",
       "    <tr>\n",
       "      <th>6.695302</th>\n",
       "      <td>136.878428</td>\n",
       "      <td>9.628454e+00</td>\n",
       "      <td>19.005500</td>\n",
       "      <td>-33.086458</td>\n",
       "    </tr>\n",
       "    <tr>\n",
       "      <th>6.765044</th>\n",
       "      <td>138.202879</td>\n",
       "      <td>7.296021e+00</td>\n",
       "      <td>18.975532</td>\n",
       "      <td>-33.800323</td>\n",
       "    </tr>\n",
       "    <tr>\n",
       "      <th>6.834787</th>\n",
       "      <td>139.525239</td>\n",
       "      <td>4.913801e+00</td>\n",
       "      <td>18.945564</td>\n",
       "      <td>-34.514188</td>\n",
       "    </tr>\n",
       "    <tr>\n",
       "      <th>6.904530</th>\n",
       "      <td>140.845510</td>\n",
       "      <td>2.481794e+00</td>\n",
       "      <td>18.915597</td>\n",
       "      <td>-35.228053</td>\n",
       "    </tr>\n",
       "    <tr>\n",
       "      <th>6.974273</th>\n",
       "      <td>142.163690</td>\n",
       "      <td>2.842171e-14</td>\n",
       "      <td>18.885629</td>\n",
       "      <td>-35.941918</td>\n",
       "    </tr>\n",
       "  </tbody>\n",
       "</table>\n",
       "<p>101 rows × 4 columns</p>\n",
       "</div>"
      ],
      "text/plain": [
       "                   x             y         vx         vy\n",
       "0.000000    0.000000  1.734300e+00  21.882404  35.444575\n",
       "0.069743    1.525094  4.181408e+00  21.852436  34.730710\n",
       "0.139485    3.048097  6.578729e+00  21.822469  34.016846\n",
       "0.209228    4.569010  8.926263e+00  21.792501  33.302981\n",
       "0.278971    6.087834  1.122401e+01  21.762533  32.589116\n",
       "...              ...           ...        ...        ...\n",
       "6.695302  136.878428  9.628454e+00  19.005500 -33.086458\n",
       "6.765044  138.202879  7.296021e+00  18.975532 -33.800323\n",
       "6.834787  139.525239  4.913801e+00  18.945564 -34.514188\n",
       "6.904530  140.845510  2.481794e+00  18.915597 -35.228053\n",
       "6.974273  142.163690  2.842171e-14  18.885629 -35.941918\n",
       "\n",
       "[101 rows x 4 columns]"
      ]
     },
     "execution_count": 202,
     "metadata": {},
     "output_type": "execute_result"
    }
   ],
   "source": [
    "results"
   ]
  },
  {
   "cell_type": "code",
   "execution_count": 199,
   "metadata": {},
   "outputs": [],
   "source": [
    "final_state = results.iloc[-1]\n",
    "x_dist = final_state.x\n",
    "y_dist = final_state.y\n",
    "vx_final = final_state.vx\n",
    "vy_final = final_state.vy\n",
    "\n",
    "throws[\"x_dist\"] = x_dist\n",
    "throws[\"y_dist\"] = y_dist\n",
    "throws[\"vx_final\"] = vx_final\n",
    "throws[\"vy_final\"] = vy_final"
   ]
  },
  {
   "cell_type": "code",
   "execution_count": 200,
   "metadata": {},
   "outputs": [
    {
     "data": {
      "image/png": "[encoded data removed]",
      "text/plain": [
       "<Figure size 432x288 with 1 Axes>"
      ]
     },
     "metadata": {
      "needs_background": "light"
     },
     "output_type": "display_data"
    }
   ],
   "source": [
    "def plot_trajectory(results):\n",
    "    x = results.x\n",
    "    y = results.y\n",
    "    make_series(x, y).plot(label='trajectory')\n",
    "\n",
    "    decorate(xlabel='x position (m)',\n",
    "             ylabel='y position (m)')\n",
    "\n",
    "plot_trajectory(results)"
   ]
  },
  {
   "cell_type": "code",
   "execution_count": 201,
   "metadata": {},
   "outputs": [
    {
     "data": {
      "text/html": [
       "<div>\n",
       "<style scoped>\n",
       "    .dataframe tbody tr th:only-of-type {\n",
       "        vertical-align: middle;\n",
       "    }\n",
       "\n",
       "    .dataframe tbody tr th {\n",
       "        vertical-align: top;\n",
       "    }\n",
       "\n",
       "    .dataframe thead th {\n",
       "        text-align: right;\n",
       "    }\n",
       "</style>\n",
       "<table border=\"1\" class=\"dataframe\">\n",
       "  <thead>\n",
       "    <tr style=\"text-align: right;\">\n",
       "      <th></th>\n",
       "      <th>game_date</th>\n",
       "      <th>pitch_name</th>\n",
       "      <th>release_extension</th>\n",
       "      <th>release_speed</th>\n",
       "      <th>release_spin_rate</th>\n",
       "      <th>spin_axis</th>\n",
       "      <th>release_pos_z</th>\n",
       "      <th>vx0</th>\n",
       "      <th>vy0</th>\n",
       "      <th>vz0</th>\n",
       "      <th>...</th>\n",
       "      <th>coeff_lift</th>\n",
       "      <th>drag_force</th>\n",
       "      <th>magnus</th>\n",
       "      <th>fx</th>\n",
       "      <th>fy</th>\n",
       "      <th>k</th>\n",
       "      <th>x_dist</th>\n",
       "      <th>y_dist</th>\n",
       "      <th>vx_final</th>\n",
       "      <th>vy_final</th>\n",
       "    </tr>\n",
       "  </thead>\n",
       "  <tbody>\n",
       "    <tr>\n",
       "      <th>0</th>\n",
       "      <td>7/16/22</td>\n",
       "      <td>Slider</td>\n",
       "      <td>6.2</td>\n",
       "      <td>84.4</td>\n",
       "      <td>2356</td>\n",
       "      <td>139</td>\n",
       "      <td>5.28</td>\n",
       "      <td>8.348185</td>\n",
       "      <td>-122.797725</td>\n",
       "      <td>-2.474601</td>\n",
       "      <td>...</td>\n",
       "      <td>0.244531</td>\n",
       "      <td>-1.287984</td>\n",
       "      <td>0.907907</td>\n",
       "      <td>-19790.553183</td>\n",
       "      <td>7296.744135</td>\n",
       "      <td>3.784665</td>\n",
       "      <td>142.16369</td>\n",
       "      <td>2.842171e-14</td>\n",
       "      <td>18.885629</td>\n",
       "      <td>-35.941918</td>\n",
       "    </tr>\n",
       "    <tr>\n",
       "      <th>1</th>\n",
       "      <td>7/16/22</td>\n",
       "      <td>Slider</td>\n",
       "      <td>6.2</td>\n",
       "      <td>84.2</td>\n",
       "      <td>2324</td>\n",
       "      <td>117</td>\n",
       "      <td>5.38</td>\n",
       "      <td>5.598506</td>\n",
       "      <td>-122.490258</td>\n",
       "      <td>-1.081059</td>\n",
       "      <td>...</td>\n",
       "      <td>0.242907</td>\n",
       "      <td>-1.283828</td>\n",
       "      <td>0.897607</td>\n",
       "      <td>-19695.902421</td>\n",
       "      <td>7231.169795</td>\n",
       "      <td>3.784665</td>\n",
       "      <td>142.16369</td>\n",
       "      <td>2.842171e-14</td>\n",
       "      <td>18.885629</td>\n",
       "      <td>-35.941918</td>\n",
       "    </tr>\n",
       "    <tr>\n",
       "      <th>2</th>\n",
       "      <td>7/16/22</td>\n",
       "      <td>4-Seam Fastball</td>\n",
       "      <td>6.3</td>\n",
       "      <td>93.2</td>\n",
       "      <td>2475</td>\n",
       "      <td>225</td>\n",
       "      <td>5.44</td>\n",
       "      <td>14.748374</td>\n",
       "      <td>-134.933904</td>\n",
       "      <td>-5.576836</td>\n",
       "      <td>...</td>\n",
       "      <td>0.237495</td>\n",
       "      <td>-1.468218</td>\n",
       "      <td>1.07525</td>\n",
       "      <td>-24094.17968</td>\n",
       "      <td>7830.562608</td>\n",
       "      <td>3.784665</td>\n",
       "      <td>142.16369</td>\n",
       "      <td>2.842171e-14</td>\n",
       "      <td>18.885629</td>\n",
       "      <td>-35.941918</td>\n",
       "    </tr>\n",
       "    <tr>\n",
       "      <th>3</th>\n",
       "      <td>7/16/22</td>\n",
       "      <td>Curveball</td>\n",
       "      <td>6.4</td>\n",
       "      <td>71.1</td>\n",
       "      <td>2743</td>\n",
       "      <td>62</td>\n",
       "      <td>5.53</td>\n",
       "      <td>1.366678</td>\n",
       "      <td>-103.510146</td>\n",
       "      <td>2.524086</td>\n",
       "      <td>...</td>\n",
       "      <td>0.299749</td>\n",
       "      <td>-1.041157</td>\n",
       "      <td>0.789804</td>\n",
       "      <td>-14126.293583</td>\n",
       "      <td>7526.012975</td>\n",
       "      <td>3.784665</td>\n",
       "      <td>142.16369</td>\n",
       "      <td>2.842171e-14</td>\n",
       "      <td>18.885629</td>\n",
       "      <td>-35.941918</td>\n",
       "    </tr>\n",
       "    <tr>\n",
       "      <th>4</th>\n",
       "      <td>7/16/22</td>\n",
       "      <td>4-Seam Fastball</td>\n",
       "      <td>6.3</td>\n",
       "      <td>92.5</td>\n",
       "      <td>2368</td>\n",
       "      <td>221</td>\n",
       "      <td>5.44</td>\n",
       "      <td>7.593156</td>\n",
       "      <td>-134.464632</td>\n",
       "      <td>-4.170791</td>\n",
       "      <td>...</td>\n",
       "      <td>0.232546</td>\n",
       "      <td>-1.453857</td>\n",
       "      <td>1.037089</td>\n",
       "      <td>-23730.42377</td>\n",
       "      <td>7610.120967</td>\n",
       "      <td>3.784665</td>\n",
       "      <td>142.16369</td>\n",
       "      <td>2.842171e-14</td>\n",
       "      <td>18.885629</td>\n",
       "      <td>-35.941918</td>\n",
       "    </tr>\n",
       "  </tbody>\n",
       "</table>\n",
       "<p>5 rows × 33 columns</p>\n",
       "</div>"
      ],
      "text/plain": [
       "  game_date       pitch_name  release_extension  release_speed  \\\n",
       "0   7/16/22           Slider                6.2           84.4   \n",
       "1   7/16/22           Slider                6.2           84.2   \n",
       "2   7/16/22  4-Seam Fastball                6.3           93.2   \n",
       "3   7/16/22        Curveball                6.4           71.1   \n",
       "4   7/16/22  4-Seam Fastball                6.3           92.5   \n",
       "\n",
       "   release_spin_rate  spin_axis  release_pos_z        vx0         vy0  \\\n",
       "0               2356        139           5.28   8.348185 -122.797725   \n",
       "1               2324        117           5.38   5.598506 -122.490258   \n",
       "2               2475        225           5.44  14.748374 -134.933904   \n",
       "3               2743         62           5.53   1.366678 -103.510146   \n",
       "4               2368        221           5.44   7.593156 -134.464632   \n",
       "\n",
       "        vz0  ...  coeff_lift  drag_force    magnus            fx           fy  \\\n",
       "0 -2.474601  ...    0.244531   -1.287984  0.907907 -19790.553183  7296.744135   \n",
       "1 -1.081059  ...    0.242907   -1.283828  0.897607 -19695.902421  7231.169795   \n",
       "2 -5.576836  ...    0.237495   -1.468218   1.07525  -24094.17968  7830.562608   \n",
       "3  2.524086  ...    0.299749   -1.041157  0.789804 -14126.293583  7526.012975   \n",
       "4 -4.170791  ...    0.232546   -1.453857  1.037089  -23730.42377  7610.120967   \n",
       "\n",
       "          k     x_dist        y_dist   vx_final   vy_final  \n",
       "0  3.784665  142.16369  2.842171e-14  18.885629 -35.941918  \n",
       "1  3.784665  142.16369  2.842171e-14  18.885629 -35.941918  \n",
       "2  3.784665  142.16369  2.842171e-14  18.885629 -35.941918  \n",
       "3  3.784665  142.16369  2.842171e-14  18.885629 -35.941918  \n",
       "4  3.784665  142.16369  2.842171e-14  18.885629 -35.941918  \n",
       "\n",
       "[5 rows x 33 columns]"
      ]
     },
     "execution_count": 201,
     "metadata": {},
     "output_type": "execute_result"
    }
   ],
   "source": [
    "throws.head()"
   ]
  },
  {
   "cell_type": "code",
   "execution_count": null,
   "metadata": {},
   "outputs": [],
   "source": []
  }
 ],
 "metadata": {
  "kernelspec": {
   "display_name": "Python 3.10.3 64-bit ('3.10.3')",
   "language": "python",
   "name": "python3"
  },
  "language_info": {
   "codemirror_mode": {
    "name": "ipython",
    "version": 3
   },
   "file_extension": ".py",
   "mimetype": "text/x-python",
   "name": "python",
   "nbconvert_exporter": "python",
   "pygments_lexer": "ipython3",
   "version": "3.10.3"
  },
  "orig_nbformat": 4,
  "vscode": {
   "interpreter": {
    "hash": "10626171d4353dd8d0f12b0dae77464b904fee8f635bb045a55f368206a04bde"
   }
  }
 },
 "nbformat": 4,
 "nbformat_minor": 2
}
