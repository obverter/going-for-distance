{
 "cells": [
  {
   "cell_type": "markdown",
   "metadata": {},
   "source": [
    "### Let's pretend that real-life professional baseball player Max Scherzer wakes up tomorrow in a flat, featureless pocket universe. \n",
    "\n",
    "Let's agree that this place:\n",
    "\n",
    "- Has a windless, Earth-like atmosphere pegged to STP and its air is uniform in density and temperature. (15C, 101.325kPa = 1225 kg/m<sup>3</sup>);\n",
    "- is subject to Earth-like gravity (9.807 m/s<sup>2</sup>);\n",
    "- where thrown objects do not roll upon impact with the ground;\n",
    "- and isn't Cleveland.\n",
    "\n",
    "Let's also state the obvious: Max wants to go home.\n"
   ]
  },
  {
   "cell_type": "markdown",
   "metadata": {},
   "source": [
    "## The Lay of the Land\n",
    "To Max's left is a Pandas DataFrame made manifest, which describes — in agonizing detail — every pitch he has ever thrown in the Major Leagues for which there is a recorded release velocity, spin, and type (e.g., fastball, curveball, changeup). There are about 43,000 of them.\n",
    "\n",
    "To Max's right is a surveyor's wheel, a granola bar, and a gold tablet, upon which, in Comic Sans, is writ a set of instructions:\n",
    "\n",
    ">Hi Max:\n",
    ">\n",
    ">Per my previous email: \n",
    ">\n",
    ">Welcome to <s>Cleveland</s> Nowhere. In order to leave, you must:\n",
    ">1. **Reference** the DataFrame\n",
    ">2. **Re-throw** the 1<sup>st</sup> pitch you threw in the Bigs\n",
    ">3. At a **45° angle**\n",
    ">4. Survey-wheel yourself on over **where the ball lands** (BTW: **it won't roll**, it'll just stick to the ground where you flang it)\n",
    ">5. **Record the distance** you've walked\n",
    ">6. Reference the DataFrame\n",
    ">7. Re-throw the 2<sup>nd</sup> pitch you threw in the Bigs\n",
    ">8. At a 45° angle\n",
    ">9. Survey-wheel yourself on over to where the ball lands...\n",
    ">10. ...\n",
    ">11. Re-throw the 43,000ish<sup>th</sup> pitch you threw in the Bigs\n",
    ">12. At a 45° angle.\n",
    ">13. Survey-wheel yourself on over to where the ball lands\n",
    ">14. Announce, out loud, **how far you've walked in total**.\n",
    ">15. I already know the cumulative distance, but I need you to check my work.\n",
    ">16. Thanks!\n",
    "\n",
    "### Other Tacit Agreements\n",
    "\n",
    "- Max, being the generational pitching talent that he is, is able to **throw a ball precisely as fast as he wants, and at an exact 45° angle**.\n",
    "\n",
    "- Max, being the generational pitching talent that he is, **doesn't need to sleep or eat or drink or pee** here, and his arm never gets tired, and any other nullifying pedantry is also negated in full in the context of this ridiculous thought experiment.\n",
    "  \n",
    "- We're ignoring the stitches on the baseball and the fussiness that they inject into any fluid dynamics calculations.\n",
    "  \n",
    "- Any spin on the ball doesn't change during the baseball's journey because I don't have the energy to work that out.\n",
    "  \n",
    "- The drag force and the Magnus force can both be represented by simple functions of our ball's velocity<sup>2</sup> and its spin.\n"
   ]
  },
  {
   "cell_type": "markdown",
   "metadata": {},
   "source": [
    "# SO WHAT EXACTLY ARE WE DOING HERE?"
   ]
  },
  {
   "cell_type": "markdown",
   "metadata": {},
   "source": [
    "This thought experiment is a simple summing of an iterative projectile motion solve for distance, more or less. Thankfully, the field of basic mechanics is pretty well codified.\n",
    "\n",
    "Double-thankfully, people smarter than me have already translated a ton of basic mechanics / work in this stupid space to code — mostly Python. So all I have to do is steal.\n",
    "\n",
    "And by steal, I mean I'll be referencing other folks and trying to color inside their lines unless otherwise noted.\n"
   ]
  },
  {
   "cell_type": "markdown",
   "metadata": {},
   "source": [
    "### Sources I've <s>Stolen</s> Learned From, to Whom This Nonsense Owes A Substantial Debt That Shall Never Be Repaid\n",
    "\n",
    "1. [NASA's Entire Fucking Webpage About Modeling Baseball Dynamics](https://www1.grc.nasa.gov/beginners-guide-to-aeronautics/aerodynamics-of-baseball/)\n",
    "2. [Matthew West](https://dynref.engr.illinois.edu/afp.html)\n",
    "3. [Jerron Lim](https://cocalc.com/share/public_paths/223c4e9ca1b913a9fa9d1d0f1028d90b7dc0b2d2)\n",
    "4. Hall, I. N., & Nathan, A. M. (2009). [Determining the Drag Coefficient from PITCHf/x Data](http://baseball.physics.illinois.edu/LiftDrag-1.pdf)\n",
    "5. Superstar MEGA Champion [Allen Downey](https://colab.research.google.com/github/AllenDowney/ModSimPy/blob/master/chapters/chap22.ipynb)\n",
    "6. [The Effect of Air on Baseball Pitches](http://spiff.rit.edu/richmond/baseball/traj/traj.html#info) by Michael \"Big Brains\" Richard, 2009.\n",
    "7. [Motion in Two and Three Dimensions](https://www2.tntech.edu/leap/murdock/books/v1chap3.pdf)\n",
    "\n",
    "---\n"
   ]
  },
  {
   "cell_type": "markdown",
   "metadata": {},
   "source": [
    "## Describing the Problem"
   ]
  },
  {
   "cell_type": "markdown",
   "metadata": {},
   "source": [
    "### Part A: The Stuff\n",
    "We need to know:\n",
    "1. The baseball's mass\n",
    "2. The baseball's diameter\n",
    "3. Acceleration due to gravity\n",
    "4. Initial velocities (direction and magnitude)\n",
    "5. Drag coefficient"
   ]
  },
  {
   "cell_type": "markdown",
   "metadata": {},
   "source": [
    "#### Hard stuff first: Drag coefficient"
   ]
  },
  {
   "cell_type": "markdown",
   "metadata": {},
   "source": [
    "There are two reasons why most high school physics classrooms only consider gravity when attacking basic mechanics:\n",
    "1. Science teachers love writing space-themed fanfic, and it's super fun to **pretend all of your problems in life exist in a vacuum**.\n",
    "2. All of the non-gravitational forces are ***complicated***. \n",
    "\n",
    "But we're not in high school at the moment. \n",
    "\n",
    "So we're gonna try to Mr. Wizard some **air resistance** for Max and his Task, because he's made about $320 million playing baseball and he can catch a tough break for once in his incredible life."
   ]
  },
  {
   "cell_type": "markdown",
   "metadata": {},
   "source": [
    "## Drag Forces, Coefficients, and You"
   ]
  },
  {
   "cell_type": "markdown",
   "metadata": {},
   "source": [
    "**Drag force** is pretty simple in the realm of basic mechanics. Here's the equation we're going to end up using:\n",
    "\n",
    "$$ \\vec{F}_{\\rm D} = -F_{\\rm D} \\hat{v}, $$\n",
    "\n",
    "But let's work through how it's derived."
   ]
  },
  {
   "cell_type": "markdown",
   "metadata": {},
   "source": [
    "The first part of our drag force equation, $ \\vec{F}_{\\rm D} $, is described by a **dimensionless drag coefficient** $ C_{\\rm D} $, which is itself described by this ugliness:\n",
    "\n",
    "$$ C_{\\rm D} = \\frac{F_{\\rm D}}{\\frac{1}{2} \\rho A v^2} $$\n",
    "\n",
    "It's not actually that ugly, though.\n",
    "\n",
    "- $\\rho$ = our air's **density**. (Technically: the density of the environmental fluid. And our <s>Cleveland</s> pocket universe is full of STP air.)\n",
    "- $A$ = our baseball's **cross-sectional area**, which we can figure out with this badass equation: $\\frac{1}{4}\\pi D^2$\n",
    "- $v$ = how hard Max throws the ball. E.g., its **initial velocity**."
   ]
  },
  {
   "cell_type": "markdown",
   "metadata": {},
   "source": [
    "### Meet our new best friend: the Reynolds number. \n",
    "\n",
    "Here's what she looks like.\n",
    "\n",
    "$$ {\\rm Re} = \\frac{\\rho v L}{\\mu} $$\n",
    "\n",
    "She, like our **drag coefficient**, is far from ugly: \n",
    "- $L$ = **Characteristic length of flow** — which, in this <s>Cleveland</s> thought experiment, is the diameter of the baseball $D$.\n",
    "- $\\mu$ = Our air's **dynamic viscosity**.\n",
    "\n",
    "*The Reynolds number* can be thought of as **the link between our baseball's intertial forces and our air's viscous forces**."
   ]
  },
  {
   "cell_type": "markdown",
   "metadata": {},
   "source": [
    "It's important to note that when we're running our numbers, **we only care about the fluid forces that interact directly with our baseball**, as is described with this cute lil guy: $$ C_{\\rm D} = C_{\\rm D}({\\rm Re}) $$\n",
    "\n",
    "Basically, we're not trying to split the atom. We're trying to run Max through the ringer. So we're not going to care about the perturbations in the air caused by the whipping-forward of his huge, Hall-of-Fame arm. Or anything similar. Let's be reasoanble.\n",
    "\n",
    "Fluid dynamics can get super complicated faster than I can fail the AP Chemistry and Physics exams in the spring of 2002, but we're able to figure out a reasonable solve for our baseball's flight without spending big money on cloud compute — which, in the end, would just to overcomplicate the hell out of our lives for the sake of a negligible increase in accuracy in this here analytical domain of zero import and marginal amusement. \n",
    "\n",
    "And besides: our <s>Cleveland</s> MaxWorld™ is an infinite, windless doldrum. So we can ignore any \"real\" fluid dynamics on principle.\n",
    "\n",
    "But getting back to our cute 'lil $ C_{\\rm D} = C_{\\rm D}({\\rm Re}) $ ... \n",
    "\n",
    "### NASA to the Rescue\n",
    "\n",
    "NASA gathered a ton of experimental data about projectiles in flight to try to quantify and chart the relationship between the Reynolds number and drag coefficients. \n",
    "\n",
    "The important thing here is the flat part of the chart, which is positioned more or less above $10^4$.\n",
    "\n",
    "This is telling us that in this region of Newtonian spaghetti, drag force is pretty much proportional to the square of our baseball's speed. It's not exactly, completely, 100.0% proportional, of course. But let's live a little bit and say that it is.\n",
    "\n",
    "![I Can't Believe NASA Did This](images/nasa-baseball-drag.jpeg)\n",
    "\n",
    "Credit: [NASA](https://www1.grc.nasa.gov/beginners-guide-to-aeronautics/drag-of-a-sphere/)\n",
    "\n"
   ]
  },
  {
   "cell_type": "markdown",
   "metadata": {},
   "source": [
    "So if we substitute $ C_{\\rm D} = \\frac{1}{2} $ into our cute lil guy above, we get:\n",
    "\n",
    "$$ F_{\\rm D} = \\frac{1}{4} \\rho A v^2 = c v^2 $$\n",
    "\n",
    "wherein we've pinned down the *quadratic drag parameter '$c$'* as:\n",
    "\n",
    "$$ c = \\frac{1}{4} \\rho A = \\frac{\\pi}{16} \\rho D^2 $$\n",
    "\n",
    "which is a constant for our baseball. This is what we call *quadratic drag*, because the magnitude of the drag force is proportional to the square of our baseball's speed. "
   ]
  },
  {
   "cell_type": "markdown",
   "metadata": {},
   "source": [
    "### DRUM ROLL \n",
    "\n",
    "Using our shiny new *quadratic drag*, we can write our drag force vector as:\n",
    "\n",
    "$$ \\vec{F}_{\\rm D} = - c v^2 \\hat{v} $$\n",
    "\n",
    "With this — and assuming we're still only considering gravity and quadratic drag — we can describe the forces on our baseball as:\n",
    "\n",
    "$$ \\sum \\vec{F} = m \\vec{g} - c v^2 \\hat{v} $$\n",
    "\n",
    "wherein $m$ = our baseball's mass, and $\\vec{g}$ = local acceleration due to gravity.\n",
    "\n",
    "---"
   ]
  },
  {
   "cell_type": "markdown",
   "metadata": {},
   "source": [
    "## PUTTING IT ALL TOGETHER IN ONE EASY THROW\n",
    "It's time for Max to launch his first baseball."
   ]
  },
  {
   "cell_type": "markdown",
   "metadata": {},
   "source": [
    "## * * * SPECIAL NOTE * * *"
   ]
  },
  {
   "cell_type": "markdown",
   "metadata": {},
   "source": [
    "Note: in the interest of time and the conservation of teardrops, I'll be running our throws through a mish-mash of other peoples' work in this space — most hugely from Chapter 22 of Allen Downey's forthcoming book [Modeling and Simulation in Python](https://nostarch.com/modeling-and-simulation-python), which he's generously hung on a very low branch located at the link I've hidden inside this emoji tree:\n",
    "\n",
    "[🌳](https://colab.research.google.com/github/AllenDowney/ModSimPy/blob/master/chapters/chap22.ipynb)\n",
    "\n",
    "Allen has done a bang-up job, and he has shared his work with me/us/everyone on the planet under the Attribution-NonCommercial-ShareAlike 4.0 International (CC BY-NC-SA 4.0) license. [Link to License](https://creativecommons.org/licenses/by-nc-sa/4.0/)\n",
    "\n",
    "Allen does not in any way endorse my nonsense, but I have to believe that's just because he hasn't been introduced to it yet. \n",
    "\n",
    "Give me a call, Allen. \n",
    "\n",
    "I have snacks."
   ]
  },
  {
   "cell_type": "code",
   "execution_count": 1,
   "metadata": {},
   "outputs": [],
   "source": [
    "# import pandas, tell it to leave us alone when we start slicing and copying; we know what we're doing.\n",
    "import pandas as pd\n",
    "pd.options.mode.chained_assignment = None  # default='warn'\n",
    "\n",
    "# import tqdm so we have a progress bar while we're running loops\n",
    "try: \n",
    "    from tqdm import tqdm\n",
    "except ImportError:\n",
    "    %pip install tqdm\n",
    "    \n",
    "\n",
    "\n",
    "# install Pint if necessary\n",
    "try:\n",
    "    from pint import UnitRegistry\n",
    "except ImportError:\n",
    "    %pip install pint\n",
    "    \n",
    "# import units\n",
    "from pint import UnitRegistry\n",
    "units = UnitRegistry()"
   ]
  },
  {
   "cell_type": "code",
   "execution_count": 2,
   "metadata": {},
   "outputs": [],
   "source": [
    "# download Allen's Downey's handy modsim.py if necessary\n",
    "\n",
    "from os.path import basename, exists\n",
    "\n",
    "def download(url):\n",
    "    filename = basename(url)\n",
    "    if not exists(filename):\n",
    "        from urllib.request import urlretrieve\n",
    "        local, _ = urlretrieve(url, filename)\n",
    "        print(f'Downloaded {local}')\n",
    "    \n",
    "download('https://github.com/AllenDowney/ModSimPy/raw/master/' +\n",
    "         'modsim.py')\n",
    "\n",
    "from modsim import *\n",
    "\n",
    "# grab a handy-dandy drag force interpolationator\n",
    "download('https://github.com/AllenDowney/ModSim/raw/main/data/' +\n",
    "         'baseball_drag.csv')\n",
    "baseball_drag = pd.read_csv('baseball_drag.csv')\n",
    "mph_to_mps = (1 * units.mph).to(units.m/units.s).magnitude\n",
    "speed = baseball_drag['Velocity in mph'] * mph_to_mps\n",
    "C_d_series = make_series(speed, baseball_drag['Drag coefficient'])\n",
    "drag_interp = interpolate(C_d_series)"
   ]
  },
  {
   "cell_type": "code",
   "execution_count": 3,
   "metadata": {},
   "outputs": [],
   "source": [
    "# Model constants\n",
    "g = 9.80665     # Acceleration due to gravity (m/s^2)\n",
    "P = 1.225       # air density\n",
    "M = 0.145       # Mass of baseball in kg\n",
    "R = 3.683       # radius of baseball in cm\n",
    "A = 0.00426     # baseball cross sectional area in m^2"
   ]
  },
  {
   "cell_type": "code",
   "execution_count": 4,
   "metadata": {},
   "outputs": [],
   "source": [
    "# Let's quickly figure out the height from the ground that Max typically releases the baseball when he's pitching. This data is freely available from Major League Baseball. I've pulled Max's 2022 data from here, because I'm teleporting him in 2022 and so I only care about his throwing mechanics from this year:\n",
    "\n",
    "# https://baseballsavant.mlb.com/statcast_search?hfPT=&hfAB=&hfGT=R%7C&hfPR=&hfZ=&stadium=&hfBBL=&hfNewZones=&hfPull=&hfC=&hfSea=2022%7C&hfSit=&player_type=pitcher&hfOuts=&opponent=&pitcher_throws=&batter_stands=&hfSA=&game_date_gt=&game_date_lt=&hfMo=&team=&home_road=&hfRO=&position=&hfInfield=&hfOutfield=&hfInn=&hfBBT=&hfFlag=&pitchers_lookup%5B%5D=453286&metric_1=&group_by=name&min_pitches=0&min_results=0&min_pas=0&sort_col=pitches&player_event_sort=api_p_release_speed&sort_order=desc#results\n",
    "\n",
    "release = pd.read_csv('data/scherzer_2022_release_point.csv')\n",
    "release = release['release_pos_z'].str.replace(\"-\",\"\")\n",
    "median_release = float(release.describe().top)"
   ]
  },
  {
   "cell_type": "code",
   "execution_count": 5,
   "metadata": {},
   "outputs": [
    {
     "name": "stdout",
     "output_type": "stream",
     "text": [
      "Max Scherzer's median release point is 1.7343 meters from the ground.\n",
      " 1.7343 is our y0.\n"
     ]
    }
   ],
   "source": [
    "#Converting Max's median release point from feet to meters.\n",
    "\n",
    "FEET_TO_M = 0.3048\n",
    "release_point = median_release * FEET_TO_M\n",
    "print(f\"Max Scherzer's median release point is {round(release_point, 4)} meters from the ground.\\n 1.7343 is our y0.\")"
   ]
  },
  {
   "cell_type": "code",
   "execution_count": 6,
   "metadata": {},
   "outputs": [],
   "source": [
    "# Describe the demo throw\n",
    "\n",
    "throw = {\n",
    "    \"mph\": float(\"95.7\"),\n",
    "    \"theta\": float(\"45.0\"),\n",
    "    \"omega_rpm\": float(\"2400.0\"),\n",
    "    \"time\": \"1\",\n",
    "    \"backspin\": \"1\",\n",
    "    \"y0\": float(\"1.7343\")\n",
    "}"
   ]
  },
  {
   "cell_type": "code",
   "execution_count": 7,
   "metadata": {},
   "outputs": [],
   "source": [
    "# Converting the spin rate from revolutions per minute to radians per second.\n",
    "throw[\"omega_radsec\"] = throw[\"omega_rpm\"] * 2 * np.pi / 60\n",
    "\n",
    "# Converting the speed from miles per hour to meters per second.\n",
    "throw[\"vt_msec\"] = throw[\"mph\"] * 1609 / 3600\n",
    "\n",
    "# Calculating the x-component of the initial velocity.\n",
    "throw[\"vx\"] = throw[\"vt_msec\"] * np.cos(throw[\"theta\"])\n",
    "\n",
    "# Calculating the y-component of the initial velocity.\n",
    "throw[\"vy\"] = throw[\"vt_msec\"] * np.sin(throw[\"theta\"])\n",
    "\n",
    "# Converting the spin rate from radians per second to miles per hour\n",
    "throw[\"vr_mph\"] = R * throw[\"omega_radsec\"] / 100 * 2.237\n",
    "\n",
    "# Converting the spin rate from radians per second to meters per second\n",
    "throw[\"vr_msec\"] = R * throw[\"omega_radsec\"] / 100\n",
    "\n",
    "# This is the spin factor in meters per second.\n",
    "throw[\"spin_factor\"] = throw[\"vr_msec\"] / throw[\"vt_msec\"]\n",
    "\n",
    "# Using the interpolation function to find the drag coefficient for the given speed.\n",
    "throw[\"coeff_drag\"] = float(drag_interp(throw[\"vt_msec\"])) / 100\n",
    "\n",
    "# Calculating the drag force.\n",
    "throw[\"drag_force\"] = -0.5 * throw[\"coeff_drag\"] * P * A * throw[\"vt_msec\"] ** 2\n",
    "\n",
    "# Calculating CL from spin force\n",
    "if throw[\"spin_factor\"] < 0.1:\n",
    "    throw[\"coeff_lift\"] = 1.6 * throw[\"spin_factor\"]\n",
    "else:\n",
    "    throw[\"coeff_lift\"] = 0.6 * throw[\"spin_factor\"] + 0.1\n",
    "\n",
    "\n",
    "# This is the Magnus force.\n",
    "throw[\"magnus\"] = 0.5 * throw[\"coeff_lift\"] * P * A * throw[\"vt_msec\"] ** 2\n",
    "\n",
    "\n",
    "throw[\"fx\"] = (\n",
    "    -np.pi\n",
    "    / 2\n",
    "    * P\n",
    "    * R**2\n",
    "    * throw[\"vt_msec\"]\n",
    "    * (throw[\"coeff_lift\"] * throw[\"vy\"] + throw[\"drag_force\"] * throw[\"vx\"])\n",
    ")\n",
    "\n",
    "if throw[\"backspin\"] == 1:\n",
    "    throw[\"fy\"] = (\n",
    "        -np.pi\n",
    "        / 2\n",
    "        * P\n",
    "        * R**2\n",
    "        * throw[\"vt_msec\"]\n",
    "        * (throw[\"coeff_lift\"] * throw[\"vx\"] - throw[\"drag_force\"] * throw[\"vy\"])\n",
    "    ) - M * g\n",
    "else:\n",
    "    throw[\"fy\"] = (\n",
    "        -np.pi\n",
    "        / 2\n",
    "        * P\n",
    "        * R**2\n",
    "        * throw[\"vt_msec\"]\n",
    "        * (-throw[\"coeff_lift\"] * throw[\"vx\"] - throw[\"drag_force\"] * throw[\"vy\"])\n",
    "    ) - M * g\n",
    "\n",
    "# Time of flight\n",
    "# throw[\"time_of_flight\"] = np.sqrt(-1 * 2 * throw[\"y0\"] / g)\n",
    "\n",
    "# Final Calc for X at T\n",
    "# d_vx/dt = -kv(C_d * v_x + C_l * v_y)\n",
    "# where k = P * pi * r^2/(2m)\n",
    "throw[\"k\"] = P * np.pi * (R**2 / 2 * M)\n",
    "\n",
    "\n",
    "# Final Calc for Y at T\n",
    "# d_vy/dt = kv(C_l * v_x - C_d * V_y) - g\n",
    "# where k = d * pi * r^2/(2m)"
   ]
  },
  {
   "cell_type": "code",
   "execution_count": null,
   "metadata": {},
   "outputs": [],
   "source": [
    "# Let's see what our demo throw looks like at this point\n",
    "throw"
   ]
  },
  {
   "cell_type": "markdown",
   "metadata": {},
   "source": [
    "## Baseball\n",
    "\n",
    "To model the flight of a baseball, we have to make some decisions. If we were smart, we'd try to ignore Magnus forces entirely and simulate our ball traveling in two dimensions instead of three.\n",
    "\n",
    "So we'll try to incorporate Magnus forces in a little while."
   ]
  },
  {
   "cell_type": "markdown",
   "metadata": {},
   "source": [
    "## Simulating Baseball Flight\n",
    "\n",
    "Let's ask Allen Downey to help us simulate the flight of a baseball that's thrown\n",
    "at an angle of 45° and initial speed of however fast Max has to throw this pitch. \n",
    "\n",
    "His first pitch was thrown at 95.7 mph (42.7817 m/sec). \n",
    "\n",
    "We'll use his feet as the origin, a horizontal x-axis (parallel to the ground), and a vertical y-axis (perpendicular to the ground). \n",
    "\n",
    "We already calculated his release point as 1.7343 meters from the ground. \n",
    "\n",
    "C_d = 0.33 and C_l = 0.22 are good, lazy approximations for drag/lift coefficients, so we'll use those for our demo.\n",
    "\n",
    "Here's a `Params` object with the parameters we'll need."
   ]
  },
  {
   "cell_type": "code",
   "execution_count": 9,
   "metadata": {},
   "outputs": [],
   "source": [
    "params = Params(\n",
    "    x=0,  # m\n",
    "    y=1.7343,  # m\n",
    "    angle=45,  # degree\n",
    "    speed=42.7187,  # m / s\n",
    "    mass=145e-3,  # kg\n",
    "    diameter=73e-3,  # m\n",
    "    C_d=0.33,\n",
    "    C_l=0.22,\n",
    "    rho=1.225,  # kg/m**3\n",
    "    g=9.80665,  # m/s**2\n",
    "    t_end=10,  # s\n",
    ")"
   ]
  },
  {
   "cell_type": "markdown",
   "metadata": {},
   "source": [
    "The mass and diameter of a baseball can be found on Wikipedia (see https://en.wikipedia.org/wiki/Baseball_(ball)). \n",
    "\n",
    "g is acceleration due to gravity. \n",
    "\n",
    "t_end is 10 seconds, which should be longenough for the ball to land on the ground.\n",
    "\n",
    "The following function uses these quantities to make a System object."
   ]
  },
  {
   "cell_type": "code",
   "execution_count": 10,
   "metadata": {},
   "outputs": [],
   "source": [
    "from numpy import pi, deg2rad, rad2deg\n",
    "\n",
    "\n",
    "def make_system(params):\n",
    "\n",
    "    # convert angle to degrees\n",
    "    theta = deg2rad(params.angle)\n",
    "\n",
    "    # compute x and y components of velocity\n",
    "    vx, vy = pol2cart(theta, params.speed)\n",
    "\n",
    "    # make the initial state\n",
    "    init = State(x=params.x, y=params.y, vx=vx, vy=vy)\n",
    "\n",
    "    # compute the frontal area\n",
    "    area = pi * (params.diameter / 2) ** 2\n",
    "\n",
    "    return System(params, init=init, area=area)"
   ]
  },
  {
   "cell_type": "markdown",
   "metadata": {},
   "source": [
    "`make_system` uses `deg2rad` to convert angle to radians and `pol2cart` to compute the  𝑥  and  𝑦  components of the initial velocity.\n",
    "\n",
    "`init` is a State object with four state variables:\n",
    "\n",
    "- `x` and `y` are the components of position.\n",
    "\n",
    "- `vx` and `vy` are the components of velocity.\n",
    "\n",
    "When we call `System`, we pass `Params` as the first argument, which means that the variables in `Params` are copied to the new `System` object.\n",
    "\n",
    "Here's how we make the `System` object."
   ]
  },
  {
   "cell_type": "code",
   "execution_count": 11,
   "metadata": {},
   "outputs": [],
   "source": [
    "system = make_system(params)"
   ]
  },
  {
   "cell_type": "markdown",
   "metadata": {},
   "source": [
    "And here's the initial `State`:"
   ]
  },
  {
   "cell_type": "code",
   "execution_count": 12,
   "metadata": {},
   "outputs": [
    {
     "data": {
      "text/html": [
       "<div>\n",
       "<style scoped>\n",
       "    .dataframe tbody tr th:only-of-type {\n",
       "        vertical-align: middle;\n",
       "    }\n",
       "\n",
       "    .dataframe tbody tr th {\n",
       "        vertical-align: top;\n",
       "    }\n",
       "\n",
       "    .dataframe thead th {\n",
       "        text-align: right;\n",
       "    }\n",
       "</style>\n",
       "<table border=\"1\" class=\"dataframe\">\n",
       "  <thead>\n",
       "    <tr style=\"text-align: right;\">\n",
       "      <th></th>\n",
       "      <th>state</th>\n",
       "    </tr>\n",
       "  </thead>\n",
       "  <tbody>\n",
       "    <tr>\n",
       "      <th>x</th>\n",
       "      <td>0.000000</td>\n",
       "    </tr>\n",
       "    <tr>\n",
       "      <th>y</th>\n",
       "      <td>1.734300</td>\n",
       "    </tr>\n",
       "    <tr>\n",
       "      <th>vx</th>\n",
       "      <td>30.206682</td>\n",
       "    </tr>\n",
       "    <tr>\n",
       "      <th>vy</th>\n",
       "      <td>30.206682</td>\n",
       "    </tr>\n",
       "  </tbody>\n",
       "</table>\n",
       "</div>"
      ],
      "text/plain": [
       "        state\n",
       "x    0.000000\n",
       "y    1.734300\n",
       "vx  30.206682\n",
       "vy  30.206682"
      ]
     },
     "execution_count": 12,
     "metadata": {},
     "output_type": "execute_result"
    }
   ],
   "source": [
    "show(system.init)"
   ]
  },
  {
   "cell_type": "markdown",
   "metadata": {},
   "source": [
    "## Drag Force\n",
    "\n",
    "Next we need a function to compute drag force:"
   ]
  },
  {
   "cell_type": "code",
   "execution_count": 13,
   "metadata": {},
   "outputs": [],
   "source": [
    "def drag_force(V, system):\n",
    "    rho, C_d, area = system.rho, system.C_d, system.area\n",
    "\n",
    "    mag = rho * vector_mag(V) ** 2 * C_d * area / 2\n",
    "    direction = -vector_hat(V)\n",
    "    return mag * direction"
   ]
  },
  {
   "cell_type": "markdown",
   "metadata": {},
   "source": [
    "This function takes V as a Vector and returns f_drag as a Vector.\n",
    "\n",
    "It uses vector_mag to compute the magnitude of V, and the drag equation to compute the magnitude of the drag force, mag.\n",
    "\n",
    "Then it uses vector_hat to compute direction, which is a unit vector in the opposite direction of V.\n",
    "\n",
    "Finally, it computes the drag force vector by multiplying mag and direction.\n",
    "\n",
    "We can test it like this:"
   ]
  },
  {
   "cell_type": "code",
   "execution_count": 14,
   "metadata": {},
   "outputs": [
    {
     "data": {
      "text/html": [
       "<div>\n",
       "<style scoped>\n",
       "    .dataframe tbody tr th:only-of-type {\n",
       "        vertical-align: middle;\n",
       "    }\n",
       "\n",
       "    .dataframe tbody tr th {\n",
       "        vertical-align: top;\n",
       "    }\n",
       "\n",
       "    .dataframe thead th {\n",
       "        text-align: right;\n",
       "    }\n",
       "</style>\n",
       "<table border=\"1\" class=\"dataframe\">\n",
       "  <thead>\n",
       "    <tr style=\"text-align: right;\">\n",
       "      <th></th>\n",
       "      <th>component</th>\n",
       "    </tr>\n",
       "  </thead>\n",
       "  <tbody>\n",
       "    <tr>\n",
       "      <th>x</th>\n",
       "      <td>-1.091633</td>\n",
       "    </tr>\n",
       "    <tr>\n",
       "      <th>y</th>\n",
       "      <td>-1.091633</td>\n",
       "    </tr>\n",
       "  </tbody>\n",
       "</table>\n",
       "</div>"
      ],
      "text/plain": [
       "   component\n",
       "x  -1.091633\n",
       "y  -1.091633"
      ]
     },
     "execution_count": 14,
     "metadata": {},
     "output_type": "execute_result"
    }
   ],
   "source": [
    "vx, vy = system.init.vx, system.init.vy\n",
    "V_test = Vector(vx, vy)\n",
    "f_drag = drag_force(V_test, system)\n",
    "# f_drag = throw['drag_force']\n",
    "show(f_drag)"
   ]
  },
  {
   "cell_type": "markdown",
   "metadata": {},
   "source": [
    "The result is a Vector that represents the drag force on the baseball, in Newtons, under the initial conditions.\n",
    "\n",
    "Now we can add drag to the slope function."
   ]
  },
  {
   "cell_type": "code",
   "execution_count": 15,
   "metadata": {},
   "outputs": [],
   "source": [
    "def slope_func(t, state, system):\n",
    "    x, y, vx, vy = state\n",
    "    mass, g = system.mass, system.g\n",
    "\n",
    "    V = Vector(vx, vy)\n",
    "    a_drag = drag_force(V, system) / mass\n",
    "    a_grav = g * Vector(0, -1)\n",
    "\n",
    "    A = a_grav + a_drag\n",
    "\n",
    "    return V.x, V.y, A.x, A.y"
   ]
  },
  {
   "cell_type": "markdown",
   "metadata": {},
   "source": [
    "As usual, the parameters of the slope function are a `time stamp`, a `State` object, and a `System` object. We don't use `t` in this example, but we can't leave it out because when `run_solve_ivp` calls the slope function, it always provides the same arguments, whether they are needed or not.\n",
    "\n",
    "`slope_func` unpacks the `State` object into variables `x`, `y`, `vx`, and `vy`. Then it packs `vx` and `vy` into a `Vector`, which it uses to compute `drag force`, `f_drag`, and acceleration due to drag, `a_drag`.\n",
    "\n",
    "To represent acceleration due to gravity, it makes a Vector with magnitude `g` in the negative  𝑦  direction.\n",
    "\n",
    "The total acceleration of the baseball, `A`, is the sum of accelerations due to gravity and drag."
   ]
  },
  {
   "cell_type": "markdown",
   "metadata": {},
   "source": [
    "The return value is a sequence that contains:\n",
    "\n",
    "- The components of velocity, V.x and V.y.\n",
    "\n",
    "- The components of acceleration, A.x and A.y.\n",
    "\n",
    "These components represent the slope of the state variables, because V is the derivative of position and A is the derivative of velocity.\n",
    "\n",
    "As always, we can test the slope function by running it with the initial conditions:"
   ]
  },
  {
   "cell_type": "markdown",
   "metadata": {},
   "source": [
    "Using vectors to represent forces and accelerations makes the code concise, readable, and less error-prone. In particular, when we add a_grav and a_drag, the directions are likely to be correct, because they are encoded in the Vector objects."
   ]
  },
  {
   "cell_type": "code",
   "execution_count": 16,
   "metadata": {},
   "outputs": [
    {
     "data": {
      "text/plain": [
       "(30.206682453473768,\n",
       " 30.206682453473764,\n",
       " -7.528504083703367,\n",
       " -17.335154083703365)"
      ]
     },
     "execution_count": 16,
     "metadata": {},
     "output_type": "execute_result"
    }
   ],
   "source": [
    "slope_func(0, system.init, system)"
   ]
  },
  {
   "cell_type": "markdown",
   "metadata": {},
   "source": [
    "## Adding an Event Function\n",
    "\n",
    "We're almost ready to run the simulation. The last thing we need is an event function that stops when the ball hits the ground."
   ]
  },
  {
   "cell_type": "code",
   "execution_count": 17,
   "metadata": {},
   "outputs": [],
   "source": [
    "def event_func(t, state, system):\n",
    "    x, y, vx, vy = state\n",
    "    return y"
   ]
  },
  {
   "cell_type": "markdown",
   "metadata": {},
   "source": [
    "The event function takes the same parameters as the slope function, and returns the  `𝑦`  coordinate of position. When the  `𝑦`  coordinate passes through 0, the simulation stops.\n",
    "\n",
    "As we did with `slope_func`, we can test `event_func` with the initial conditions."
   ]
  },
  {
   "cell_type": "code",
   "execution_count": 18,
   "metadata": {},
   "outputs": [
    {
     "data": {
      "text/plain": [
       "1.7343"
      ]
     },
     "execution_count": 18,
     "metadata": {},
     "output_type": "execute_result"
    }
   ],
   "source": [
    "event_func(0, system.init, system)"
   ]
  },
  {
   "cell_type": "markdown",
   "metadata": {},
   "source": [
    "Here's how we run the simulation with this event function:"
   ]
  },
  {
   "cell_type": "code",
   "execution_count": 19,
   "metadata": {},
   "outputs": [
    {
     "data": {
      "text/plain": [
       "'A termination event occurred.'"
      ]
     },
     "execution_count": 19,
     "metadata": {},
     "output_type": "execute_result"
    }
   ],
   "source": [
    "results, details = run_solve_ivp(system, slope_func, events=event_func)\n",
    "details.message"
   ]
  },
  {
   "cell_type": "markdown",
   "metadata": {},
   "source": [
    "The message indicates that a \"termination event\" occurred; that is, the simulated ball reached the ground.\n",
    "\n",
    "results is a TimeFrame with one row for each time step and one column for each of the state variables. Here are the last few rows."
   ]
  },
  {
   "cell_type": "code",
   "execution_count": 20,
   "metadata": {},
   "outputs": [
    {
     "data": {
      "text/html": [
       "<div>\n",
       "<style scoped>\n",
       "    .dataframe tbody tr th:only-of-type {\n",
       "        vertical-align: middle;\n",
       "    }\n",
       "\n",
       "    .dataframe tbody tr th {\n",
       "        vertical-align: top;\n",
       "    }\n",
       "\n",
       "    .dataframe thead th {\n",
       "        text-align: right;\n",
       "    }\n",
       "</style>\n",
       "<table border=\"1\" class=\"dataframe\">\n",
       "  <thead>\n",
       "    <tr style=\"text-align: right;\">\n",
       "      <th></th>\n",
       "      <th>x</th>\n",
       "      <th>y</th>\n",
       "      <th>vx</th>\n",
       "      <th>vy</th>\n",
       "    </tr>\n",
       "  </thead>\n",
       "  <tbody>\n",
       "    <tr>\n",
       "      <th>5.058655</th>\n",
       "      <td>104.289108</td>\n",
       "      <td>4.709441e+00</td>\n",
       "      <td>14.460853</td>\n",
       "      <td>-21.705239</td>\n",
       "    </tr>\n",
       "    <tr>\n",
       "      <th>5.111349</th>\n",
       "      <td>105.047554</td>\n",
       "      <td>3.558279e+00</td>\n",
       "      <td>14.344879</td>\n",
       "      <td>-22.046092</td>\n",
       "    </tr>\n",
       "    <tr>\n",
       "      <th>5.164043</th>\n",
       "      <td>105.799819</td>\n",
       "      <td>2.389526e+00</td>\n",
       "      <td>14.228883</td>\n",
       "      <td>-22.382768</td>\n",
       "    </tr>\n",
       "    <tr>\n",
       "      <th>5.216738</th>\n",
       "      <td>106.545915</td>\n",
       "      <td>1.203370e+00</td>\n",
       "      <td>14.112884</td>\n",
       "      <td>-22.715262</td>\n",
       "    </tr>\n",
       "    <tr>\n",
       "      <th>5.269432</th>\n",
       "      <td>107.285856</td>\n",
       "      <td>-1.776357e-15</td>\n",
       "      <td>13.996904</td>\n",
       "      <td>-23.043566</td>\n",
       "    </tr>\n",
       "  </tbody>\n",
       "</table>\n",
       "</div>"
      ],
      "text/plain": [
       "                   x             y         vx         vy\n",
       "5.058655  104.289108  4.709441e+00  14.460853 -21.705239\n",
       "5.111349  105.047554  3.558279e+00  14.344879 -22.046092\n",
       "5.164043  105.799819  2.389526e+00  14.228883 -22.382768\n",
       "5.216738  106.545915  1.203370e+00  14.112884 -22.715262\n",
       "5.269432  107.285856 -1.776357e-15  13.996904 -23.043566"
      ]
     },
     "execution_count": 20,
     "metadata": {},
     "output_type": "execute_result"
    }
   ],
   "source": [
    "results.tail()"
   ]
  },
  {
   "cell_type": "markdown",
   "metadata": {},
   "source": [
    "We can get the flight time like this:"
   ]
  },
  {
   "cell_type": "code",
   "execution_count": 21,
   "metadata": {},
   "outputs": [
    {
     "data": {
      "text/plain": [
       "5.269432028941773"
      ]
     },
     "execution_count": 21,
     "metadata": {},
     "output_type": "execute_result"
    }
   ],
   "source": [
    "flight_time = results.index[-1]\n",
    "flight_time"
   ]
  },
  {
   "cell_type": "markdown",
   "metadata": {},
   "source": [
    "And the final state like this:"
   ]
  },
  {
   "cell_type": "code",
   "execution_count": 22,
   "metadata": {},
   "outputs": [
    {
     "data": {
      "text/html": [
       "<div>\n",
       "<style scoped>\n",
       "    .dataframe tbody tr th:only-of-type {\n",
       "        vertical-align: middle;\n",
       "    }\n",
       "\n",
       "    .dataframe tbody tr th {\n",
       "        vertical-align: top;\n",
       "    }\n",
       "\n",
       "    .dataframe thead th {\n",
       "        text-align: right;\n",
       "    }\n",
       "</style>\n",
       "<table border=\"1\" class=\"dataframe\">\n",
       "  <thead>\n",
       "    <tr style=\"text-align: right;\">\n",
       "      <th></th>\n",
       "      <th>5.269432</th>\n",
       "    </tr>\n",
       "  </thead>\n",
       "  <tbody>\n",
       "    <tr>\n",
       "      <th>x</th>\n",
       "      <td>1.072859e+02</td>\n",
       "    </tr>\n",
       "    <tr>\n",
       "      <th>y</th>\n",
       "      <td>-1.776357e-15</td>\n",
       "    </tr>\n",
       "    <tr>\n",
       "      <th>vx</th>\n",
       "      <td>1.399690e+01</td>\n",
       "    </tr>\n",
       "    <tr>\n",
       "      <th>vy</th>\n",
       "      <td>-2.304357e+01</td>\n",
       "    </tr>\n",
       "  </tbody>\n",
       "</table>\n",
       "</div>"
      ],
      "text/plain": [
       "        5.269432\n",
       "x   1.072859e+02\n",
       "y  -1.776357e-15\n",
       "vx  1.399690e+01\n",
       "vy -2.304357e+01"
      ]
     },
     "execution_count": 22,
     "metadata": {},
     "output_type": "execute_result"
    }
   ],
   "source": [
    "final_state = results.iloc[-1]\n",
    "show(final_state)"
   ]
  },
  {
   "cell_type": "markdown",
   "metadata": {},
   "source": [
    "The final value of y is close to 0, as it should be. The final value of x tells us how far the ball flew, in meters."
   ]
  },
  {
   "cell_type": "code",
   "execution_count": 23,
   "metadata": {},
   "outputs": [
    {
     "data": {
      "text/plain": [
       "107.28585633657858"
      ]
     },
     "execution_count": 23,
     "metadata": {},
     "output_type": "execute_result"
    }
   ],
   "source": [
    "x_dist = final_state.x\n",
    "x_dist"
   ]
  },
  {
   "cell_type": "markdown",
   "metadata": {},
   "source": [
    "We can also get the final velocity, like this:"
   ]
  },
  {
   "cell_type": "code",
   "execution_count": 24,
   "metadata": {},
   "outputs": [
    {
     "data": {
      "text/html": [
       "<div>\n",
       "<style scoped>\n",
       "    .dataframe tbody tr th:only-of-type {\n",
       "        vertical-align: middle;\n",
       "    }\n",
       "\n",
       "    .dataframe tbody tr th {\n",
       "        vertical-align: top;\n",
       "    }\n",
       "\n",
       "    .dataframe thead th {\n",
       "        text-align: right;\n",
       "    }\n",
       "</style>\n",
       "<table border=\"1\" class=\"dataframe\">\n",
       "  <thead>\n",
       "    <tr style=\"text-align: right;\">\n",
       "      <th></th>\n",
       "      <th>component</th>\n",
       "    </tr>\n",
       "  </thead>\n",
       "  <tbody>\n",
       "    <tr>\n",
       "      <th>x</th>\n",
       "      <td>13.996904</td>\n",
       "    </tr>\n",
       "    <tr>\n",
       "      <th>y</th>\n",
       "      <td>-23.043566</td>\n",
       "    </tr>\n",
       "  </tbody>\n",
       "</table>\n",
       "</div>"
      ],
      "text/plain": [
       "   component\n",
       "x  13.996904\n",
       "y -23.043566"
      ]
     },
     "execution_count": 24,
     "metadata": {},
     "output_type": "execute_result"
    }
   ],
   "source": [
    "final_V = Vector(final_state.vx, final_state.vy)\n",
    "show(final_V)"
   ]
  },
  {
   "cell_type": "markdown",
   "metadata": {},
   "source": [
    "## Visualizing Trajectories\n",
    "\n",
    "To visualize the results, we can plot the $x$ and $y$ components of position like this:"
   ]
  },
  {
   "cell_type": "code",
   "execution_count": 25,
   "metadata": {},
   "outputs": [
    {
     "data": {
      "image/png": "[encoded data removed]",
      "text/plain": [
       "<Figure size 432x288 with 1 Axes>"
      ]
     },
     "metadata": {
      "needs_background": "light"
     },
     "output_type": "display_data"
    }
   ],
   "source": [
    "results.x.plot(color=\"C4\")\n",
    "results.y.plot(color=\"C2\", style=\"--\")\n",
    "\n",
    "decorate(xlabel=\"Time (s)\", ylabel=\"Position (m)\")"
   ]
  },
  {
   "cell_type": "markdown",
   "metadata": {},
   "source": [
    "As expected, the  𝑥  component increases as the ball moves away from home plate. The  𝑦  position climbs initially and then descends, falling to 0 m after 6.0 s.\n",
    "\n",
    "Another way to view the results is to plot the  𝑥  component on the  𝑥 -axis and the  𝑦  component on the  𝑦 -axis, so the plotted line follows the trajectory of the ball through the plane:"
   ]
  },
  {
   "cell_type": "code",
   "execution_count": 26,
   "metadata": {},
   "outputs": [
    {
     "data": {
      "image/png": "[encoded data removed]",
      "text/plain": [
       "<Figure size 432x288 with 1 Axes>"
      ]
     },
     "metadata": {
      "needs_background": "light"
     },
     "output_type": "display_data"
    }
   ],
   "source": [
    "def plot_trajectory(results):\n",
    "    x = results.x\n",
    "    y = results.y\n",
    "    make_series(x, y).plot(label=\"trajectory\")\n",
    "\n",
    "    decorate(xlabel=\"x position (m)\", ylabel=\"y position (m)\")\n",
    "\n",
    "\n",
    "plot_trajectory(results)"
   ]
  },
  {
   "cell_type": "markdown",
   "metadata": {},
   "source": [
    "This way of visualizing the results is called a trajectory plot (see http://modsimpy.com/trajec). A trajectory plot can be easier to interpret than a time series plot, because it shows what the motion of the projectile would look like (at least from one point of view). Both plots can be useful, but don't get them mixed up! If you are looking at a time series plot and interpreting it as a trajectory, you will be very confused.\n",
    "\n",
    "Notice that the trajectory is not symmetric. With a launch angle of 45°, the landing angle is closer to vertical."
   ]
  },
  {
   "cell_type": "code",
   "execution_count": 27,
   "metadata": {},
   "outputs": [
    {
     "data": {
      "text/plain": [
       "-58.7250660354015"
      ]
     },
     "execution_count": 27,
     "metadata": {},
     "output_type": "execute_result"
    }
   ],
   "source": [
    "rad2deg(vector_angle(final_V))"
   ]
  },
  {
   "cell_type": "markdown",
   "metadata": {},
   "source": [
    "# ENOUGH ALREADY, SHOW ME SOME THROWS"
   ]
  },
  {
   "cell_type": "code",
   "execution_count": 191,
   "metadata": {},
   "outputs": [],
   "source": [
    "# Import all of Max Scherzer's pitches\n",
    "\n",
    "# Data avenue 1:\n",
    "# https://baseballsavant.mlb.com/savant-player/max-scherzer-453286?stats=statcast-r-pitching-mlb#pitch_tracking\n",
    "\n",
    "# Data avenue 2:\n",
    "# https://baseballsavant.mlb.com/statcast_search?hfPT=&hfAB=&hfGT=R%7C&hfPR=&hfZ=&stadium=&hfBBL=&hfNewZones=&hfPull=&hfC=&hfSea=2022%7C2021%7C2020%7C2019%7C2018%7C2017%7C2016%7C2015%7C2014%7C2013%7C2012%7C2011%7C2010%7C2009%7C2008%7C&hfSit=&player_type=pitcher&hfOuts=&opponent=&pitcher_throws=&batter_stands=&hfSA=&game_date_gt=&game_date_lt=&hfMo=&team=&home_road=&hfRO=&position=&hfInfield=&hfOutfield=&hfInn=&hfBBT=&hfFlag=&pitchers_lookup%5B%5D=453286&metric_1=&group_by=name&min_pitches=0&min_results=0&min_pas=0&sort_col=pitches&player_event_sort=api_p_release_speed&sort_order=desc#results\n",
    "\n",
    "# Note about second link: For whatever reason, Savant isn't including 2008-9 in this data export. But the data does exist. So a separate search for 2008-9 and then a merge or a cut/paste into 2010-22 yields the final csv, which I've included in the repo.\n",
    "\n",
    "df = pd.read_csv(\"data/scherzer_pitches.csv\", low_memory=False)\n",
    "df = df.convert_dtypes()"
   ]
  },
  {
   "cell_type": "code",
   "execution_count": 57,
   "metadata": {},
   "outputs": [],
   "source": [
    "# We care about these columns, and the rest can kick rocks.\n",
    "throws = df[\n",
    "    [\n",
    "        \"game_date\",\n",
    "        \"pitch_name\",\n",
    "        \"release_extension\",\n",
    "        \"release_speed\",\n",
    "        \"release_spin_rate\",\n",
    "        \"spin_axis\",\n",
    "        \"release_pos_z\",\n",
    "        \"vx0\",\n",
    "        \"vy0\",\n",
    "        \"vz0\",\n",
    "        \"ax\",\n",
    "        \"ay\",\n",
    "        \"az\",\n",
    "    ]\n",
    "].copy()\n",
    "throws = throws[throws[\"release_speed\"].notna()]\n",
    "throws = throws.convert_dtypes()"
   ]
  },
  {
   "cell_type": "code",
   "execution_count": 58,
   "metadata": {},
   "outputs": [],
   "source": [
    "# Converting the spin rate from revolutions per minute to radians per second.\n",
    "throws[\"theta\"] = float(45)\n",
    "\n",
    "# Converting the spin rate from revolutions per minute to radians per second.\n",
    "throws[\"omega_radsec\"] = throws[\"release_spin_rate\"] * 2 * np.pi / 60\n",
    "\n",
    "# Converting the speed from miles per hour to meters per second.\n",
    "throws[\"vt_msec\"] = throws[\"release_speed\"] * 1609 / 3600\n",
    "\n",
    "# Calculating the x-component of the initial velocity.\n",
    "throws[\"vx\"] = throws[\"vt_msec\"] * np.cos(throws[\"theta\"])\n",
    "\n",
    "# Calculating the y-component of the initial velocity.\n",
    "throws[\"vy\"] = throws[\"vt_msec\"] * np.sin(throws[\"theta\"])\n",
    "\n",
    "# Converting the spin rate from radians per second to miles per hour\n",
    "throws[\"vr_mph\"] = R * throws[\"omega_radsec\"] / 100 * 2.237\n",
    "\n",
    "# Converting the spin rate from radians per second to meters per second\n",
    "throws[\"vr_msec\"] = R * throws[\"omega_radsec\"] / 100\n",
    "\n",
    "# This is the spin factor in meters per second.\n",
    "throws[\"spin_factor\"] = throws[\"vr_msec\"] / throws[\"vt_msec\"]"
   ]
  },
  {
   "cell_type": "code",
   "execution_count": 59,
   "metadata": {},
   "outputs": [],
   "source": [
    "# Replacing all the NaN values in the 'spin_factor' column with 0.\n",
    "throws[\"spin_factor\"] = throws[\"spin_factor\"].fillna(0)"
   ]
  },
  {
   "cell_type": "code",
   "execution_count": 60,
   "metadata": {},
   "outputs": [
    {
     "name": "stderr",
     "output_type": "stream",
     "text": [
      "100%|██████████| 43815/43815 [00:14<00:00, 2961.01it/s]\n"
     ]
    }
   ],
   "source": [
    "# Calculating each throw's coefficient of lift from its spin force\n",
    "count = 0\n",
    "try:\n",
    "    for throw in tqdm(range(len(throws))):\n",
    "        if throws.iloc[count][\"spin_factor\"] <= 0.1:\n",
    "            throws.iloc[count][\"coeff_lift\"] = 1.6 * throws.iloc[count][\"spin_factor\"]\n",
    "        else:\n",
    "            throws.iloc[count][\"coeff_lift\"] = (\n",
    "                0.6 * throws.iloc[count][\"spin_factor\"] + 0.1\n",
    "            )\n",
    "        count += 1\n",
    "except Exception:\n",
    "    print(f\"{count} couldn't process\")\n",
    "    count += 1"
   ]
  },
  {
   "cell_type": "code",
   "execution_count": 61,
   "metadata": {},
   "outputs": [],
   "source": [
    "# Throwing our pitches' velocities into a list pun intended.\n",
    "msecs = throws[\"vt_msec\"].fillna(0).tolist()"
   ]
  },
  {
   "cell_type": "code",
   "execution_count": 62,
   "metadata": {},
   "outputs": [],
   "source": [
    "# Allen Downey has done us another solid by finding an empirical study re: baseball drag coefficients, putting that data into a csv, and then writing a little function to interpolate any interstitial drag coefficient if we provide a speed.\n",
    "\n",
    "from os.path import basename, exists\n",
    "\n",
    "\n",
    "def download(url):\n",
    "    filename = basename(url)\n",
    "    if not exists(filename):\n",
    "        from urllib.request import urlretrieve\n",
    "\n",
    "        local, _ = urlretrieve(url, filename)\n",
    "        print(\"Downloaded \" + local)\n",
    "\n",
    "\n",
    "# drag coefficient\n",
    "download(\"https://github.com/AllenDowney/ModSim/raw/main/data/\" + \"baseball_drag.csv\")\n",
    "\n",
    "baseball_drag = pd.read_csv(\"baseball_drag.csv\")\n",
    "\n",
    "mph_to_mps = (1 * units.mph).to(units.m / units.s).magnitude\n",
    "\n",
    "speed = baseball_drag[\"Velocity in mph\"] * mph_to_mps\n",
    "\n",
    "C_d_series = make_series(speed, baseball_drag[\"Drag coefficient\"])\n",
    "\n",
    "drag_interp = interpolate(C_d_series)"
   ]
  },
  {
   "cell_type": "code",
   "execution_count": 63,
   "metadata": {},
   "outputs": [],
   "source": [
    "# Defining a function that takes a value of msec and returns the value of Cd at that point.\n",
    "def Cd(msec):\n",
    "    Cd = drag_interp(msec)\n",
    "    return Cd"
   ]
  },
  {
   "cell_type": "code",
   "execution_count": 64,
   "metadata": {},
   "outputs": [
    {
     "name": "stderr",
     "output_type": "stream",
     "text": [
      "100%|██████████| 43815/43815 [00:00<00:00, 71401.24it/s]\n"
     ]
    }
   ],
   "source": [
    "drag_interps = []\n",
    "count = 0\n",
    "try:\n",
    "    for msec in tqdm(range(len(msecs))):\n",
    "        a = drag_interp(msecs[count])\n",
    "        drag_interps.append(a)\n",
    "        count += 1\n",
    "except:\n",
    "    print(f\"{count} had a problem\")\n",
    "    count += 1"
   ]
  },
  {
   "cell_type": "code",
   "execution_count": 65,
   "metadata": {},
   "outputs": [],
   "source": [
    "# Make sure all of our dtypes have not come aflame ahead of the big calcs.\n",
    "throws = throws.convert_dtypes()"
   ]
  },
  {
   "cell_type": "code",
   "execution_count": 87,
   "metadata": {},
   "outputs": [
    {
     "name": "stderr",
     "output_type": "stream",
     "text": [
      "100%|██████████| 43806/43806 [00:03<00:00, 13935.78it/s]\n"
     ]
    }
   ],
   "source": [
    "# create a list of all release velocities in m/sec\n",
    "vts = []\n",
    "count = 0\n",
    "for throw in tqdm(range(len(throws))):\n",
    "    msec = throws.iloc[throw][\"vt_msec\"]\n",
    "    vts.append(msec)\n",
    "    count += 1"
   ]
  },
  {
   "cell_type": "code",
   "execution_count": 88,
   "metadata": {},
   "outputs": [],
   "source": [
    "# Double check to make sure any NaNs are set to 0\n",
    "vtsconvert = pd.DataFrame(vts)\n",
    "vtsconvert = vtsconvert.fillna(0)\n",
    "vtsconvert = vtsconvert.astype(float)\n",
    "vtslist = vtsconvert[0].tolist()"
   ]
  },
  {
   "cell_type": "code",
   "execution_count": 89,
   "metadata": {},
   "outputs": [
    {
     "name": "stderr",
     "output_type": "stream",
     "text": [
      "100%|██████████| 43806/43806 [00:00<00:00, 71223.50it/s]\n"
     ]
    }
   ],
   "source": [
    "# calculate our coefficients of drag\n",
    "drags = []\n",
    "count = 0\n",
    "for msec in tqdm(range(len(vtslist))):\n",
    "    msecs = drag_interp(vtslist[count])\n",
    "    drags.append(msecs)\n",
    "    count += 1\n",
    "\n",
    "# Assigning the values of the `drags` variable to the `throws[\"coeff_drag\"]` column.\n",
    "throws[\"coeff_drag\"] = drags"
   ]
  },
  {
   "cell_type": "code",
   "execution_count": 91,
   "metadata": {},
   "outputs": [],
   "source": [
    "# Most baseball pitches have backspin. Curveballs and sliders have topspin. We're setting a bool for backspin based on pitch name so that we can either add or subtract our magnus forces from the final vy; backspin adds lift, topspin instead adds to our downward forces. This is very reductive. But it's not nothing. And something is almost always better than nothing.\n",
    "\n",
    "# I don't know if it's easiest to write a little function to classify our pitches and throw the return into a new column, but that's what we're doing.\n",
    "\n",
    "\n",
    "def pitch(row):\n",
    "    try:\n",
    "        if row[\"pitch_name\"] == \"Curveball\" or row[\"pitch_name\"] == \"Slider\":\n",
    "            return \"0\"\n",
    "        else:\n",
    "            return \"1\"\n",
    "    except:\n",
    "        pass"
   ]
  },
  {
   "cell_type": "code",
   "execution_count": 92,
   "metadata": {},
   "outputs": [],
   "source": [
    "# Applying the function `pitch` to each row of the dataframe `throws` and assigning the result to a new column in `throws` called `backspin`.\n",
    "throws[\"backspin\"] = throws.apply(pitch, axis=1)"
   ]
  },
  {
   "cell_type": "code",
   "execution_count": 93,
   "metadata": {},
   "outputs": [],
   "source": [
    "# Setting the coefficient of lift to 0.22, which we'll overwrite with actual values in the next cell. This is a fallback in case anything breaks. 0.22 is a reasonable value.\n",
    "throws[\"coeff_lift\"] = 0.22"
   ]
  },
  {
   "cell_type": "code",
   "execution_count": 94,
   "metadata": {},
   "outputs": [
    {
     "name": "stderr",
     "output_type": "stream",
     "text": [
      "100%|██████████| 43806/43806 [00:03<00:00, 13810.42it/s]\n"
     ]
    }
   ],
   "source": [
    "# Coefficient of lift is proportional to spin factor, but the relationship isn't linear. Per the NASA charts from a year ago in this repo + our good friend Allen + other references linked above, if the spin factor is <= 0.1, C_l is `~1.6 * spin_factor`; else, `c_l is ~0.6 * spin_factor + 0.1`. Again, close approximations.\n",
    "\n",
    "cls = []\n",
    "for throw in tqdm(range(len(throws))):\n",
    "    sfactor = throws.iloc[throw][\"spin_factor\"]\n",
    "    if sfactor <= 0.1:\n",
    "        cl = 1.6 * sfactor\n",
    "    else:\n",
    "        cl = 0.6 * sfactor + 0.1\n",
    "    cls.append(cl)"
   ]
  },
  {
   "cell_type": "code",
   "execution_count": 95,
   "metadata": {},
   "outputs": [],
   "source": [
    "# Adding a new key to the dictionary `throws` and assigning it the value `cls`.\n",
    "throws[\"coeff_lift\"] = cls"
   ]
  },
  {
   "cell_type": "code",
   "execution_count": 96,
   "metadata": {},
   "outputs": [
    {
     "name": "stderr",
     "output_type": "stream",
     "text": [
      "100%|██████████| 43806/43806 [00:06<00:00, 6903.35it/s]\n"
     ]
    }
   ],
   "source": [
    "# adding our drag forces in the same fashion as we did our lift coefficients\n",
    "drags = []\n",
    "for throw in tqdm(range(len(throws))):\n",
    "    cd = throws.iloc[throw][\"coeff_drag\"]\n",
    "    vtm = throws.iloc[throw][\"vt_msec\"]\n",
    "    dforce = -0.5 * cd * P * A * vtm**2\n",
    "    drags.append(dforce)\n",
    "throws[\"drag_force\"] = drags"
   ]
  },
  {
   "cell_type": "code",
   "execution_count": 97,
   "metadata": {},
   "outputs": [
    {
     "name": "stderr",
     "output_type": "stream",
     "text": [
      "100%|██████████| 43806/43806 [00:06<00:00, 6931.15it/s]\n"
     ]
    }
   ],
   "source": [
    "# same with magnus forces. These are the actual acceleration values. Ta-Da!\n",
    "magni = []\n",
    "for throw in tqdm(range(len(throws))):\n",
    "    cl = throws.iloc[throw][\"coeff_lift\"]\n",
    "    vtm = throws.iloc[throw][\"vt_msec\"]\n",
    "    magnus = 0.5 * cl * P * A * vtm**2\n",
    "    magni.append(magnus)\n",
    "throws[\"magnus\"] = magni"
   ]
  },
  {
   "cell_type": "code",
   "execution_count": 98,
   "metadata": {},
   "outputs": [
    {
     "name": "stderr",
     "output_type": "stream",
     "text": [
      "100%|██████████| 43806/43806 [00:15<00:00, 2771.92it/s]\n"
     ]
    }
   ],
   "source": [
    "# Same deal but for $fx$\n",
    "fxes = []\n",
    "for throw in tqdm(range(len(throws))):\n",
    "    cl = throws.iloc[throw][\"coeff_lift\"]\n",
    "    vtm = throws.iloc[throw][\"vt_msec\"]\n",
    "    df = throws.iloc[throw][\"drag_force\"]\n",
    "    vy = throws.iloc[throw][\"vy\"]\n",
    "    vy = throws.iloc[throw][\"vx\"]\n",
    "    fx = -np.pi / 2 * P * R**2 * vtm * (cl + vy) + (df * vx)\n",
    "    fxes.append(fx)\n",
    "throws[\"fx\"] = fxes"
   ]
  },
  {
   "cell_type": "code",
   "execution_count": 99,
   "metadata": {},
   "outputs": [
    {
     "name": "stderr",
     "output_type": "stream",
     "text": [
      "100%|██████████| 43806/43806 [00:19<00:00, 2292.31it/s]\n"
     ]
    }
   ],
   "source": [
    "# and $fy$\n",
    "fyes = []\n",
    "\n",
    "for throw in tqdm(range(len(throws))):\n",
    "    backspin = throws.iloc[throw][\"backspin\"]\n",
    "    cl = throws.iloc[throw][\"coeff_lift\"]\n",
    "    vtm = throws.iloc[throw][\"vt_msec\"]\n",
    "    df = throws.iloc[throw][\"drag_force\"]\n",
    "    vy = throws.iloc[throw][\"vy\"]\n",
    "    vy = throws.iloc[throw][\"vx\"]\n",
    "    if backspin == 1:\n",
    "        fy = -np.pi / 2 * P * R**2 * vtm * (cl * vx) - (df * vy) - M * g\n",
    "    else:\n",
    "        fy = -np.pi / 2 * P * R**2 * vtm * (-cl * vx) - (df * vy) - M * g\n",
    "    fyes.append(fy)\n",
    "throws[\"fy\"] = fyes"
   ]
  },
  {
   "cell_type": "code",
   "execution_count": 100,
   "metadata": {},
   "outputs": [],
   "source": [
    "# Okay, it's just about showtime.\n",
    "\n",
    "from numpy import pi, deg2rad\n",
    "\n",
    "\n",
    "def make_system(params):\n",
    "\n",
    "    # convert angle to degrees\n",
    "    theta = deg2rad(params.angle)\n",
    "\n",
    "    # compute x and y components of velocity, id'd by our counter\n",
    "    vx = throws.iloc[throw][\"vx\"]\n",
    "    vy = throws.iloc[throw][\"vy\"]\n",
    "\n",
    "    # make the initial state\n",
    "    init = State(x=params.x, y=params.y, vx=vx, vy=vy)\n",
    "\n",
    "    # compute the frontal area\n",
    "    area = pi * (params.diameter / 2) ** 2\n",
    "\n",
    "    return System(params, init=init, area=area)"
   ]
  },
  {
   "cell_type": "code",
   "execution_count": 101,
   "metadata": {},
   "outputs": [],
   "source": [
    "# Defining the slope function that incorporates our magnus forces.\n",
    "def slope_func(t, state, system):\n",
    "    x, y, vx, vy = state\n",
    "    mass, g = system.mass, system.g\n",
    "\n",
    "    V = Vector(vx, vy)\n",
    "    a_drag = throws.iloc[throw][\"drag_force\"]\n",
    "    a_grav = g * Vector(0, -1)\n",
    "    a_lift = throws.iloc[throw][\"magnus\"]\n",
    "\n",
    "    A = a_grav + a_drag + a_lift\n",
    "\n",
    "    return V.x, V.y, A.x, A.y"
   ]
  },
  {
   "cell_type": "code",
   "execution_count": 102,
   "metadata": {},
   "outputs": [],
   "source": [
    "def event_func(t, state, system):\n",
    "    x, y, vx, vy = state\n",
    "    return y"
   ]
  },
  {
   "cell_type": "code",
   "execution_count": 103,
   "metadata": {},
   "outputs": [],
   "source": [
    "results, details = run_solve_ivp(system, slope_func, events=event_func)"
   ]
  },
  {
   "cell_type": "code",
   "execution_count": 104,
   "metadata": {},
   "outputs": [
    {
     "data": {
      "text/plain": [
       "43806"
      ]
     },
     "execution_count": 104,
     "metadata": {},
     "output_type": "execute_result"
    }
   ],
   "source": [
    "# Final drop of anything that didn't make it this far. You're welcome, Max.\n",
    "throws = throws[throws[\"backspin\"].notna()]\n",
    "throws = throws[throws[\"coeff_lift\"].notna()]\n",
    "len(throws)"
   ]
  },
  {
   "cell_type": "code",
   "execution_count": 184,
   "metadata": {},
   "outputs": [
    {
     "name": "stderr",
     "output_type": "stream",
     "text": [
      "100%|██████████| 43806/43806 [13:08<00:00, 55.57it/s]\n"
     ]
    }
   ],
   "source": [
    "# Grab a chocolate milk, this'll take 20-30 minutes, probably.\n",
    "# [Trajectories] will be a list of DataFrames where each DataFrame describes the trajectory of one throw — for all throws. Neat.\n",
    "flight_times = []\n",
    "x_dists = []\n",
    "y_dists = []\n",
    "vx_finals = []\n",
    "vy_finals = []\n",
    "final_vs = []\n",
    "trajectories = []\n",
    "count = -1\n",
    "# for throw in tqdm(range(10)):\n",
    "for throw in tqdm(range(len(throws))):\n",
    "    backspin = throws.iloc[throw][\"backspin\"]\n",
    "    Cl = throws.iloc[throw][\"coeff_lift\"]\n",
    "    Cd = throws.iloc[throw][\"coeff_drag\"]\n",
    "    vtm = throws.iloc[throw][\"vt_msec\"]\n",
    "    df = throws.iloc[throw][\"drag_force\"]\n",
    "    vy = throws.iloc[throw][\"vy\"]\n",
    "    vy = throws.iloc[throw][\"vx\"]\n",
    "\n",
    "    params = Params(\n",
    "        x=0,  # m\n",
    "        y=1.7343,  # m\n",
    "        angle=45,  # degree\n",
    "        speed=vtm,  # m / s\n",
    "        mass=145e-3,  # kg\n",
    "        diameter=73e-3,  # m\n",
    "        C_d=Cd,\n",
    "        C_l=Cl,\n",
    "        rho=1.225,  # kg/m**3\n",
    "        g=9.806,  # m/s**2\n",
    "        t_end=10,  # s\n",
    "    )\n",
    "\n",
    "    system = make_system(params)\n",
    "\n",
    "    results, details = run_solve_ivp(system, slope_func, events=event_func)\n",
    "\n",
    "    flight_time = results.index[-1]\n",
    "    flight_times.append(flight_time)\n",
    "\n",
    "    final_state = results.iloc[-1]\n",
    "    x_dist = final_state.x\n",
    "    y_dist = final_state.y\n",
    "    vx_final = final_state.vx\n",
    "    vy_final = final_state.vy\n",
    "\n",
    "    x_dists.append(x_dist)\n",
    "    y_dists.append(y_dist)\n",
    "    vx_finals.append(vx_final)\n",
    "    vy_finals.append(vy_final)\n",
    "\n",
    "    final_V = Vector(final_state.vx, final_state.vy)\n",
    "    final_vs.append(final_V)\n",
    "\n",
    "    trajectory = {\n",
    "        \"throw\": throw,\n",
    "        \"x\": results[\"x\"],\n",
    "        \"y\": results[\"y\"],\n",
    "        \"vx\": results[\"vx\"],\n",
    "        \"vy\": results[\"vy\"],\n",
    "    }\n",
    "    count += 1\n",
    "\n",
    "    count = pd.DataFrame(trajectory)\n",
    "    trajectories.append(count)"
   ]
  },
  {
   "cell_type": "code",
   "execution_count": 186,
   "metadata": {},
   "outputs": [
    {
     "data": {
      "text/plain": [
       "5193054.656288235"
      ]
     },
     "execution_count": 186,
     "metadata": {},
     "output_type": "execute_result"
    }
   ],
   "source": [
    "# This is how far Max would travel. In meters. It's about 3300 miles.\n",
    "throws[\"x_dist\"].sum()"
   ]
  },
  {
   "cell_type": "code",
   "execution_count": 190,
   "metadata": {},
   "outputs": [
    {
     "data": {
      "image/png": "[encoded data removed]",
      "text/plain": [
       "<Figure size 432x288 with 1 Axes>"
      ]
     },
     "metadata": {
      "needs_background": "light"
     },
     "output_type": "display_data"
    }
   ],
   "source": [
    "# And just for funsies, here's the plotted trajectory of one of his pitches.\n",
    "def plot_trajectory(results):\n",
    "    x = results.x\n",
    "    y = results.y\n",
    "    make_series(x, y).plot(label=\"trajectory\")\n",
    "\n",
    "    decorate(xlabel=\"x position (m)\", ylabel=\"y position (m)\")\n",
    "\n",
    "\n",
    "plot_trajectory(results)"
   ]
  },
  {
   "cell_type": "code",
   "execution_count": null,
   "metadata": {},
   "outputs": [],
   "source": []
  }
 ],
 "metadata": {
  "kernelspec": {
   "display_name": "Python 3.10.3 64-bit ('3.10.3')",
   "language": "python",
   "name": "python3"
  },
  "language_info": {
   "codemirror_mode": {
    "name": "ipython",
    "version": 3
   },
   "file_extension": ".py",
   "mimetype": "text/x-python",
   "name": "python",
   "nbconvert_exporter": "python",
   "pygments_lexer": "ipython3",
   "version": "3.10.3"
  },
  "orig_nbformat": 4,
  "vscode": {
   "interpreter": {
    "hash": "3280a5c19434cbc82fb6e82caf2950e6253141448cd2a2b59e11344ef7d94342"
   }
  }
 },
 "nbformat": 4,
 "nbformat_minor": 2
}
